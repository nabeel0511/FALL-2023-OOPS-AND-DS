{
 "cells": [
  {
   "cell_type": "markdown",
   "metadata": {},
   "source": [
    "<h3 style=\"color:Black; text-align:center;\"><i>EEDJ Classes</i></h3>\n",
    "<p></p>"
   ]
  },
  {
   "cell_type": "markdown",
   "metadata": {},
   "source": [
    "\n",
    "<div style=\"font-family: Arial, sans-serif; font-size: 30px; color:rgb(193, 107, 46);\">\n",
    "\n",
    "### **Student Information**\n",
    "- **Name:** _Nabeel Ahmad_\n",
    "- **Registration Number:** _23JZLELE0511_\n",
    "- **Prepared By:** _Nabeel Ahmad and Shakir Ullah_\n",
    "- **Section:** _A_\n",
    "\n",
    "</div>"
   ]
  },
  {
   "cell_type": "code",
   "execution_count": 8,
   "metadata": {},
   "outputs": [],
   "source": [
    "class EEDJ_Employee:\n",
    "    def __init__(self, id, name, position, workload, scale, b_pay):\n",
    "        self.id = id\n",
    "        self.name = name \n",
    "        self.position = position \n",
    "        self.workload = workload \n",
    "        self.scale = scale\n",
    "        self.b_pay = b_pay\n",
    "\n",
    "    def __str__(self):\n",
    "        return f\"Employee ID: {self.id}, Name: {self.name}, Position: {self.position}, Workload: {self.workload}-Hours, Scale: {self.scale}, Base Pay: {self.b_pay}\"\n",
    "\n",
    "#-------------------------------------------------------------------------------------------------------------------------------------------------------------------\n",
    "\n",
    "class Faculty(EEDJ_Employee):\n",
    "    def __init__(self, id, name, position, workload, scale, b_pay, research, subject, experiance, teach_mode):\n",
    "        super().__init__(id, name, position, workload, scale, b_pay)\n",
    "        self.research = research\n",
    "        self.subject = subject\n",
    "        self.experiance = experiance\n",
    "        self.teach_mode = teach_mode\n",
    "\n",
    "    def __str__(self):\n",
    "        return super().__str__() + f\", Research: {self.research}, Subject: {self.subject}, Experience: {self.experiance} years, Teach Mode: {self.teach_mode}\"\n",
    "\n",
    "class Professor(Faculty):\n",
    "    def __init__(self, id, name, position, workload, scale, b_pay, research, subject, experiance, teach_mode):\n",
    "        super().__init__(id, name, position, workload, scale, b_pay, research, subject, experiance, teach_mode)\n",
    "    \n",
    "    def __str__(self):\n",
    "        return super().__str__()\n",
    "\n",
    "class Associate_Prof(Faculty):\n",
    "    def __init__(self, id, name, position, workload, scale, b_pay, research, subject, experiance, teach_mode):\n",
    "        super().__init__(id, name, position, workload, scale, b_pay, research, subject, experiance, teach_mode)\n",
    "    \n",
    "    def __str__(self):\n",
    "        return super().__str__()\n",
    "\n",
    "class Assistant_Prof(Faculty):\n",
    "    def __init__(self, id, name, position, workload, scale, b_pay, research, subject, experiance, teach_mode):\n",
    "        super().__init__(id, name, position, workload, scale, b_pay, research, subject, experiance, teach_mode)\n",
    "    \n",
    "    def __str__(self):\n",
    "        return super().__str__()\n",
    "\n",
    "class Lecturer(Faculty):\n",
    "    def __init__(self, id, name, position, workload, scale, b_pay, research, subject, experiance, teach_mode):\n",
    "        super().__init__(id, name, position, workload, scale, b_pay, research, subject, experiance, teach_mode)\n",
    "    \n",
    "    def __str__(self):\n",
    "        return super().__str__()\n",
    "# ---------------------------------------------------------------------------------------------------------------------------------------------------------------\n",
    "\n",
    "class Admin(EEDJ_Employee):\n",
    "    def __init__(self, id, name, position, workload, scale, b_pay, lab_name=\"\", lab_capacity=0):\n",
    "        super().__init__(id, name, position, workload, scale, b_pay)\n",
    "        self.lab_name = lab_name\n",
    "        self.lab_capacity = lab_capacity\n",
    "\n",
    "    def __str__(self):\n",
    "        return super().__str__() + f\", Lab Name: {self.lab_name}, Lab Capacity: {self.lab_capacity}\"\n",
    "\n",
    "class Lab_Engr(Admin):\n",
    "    def __init__(self, id, name, position, workload, scale, b_pay, lab_name, lab_capacity,lab_subject):\n",
    "        super().__init__(id, name, position, workload, scale, b_pay, lab_name, lab_capacity)\n",
    "        self.lab_subject = lab_subject\n",
    "    \n",
    "    def __str__(self):\n",
    "        return super().__str__() + f\", Lab Subject: {self.lab_subject}\"\n",
    "\n",
    "class Lab_Technician(Admin):\n",
    "    def __init__(self, id, name, position, workload, scale, b_pay, lab_name, lab_capacity,basic_lab):\n",
    "        super().__init__(id, name, position, workload, scale, b_pay, lab_name, lab_capacity)\n",
    "        self.basic_lab = basic_lab\n",
    "        \n",
    "    def __str__(self):\n",
    "        return super().__str__() + f\", Basic Lab : {self.basic_lab}\"\n",
    "\n",
    "class Lab_Assistant(Admin):\n",
    "    def __init__(self, id, name, position, workload, scale, b_pay, lab_name, lab_capacity,equipment_handle):\n",
    "        super().__init__(id, name, position, workload, scale, b_pay, lab_name, lab_capacity)\n",
    "        self.equipment_handle = equipment_handle\n",
    "\n",
    "    def __str__(self):\n",
    "        return super().__str__() + f\", Equipment Handle: {self.equipment_handle}\"\n",
    "\n",
    "class Lab_Attendant(Admin):\n",
    "    def __init__(self, id, name, position, workload, scale, b_pay, lab_name, lab_capacity):\n",
    "        super().__init__(id, name, position, workload, scale, b_pay, lab_name, lab_capacity)\n",
    "\n",
    "    def __str__(self):\n",
    "        return super().__str__()\n",
    "    \n",
    "#-------------------------------------------------------------------------------------------------------------------------------------------------------------------------------"
   ]
  },
  {
   "cell_type": "code",
   "execution_count": 9,
   "metadata": {},
   "outputs": [],
   "source": [
    "class Chairman(Faculty, Admin):\n",
    "    def __init__(self, id, name, position, workload, scale, b_pay, research, subject, experiance, teach_mode, lab_name, lab_capacity=0):\n",
    "        Faculty.__init__(self, id, name, position, workload, scale, b_pay, research, subject, experiance, teach_mode)\n",
    "        Admin.__init__(self, id, name, position, workload, scale, b_pay, lab_name, lab_capacity=0)\n",
    "\n",
    "    def __str__(self):\n",
    "        return (super(Faculty, self).__str__() + f\", Lab Name: {self.lab_name}, Lab Capacity: {self.lab_capacity}\")"
   ]
  },
  {
   "cell_type": "code",
   "execution_count": 10,
   "metadata": {},
   "outputs": [],
   "source": [
    "# Objects For Faculty\n",
    "A = Professor(1, \"Dr Qaisar Ali\", \"Professor\", 8, 21, 300000, \"Electrical Machine\", \"Signal and System\", \"12 Years\", \"Multimedia\")\n",
    "B = Associate_Prof(2, \"Akhtar Nawaz\", \"Associate Professor\", 10, 20, 250000, \"Power Analysis\", \"Circuit Analysis\", \"15 Years\", \"White Board\")\n",
    "C = Assistant_Prof(3, \"Waqas Imtiaz\", \"Assistant Professor\", 12, 19, 200000, \"Electric Cars\", \"Circuit Analysis\", \"5 Years\", \"Projector\")\n",
    "D = Lecturer(4, \"Irshad Ullah Sir\", \"Lecturer\", 14, 18, 100000, \"Renewable Energy\", \"OPPs And Ds\", \"7 Years\", \"Projector\")"
   ]
  },
  {
   "cell_type": "code",
   "execution_count": 11,
   "metadata": {},
   "outputs": [],
   "source": [
    "# Objects For Admin\n",
    "E = Lab_Engr(5, \"Waqar Hussain\", \"Lab Engineer\", 18, 17, 150000, \"Instrumentation\", 60, \"Circuit-1\")\n",
    "F = Lab_Technician(6, \"Wajid Ali\", \"Lab Technician\", 16, 16, 100000, \"Electronics Lab\", 50, \"DLD\")\n",
    "G = Lab_Assistant(7, \"M.Haris\", \"Lab Assistant\", 15, 16, 70000, \"Power Engineering Lab\", 54, \"AutoCAD\")\n",
    "H = Lab_Attendant(8, \"Shahzaib Khan\", \"Lab Attendant\", 14, 15, 50000, \"Computer Lab\", 33)"
   ]
  },
  {
   "cell_type": "code",
   "execution_count": 12,
   "metadata": {},
   "outputs": [],
   "source": [
    "# Object For Chairman Class\n",
    "I = Chairman(9, \"Amjad Ali\", \"Chairman\", 8, 20, 270000, \"AI\", \"Engineering Economics\", \"12-Years\", \"Multimedia\", \"Circuit-II\", 30)"
   ]
  },
  {
   "cell_type": "code",
   "execution_count": 13,
   "metadata": {},
   "outputs": [],
   "source": [
    "# List of objects\n",
    "employees = [\n",
    "    Professor(1, \"Dr Qaisar Ali\", \"Professor\", 8, 21, 300000, \"Electrical Machine\", \"Signal and System\", \"12 Years\", \"Multimedia\"),\n",
    "    Associate_Prof(2, \"Akhtar Nawaz\", \"Associate Professor\", 10, 20, 250000, \"Power Analysis\", \"Circuit Analysis\", \"15 Years\", \"White Board\"),\n",
    "    Assistant_Prof(3, \"Waqas Imtiaz\", \"Assistant Professor\", 12, 19, 200000, \"Electric Cars\", \"Circuit Analysis\", \"5 Years\", \"Projector\"),\n",
    "    Lecturer(4, \"Irshad Ullah Sir\", \"Lecturer\", 14, 18, 100000, \"Renewable Energy\", \"OPPs And Ds\", \"7 Years\", \"Projector\"),\n",
    "    Lab_Engr(5, \"Waqar Hussain\", \"Lab Engineer\", 18, 17, 150000, \"Instrumentation\", 60, \"Circuit-1\"),\n",
    "    Lab_Technician(6, \"Wajid Ali\", \"Lab Technician\", 16, 16, 100000, \"Electronics Lab\", 50, \"DLD\"),\n",
    "    Lab_Assistant(7, \"M.Haris\", \"Lab Assistant\", 15, 16, 70000, \"Power Engineering Lab\", 54, \"AutoCAD\"),\n",
    "    Lab_Attendant(8, \"Shahzaib Khan\", \"Lab Attendant\", 14, 15, 50000, \"Computer Lab\", 33),\n",
    "    Chairman(9, \"Amjad Ali\", \"Chairman\", 8, 20, 270000, \"AI\", \"Engineering Economics\", \"12-Years\", \"Multimedia\", \"Circuit-II\", 30)\n",
    "]"
   ]
  },
  {
   "cell_type": "code",
   "execution_count": 14,
   "metadata": {},
   "outputs": [
    {
     "name": "stdout",
     "output_type": "stream",
     "text": [
      "Employee ID: 1, Name: Dr Qaisar Ali, Position: Professor, Workload: 8-Hours, Scale: 21, Base Pay: 300000, Research: Electrical Machine, Subject: Signal and System, Experience: 12 Years years, Teach Mode: Multimedia\n",
      "Employee ID: 2, Name: Akhtar Nawaz, Position: Associate Professor, Workload: 10-Hours, Scale: 20, Base Pay: 250000, Research: Power Analysis, Subject: Circuit Analysis, Experience: 15 Years years, Teach Mode: White Board\n",
      "Employee ID: 3, Name: Waqas Imtiaz, Position: Assistant Professor, Workload: 12-Hours, Scale: 19, Base Pay: 200000, Research: Electric Cars, Subject: Circuit Analysis, Experience: 5 Years years, Teach Mode: Projector\n",
      "Employee ID: 4, Name: Irshad Ullah Sir, Position: Lecturer, Workload: 14-Hours, Scale: 18, Base Pay: 100000, Research: Renewable Energy, Subject: OPPs And Ds, Experience: 7 Years years, Teach Mode: Projector\n",
      "Employee ID: 5, Name: Waqar Hussain, Position: Lab Engineer, Workload: 18-Hours, Scale: 17, Base Pay: 150000, Lab Name: Instrumentation, Lab Capacity: 60, Lab Subject: Circuit-1\n",
      "Employee ID: 6, Name: Wajid Ali, Position: Lab Technician, Workload: 16-Hours, Scale: 16, Base Pay: 100000, Lab Name: Electronics Lab, Lab Capacity: 50, Basic Lab : DLD\n",
      "Employee ID: 7, Name: M.Haris, Position: Lab Assistant, Workload: 15-Hours, Scale: 16, Base Pay: 70000, Lab Name: Power Engineering Lab, Lab Capacity: 54, Equipment Handle: AutoCAD\n",
      "Employee ID: 8, Name: Shahzaib Khan, Position: Lab Attendant, Workload: 14-Hours, Scale: 15, Base Pay: 50000, Lab Name: Computer Lab, Lab Capacity: 33\n",
      "Employee ID: 9, Name: Amjad Ali, Position: Chairman, Workload: 8-Hours, Scale: 20, Base Pay: 270000, Lab Name: Circuit-II, Lab Capacity: 0, Lab Name: Circuit-II, Lab Capacity: 0\n"
     ]
    }
   ],
   "source": [
    "# Print all objects\n",
    "for employee in employees:\n",
    "    print(employee)"
   ]
  },
  {
   "cell_type": "code",
   "execution_count": null,
   "metadata": {},
   "outputs": [],
   "source": []
  }
 ],
 "metadata": {
  "kernelspec": {
   "display_name": "base",
   "language": "python",
   "name": "python3"
  },
  "language_info": {
   "codemirror_mode": {
    "name": "ipython",
    "version": 3
   },
   "file_extension": ".py",
   "mimetype": "text/x-python",
   "name": "python",
   "nbconvert_exporter": "python",
   "pygments_lexer": "ipython3",
   "version": "3.12.4"
  }
 },
 "nbformat": 4,
 "nbformat_minor": 4
}
