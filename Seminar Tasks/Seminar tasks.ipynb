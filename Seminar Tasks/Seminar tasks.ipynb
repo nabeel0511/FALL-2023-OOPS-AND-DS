{
 "cells": [
  {
   "cell_type": "markdown",
   "id": "75e2ad65-13a1-4126-9cbd-82c008bb308f",
   "metadata": {},
   "source": [
    "# TASK 01"
   ]
  },
  {
   "cell_type": "code",
   "execution_count": 2,
   "id": "17aefa99-2ed7-45a7-9610-e1002ee08b93",
   "metadata": {},
   "outputs": [
    {
     "name": "stdout",
     "output_type": "stream",
     "text": [
      "1\n",
      "2\n",
      "3\n",
      "4\n",
      "5\n",
      "6\n",
      "7\n",
      "8\n",
      "9\n",
      "10\n"
     ]
    }
   ],
   "source": [
    "# Print numbers from 1 to 10 using a for loop.\n",
    "for i in range (1,11):\n",
    "    print (i)"
   ]
  },
  {
   "cell_type": "markdown",
   "id": "6146d697-4cf0-4372-8da3-4bb8fc6230c0",
   "metadata": {},
   "source": [
    "# TASK 02"
   ]
  },
  {
   "cell_type": "code",
   "execution_count": 3,
   "id": "3aa3a111-7a3b-457d-91b7-c623d8f84353",
   "metadata": {},
   "outputs": [
    {
     "name": "stdout",
     "output_type": "stream",
     "text": [
      "3 x 1 = 3\n",
      "3 x 2 = 6\n",
      "3 x 3 = 9\n",
      "3 x 4 = 12\n",
      "3 x 5 = 15\n",
      "3 x 6 = 18\n",
      "3 x 7 = 21\n",
      "3 x 8 = 24\n",
      "3 x 9 = 27\n",
      "3 x 10 = 30\n"
     ]
    }
   ],
   "source": [
    "# Print a multiplication table for a given number (3) using a for loop.\n",
    "num = 3\n",
    "for i in range(1,11):\n",
    "    print(f\"{num} x {i} = {num*i}\")"
   ]
  },
  {
   "cell_type": "markdown",
   "id": "9b82249e-0aa7-4838-9056-6b97eab119aa",
   "metadata": {},
   "source": [
    "# TASK 03"
   ]
  },
  {
   "cell_type": "code",
   "execution_count": 4,
   "id": "9b8a37f6-48d2-4b34-ad94-daaf54f2188e",
   "metadata": {},
   "outputs": [],
   "source": [
    "# Create a function to add two numbers.\n",
    "def addition(num1,num2):\n",
    "    c = num1 + num2\n",
    "    return c"
   ]
  },
  {
   "cell_type": "code",
   "execution_count": 5,
   "id": "3f063c35-8388-43b7-b1a5-c3fef204356e",
   "metadata": {},
   "outputs": [
    {
     "name": "stdout",
     "output_type": "stream",
     "text": [
      "11\n"
     ]
    }
   ],
   "source": [
    "A = addition (5,6)\n",
    "print (A)"
   ]
  },
  {
   "cell_type": "markdown",
   "id": "703ad8e1-dc3b-4482-8113-ce8f8c04f87d",
   "metadata": {},
   "source": [
    "# TASK 04"
   ]
  },
  {
   "cell_type": "code",
   "execution_count": 6,
   "id": "5e69dc15-f664-4400-8133-799950f432c9",
   "metadata": {},
   "outputs": [
    {
     "name": "stdout",
     "output_type": "stream",
     "text": [
      "36\n"
     ]
    }
   ],
   "source": [
    "# Use a lambda function to find the square of a number.\n",
    "square = lambda x: x**2\n",
    "print (square(6))"
   ]
  },
  {
   "cell_type": "markdown",
   "id": "0f80d1db-4b75-4025-8f65-a3dc56933c8e",
   "metadata": {},
   "source": [
    "# TASK 05"
   ]
  },
  {
   "cell_type": "code",
   "execution_count": null,
   "id": "4e72d415-cd54-4e99-b268-001d2affcaee",
   "metadata": {},
   "outputs": [
    {
     "name": "stdout",
     "output_type": "stream",
     "text": [
      "My name is Nabeel, I am 19 years old and my height is 5.9\n"
     ]
    }
   ],
   "source": [
    "# Use f-strings to insert a variable in a sentence.\n",
    "name = \"Nabeel\"\n",
    "age = 19\n",
    "height = 5.9\n",
    "sentence = (f\"My name is {name}, I am {age} years old and my height is {height}\")\n",
    "print (sentence)\n"
   ]
  },
  {
   "cell_type": "code",
   "execution_count": null,
   "id": "199581f2-3be7-4b57-a83f-ea8f341b0977",
   "metadata": {},
   "outputs": [],
   "source": []
  }
 ],
 "metadata": {
  "kernelspec": {
   "display_name": "base",
   "language": "python",
   "name": "python3"
  },
  "language_info": {
   "codemirror_mode": {
    "name": "ipython",
    "version": 3
   },
   "file_extension": ".py",
   "mimetype": "text/x-python",
   "name": "python",
   "nbconvert_exporter": "python",
   "pygments_lexer": "ipython3",
   "version": "3.12.4"
  }
 },
 "nbformat": 4,
 "nbformat_minor": 5
}
