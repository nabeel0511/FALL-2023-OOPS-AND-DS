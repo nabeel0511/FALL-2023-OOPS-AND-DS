{
 "cells": [
  {
   "cell_type": "markdown",
   "metadata": {},
   "source": [
    "<div\n",
    "    style=\"\n",
    "        margin: 50px auto;\n",
    "        padding: 20px 15px;\n",
    "        border-radius: 20px;\n",
    "        background: linear-gradient(135deg, #f9f9f9, #ffffff);\n",
    "        max-width: 900px; /* Increased width */\n",
    "        box-shadow: 0 8px 20px rgba(0, 0, 0, 0.1);\n",
    "        text-align: center;\n",
    "    \"\n",
    ">\n",
    "    <h1\n",
    "        style=\"\n",
    "            font-family: 'Times New Roman', serif;\n",
    "            font-size: 30px;\n",
    "            color: #2c3e50;\n",
    "            text-transform: uppercase;\n",
    "            font-weight: bold;\n",
    "            letter-spacing: 2px;\n",
    "            margin-bottom: 15px;\n",
    "        \"\n",
    "    >\n",
    "        University of Engineering and Technology Peshawar\n",
    "    </h1>\n",
    "    <h2\n",
    "        style=\"\n",
    "            font-family: 'Georgia', serif;\n",
    "            font-size: 24px;\n",
    "            color: #34495e;\n",
    "            margin-top: 5px;\n",
    "            font-style: italic;\n",
    "        \"\n",
    "    >\n",
    "        Jalozai Campus\n",
    "    </h2>\n",
    "    \n",
    "</div>"
   ]
  },
  {
   "cell_type": "markdown",
   "metadata": {},
   "source": [
    "<div\n",
    "    style=\"\n",
    "        margin: 50px auto;\n",
    "        padding: 30px 20px;\n",
    "        border-radius: 20px;\n",
    "        background: linear-gradient(135deg, #f3f4f6, #ffffff);\n",
    "        max-width: 800px;\n",
    "        box-shadow: 0 10px 25px rgba(0, 0, 0, 0.15);\n",
    "        text-align: center;\n",
    "        border: 1px solid #e0e0e0;\n",
    "    \"\n",
    ">\n",
    "    <h1\n",
    "        style=\"\n",
    "            font-family: 'Times New Roman', serif;\n",
    "            font-size: 32px;\n",
    "            color: #2c3e50;\n",
    "            text-transform: capitalize;\n",
    "            font-weight: bold;\n",
    "            letter-spacing: 1.5px;\n",
    "            margin-bottom: 20px;\n",
    "        \"\n",
    "    >\n",
    "        Lab Title: EE-271 “OOP & Data Structures Lab”\n",
    "    </h1>\n",
    "</div>"
   ]
  },
  {
   "cell_type": "markdown",
   "metadata": {},
   "source": [
    "<div\n",
    "    style=\"\n",
    "        margin: 50px auto;\n",
    "        padding: 30px 20px;\n",
    "        border-radius: 20px;\n",
    "        background: linear-gradient(135deg, #f3f4f6, #ffffff);\n",
    "        max-width: 800px;\n",
    "        box-shadow: 0 10px 25px rgba(0, 0, 0, 0.15);\n",
    "        text-align: center;\n",
    "        border: 1px solid #e0e0e0;\n",
    "    \"\n",
    ">\n",
    "    <h1\n",
    "        style=\"\n",
    "            font-family: 'Times New Roman', serif;\n",
    "            font-size: 32px;\n",
    "            color: #2c3e50;\n",
    "            text-transform: capitalize;\n",
    "            font-weight: bold;\n",
    "            letter-spacing: 1.5px;\n",
    "            margin-bottom: 20px;\n",
    "        \"\n",
    "    >\n",
    "        Lab 4: Classes, objects, and instances     \n",
    "    </h1>\n",
    "</div>"
   ]
  },
  {
   "cell_type": "markdown",
   "metadata": {},
   "source": [
    "## Prepared By: Nabeel Ahmad"
   ]
  },
  {
   "cell_type": "markdown",
   "metadata": {},
   "source": [
    "-----------------------"
   ]
  },
  {
   "cell_type": "markdown",
   "metadata": {},
   "source": [
    "<span style=\"color: #000000;\n",
    "font-size: 44px;\n",
    "transition: color 0.3s;\">&#x21DD; </span>\n",
    "<span style=\"color: #ff0000;\n",
    "    font-family: Arial Black;\n",
    "font-size: 35px; font-weight: bold; \n",
    "text-shadow: 0px 4px 2px rgb(0, 0, 0);\">\n",
    "    Lab Report Tasks :</span>"
   ]
  },
  {
   "cell_type": "code",
   "execution_count": 19,
   "metadata": {},
   "outputs": [],
   "source": [
    "import math\n",
    "\n",
    "class Point:\n",
    "    \"\"\"Represents a point in two-dimensional geometric coordinates\n",
    "\n",
    "    Parameters\n",
    "    ----------\n",
    "    x : float\n",
    "    y : float\n",
    "    \"\"\"\n",
    "\n",
    "    def __init__(self, x: float, y: float) -> None:\n",
    "        self.x = x\n",
    "        self.y = y\n",
    "\n",
    "    def distance(self, p2) -> float:\n",
    "        return math.sqrt((self.x - p2.x) ** 2 + (self.y - p2.y) ** 2)\n",
    "\n",
    "    def __repr__(self) -> str:\n",
    "        return f\"(Point: X={self.x}, Y={self.y})\"\n",
    "\n",
    "    def __str__(self) -> str:\n",
    "        return f'Point({self.x}, {self.y})'\n"
   ]
  },
  {
   "cell_type": "markdown",
   "metadata": {},
   "source": [
    "> a. Define point1 and pass two numbers.\n"
   ]
  },
  {
   "cell_type": "code",
   "execution_count": 20,
   "metadata": {},
   "outputs": [],
   "source": [
    "point1 = Point(3, 4)"
   ]
  },
  {
   "cell_type": "markdown",
   "metadata": {},
   "source": [
    "> b. Make another instance of the point class, say its name is p2."
   ]
  },
  {
   "cell_type": "code",
   "execution_count": 21,
   "metadata": {},
   "outputs": [],
   "source": [
    "p2 = Point(6, 8)"
   ]
  },
  {
   "cell_type": "markdown",
   "metadata": {},
   "source": [
    "> c. Print p1 and p2, for this use the print command and pass the point as input."
   ]
  },
  {
   "cell_type": "code",
   "execution_count": 22,
   "metadata": {},
   "outputs": [
    {
     "name": "stdout",
     "output_type": "stream",
     "text": [
      "Point(3, 4)\n",
      "Point(6, 8)\n"
     ]
    }
   ],
   "source": [
    "print(point1)\n",
    "print(p2)    "
   ]
  },
  {
   "cell_type": "markdown",
   "metadata": {},
   "source": [
    "> d. Print the coordinate by using the object and dot operator. "
   ]
  },
  {
   "cell_type": "code",
   "execution_count": 23,
   "metadata": {},
   "outputs": [
    {
     "name": "stdout",
     "output_type": "stream",
     "text": [
      "Coordinates of point1: x = 3, y = 4\n",
      "Coordinates of p2: x = 6, y = 8\n"
     ]
    }
   ],
   "source": [
    "print(f\"Coordinates of point1: x = {point1.x}, y = {point1.y}\")\n",
    "print(f\"Coordinates of p2: x = {p2.x}, y = {p2.y}\")"
   ]
  },
  {
   "cell_type": "markdown",
   "metadata": {},
   "source": [
    "> e. Add a new method to the point class that can effectively print the points. Print both the\n",
    "point using that function."
   ]
  },
  {
   "cell_type": "code",
   "execution_count": 24,
   "metadata": {},
   "outputs": [],
   "source": [
    "def print_point(self):\n",
    "    print(f\"Point coordinates: ({self.x}, {self.y})\")"
   ]
  },
  {
   "cell_type": "code",
   "execution_count": 25,
   "metadata": {},
   "outputs": [
    {
     "name": "stdout",
     "output_type": "stream",
     "text": [
      "<function print_point at 0x00000215922B3CE0>\n"
     ]
    }
   ],
   "source": [
    "print(repr(print_point))"
   ]
  },
  {
   "cell_type": "code",
   "execution_count": 26,
   "metadata": {},
   "outputs": [
    {
     "name": "stdout",
     "output_type": "stream",
     "text": [
      "<function print_point at 0x00000215922B3CE0>\n"
     ]
    }
   ],
   "source": [
    "print(print_point)"
   ]
  },
  {
   "cell_type": "markdown",
   "metadata": {},
   "source": [
    "> f. Calculate the distance between these two pints."
   ]
  },
  {
   "cell_type": "code",
   "execution_count": 27,
   "metadata": {},
   "outputs": [
    {
     "name": "stdout",
     "output_type": "stream",
     "text": [
      "The distance between point1 and p2 is: 5.00\n"
     ]
    }
   ],
   "source": [
    "distance = point1.distance(p2)\n",
    "print(f\"The distance between point1 and p2 is: {distance:.2f}\")"
   ]
  },
  {
   "cell_type": "markdown",
   "metadata": {},
   "source": [
    "---"
   ]
  }
 ],
 "metadata": {
  "kernelspec": {
   "display_name": "base",
   "language": "python",
   "name": "python3"
  },
  "language_info": {
   "codemirror_mode": {
    "name": "ipython",
    "version": 3
   },
   "file_extension": ".py",
   "mimetype": "text/x-python",
   "name": "python",
   "nbconvert_exporter": "python",
   "pygments_lexer": "ipython3",
   "version": "3.12.4"
  }
 },
 "nbformat": 4,
 "nbformat_minor": 2
}
