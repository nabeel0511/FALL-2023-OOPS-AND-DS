{
 "cells": [
  {
   "cell_type": "markdown",
   "id": "b5c37d8b",
   "metadata": {},
   "source": [
    "<div\n",
    "    style=\"\n",
    "        margin: 50px auto;\n",
    "        padding: 20px 15px;\n",
    "        border-radius: 20px;\n",
    "        background: linear-gradient(135deg, #f9f9f9, #ffffff);\n",
    "        max-width: 900px; /* Increased width */\n",
    "        box-shadow: 0 8px 20px rgba(0, 0, 0, 0.1);\n",
    "        text-align: center;\n",
    "    \"\n",
    ">\n",
    "    <h1\n",
    "        style=\"\n",
    "            font-family: 'Times New Roman', serif;\n",
    "            font-size: 30px;\n",
    "            color: #2c3e50;\n",
    "            text-transform: uppercase;\n",
    "            font-weight: bold;\n",
    "            letter-spacing: 2px;\n",
    "            margin-bottom: 15px;\n",
    "        \"\n",
    "    >\n",
    "        University of Engineering and Technology Peshawar\n",
    "    </h1>\n",
    "    <h2\n",
    "        style=\"\n",
    "            font-family: 'Georgia', serif;\n",
    "            font-size: 24px;\n",
    "            color: #34495e;\n",
    "            margin-top: 5px;\n",
    "            font-style: italic;\n",
    "        \"\n",
    "    >\n",
    "        Jalozai Campus\n",
    "    </h2>\n",
    "</div>"
   ]
  },
  {
   "cell_type": "markdown",
   "id": "8238ded4",
   "metadata": {},
   "source": [
    "<div\n",
    "    style=\"\n",
    "        margin: 50px auto;\n",
    "        padding: 30px 20px;\n",
    "        border-radius: 20px;\n",
    "        background: linear-gradient(135deg, #f3f4f6, #ffffff);\n",
    "        max-width: 800px;\n",
    "        box-shadow: 0 10px 25px rgba(0, 0, 0, 0.15);\n",
    "        text-align: center;\n",
    "        border: 1px solid #e0e0e0;\n",
    "    \"\n",
    ">\n",
    "    <h1\n",
    "        style=\"\n",
    "            font-family: 'Times New Roman', serif;\n",
    "            font-size: 32px;\n",
    "            color: #2c3e50;\n",
    "            text-transform: capitalize;\n",
    "            font-weight: bold;\n",
    "            letter-spacing: 1.5px;\n",
    "            margin-bottom: 20px;\n",
    "        \"\n",
    "    >\n",
    "        Lab Title: EE-271 “OOP & Data Structures Lab”\n",
    "    </h1>\n",
    "</div>"
   ]
  },
  {
   "cell_type": "markdown",
   "id": "26f55b21",
   "metadata": {},
   "source": [
    "<div\n",
    "    style=\"\n",
    "        margin: 50px auto;\n",
    "        padding: 30px 20px;\n",
    "        border-radius: 20px;\n",
    "        background: linear-gradient(135deg, #f3f4f6, #ffffff);\n",
    "        max-width: 800px;\n",
    "        box-shadow: 0 10px 25px rgba(0, 0, 0, 0.15);\n",
    "        text-align: center;\n",
    "        border: 1px solid #e0e0e0;\n",
    "    \"\n",
    ">\n",
    "    <h1\n",
    "        style=\"\n",
    "            font-family: 'Times New Roman', serif;\n",
    "            font-size: 32px;\n",
    "            color: #2c3e50;\n",
    "            text-transform: capitalize;\n",
    "            font-weight: bold;\n",
    "            letter-spacing: 1.5px;\n",
    "            margin-bottom: 20px;\n",
    "        \"\n",
    "    >\n",
    "        Lab 5: Classes 2 –repr-- and –str--      \n",
    "    </h1>\n",
    "</div>"
   ]
  },
  {
   "cell_type": "markdown",
   "id": "4e3c1465",
   "metadata": {},
   "source": [
    "## Prepared By: Nabeel Ahmad"
   ]
  },
  {
   "cell_type": "markdown",
   "id": "ef1f709b",
   "metadata": {},
   "source": [
    "-----"
   ]
  },
  {
   "cell_type": "markdown",
   "id": "16f1bdde",
   "metadata": {},
   "source": [
    "<span style=\"color: #000000;\n",
    "font-size: 44px;\n",
    "transition: color 0.3s;\">&#x21DD; </span>\n",
    "<span style=\"color:rgb(54, 173, 109);\n",
    "    font-family: Arial Black;\n",
    "font-size: 35px; font-weight: bold; \n",
    "text-shadow: 0px 4px 2px rgb(0, 0, 0);\">\n",
    "    Lab Work Tasks :</span>"
   ]
  },
  {
   "cell_type": "markdown",
   "id": "b87ea9c3-03f8-4dec-8273-ce2eb36c169d",
   "metadata": {},
   "source": [
    "<center>\n",
    "  <h3 style=\"color:rgb(255, 255, 255); font-family: Arial, sans-serif; background-color: grey; padding: 8px; border-radius: 5px;\">Point in 2D Coordinate System</h3>\n",
    "</center>\n",
    "\n",
    "<h3 style=\"color: #34495e; font-family: Arial, sans-serif;\">Objective</h3>\n",
    "<p style=\"color: #2c3e50; font-family: Arial, sans-serif; line-height: 1.6;\">\n",
    "  Define a class that models a point in a 2D coordinate system. Include methods for calculating distances, locating the point, and appropriate property methods, annotations, and string representations.\n",
    "</p>\n",
    "\n",
    "<h3 style=\"color: #34495e; font-family: Arial, sans-serif;\">Class Structure</h3>\n",
    "<ol style=\"color: #2c3e50; font-family: Arial, sans-serif; line-height: 1.8;\">\n",
    "  <li>\n",
    "    <strong style=\"color: #2980b9; background-color: #eafaf1; padding: 5px; border-radius: 5px;\">Point Class:</strong>\n",
    "    <ul>\n",
    "      <li>This class will have <code>x</code> and <code>y</code> as its attributes to represent the coordinates of the point.</li>\n",
    "      <li>The constructor (<code>__init__</code>) will initialize the <code>x</code> and <code>y</code> coordinates of the point.</li>\n",
    "      <li>\n",
    "        Add property methods (<code>@property</code> and <code>@property.setter</code>) for:\n",
    "        <ul>\n",
    "          <li><strong>X Coordinate:</strong> Getter and setter for the <code>x</code> value.</li>\n",
    "          <li><strong>Y Coordinate:</strong> Getter and setter for the <code>y</code> value.</li>\n",
    "        </ul>\n",
    "      </li>\n",
    "      <li>\n",
    "        Include an instance method to calculate the <strong>distance between two points</strong>: \n",
    "        <code>distance_to(other_point: 'Point') -> float</code>.\n",
    "      </li>\n",
    "      <li>\n",
    "        Add an instance method to calculate the <strong>distance from the origin</strong> (0, 0): \n",
    "        <code>distance_from_origin() -> float</code>.\n",
    "      </li>\n",
    "      <li>\n",
    "        Add another instance method named <strong>locate</strong> to display the coordinate in which the point is located:\n",
    "        <code>locate() -> str</code>. \n",
    "      </li>\n",
    "      <li>\n",
    "        Add the <code>__repr__</code> and <code>__str__</code> methods to provide meaningful string representations of the Point object.\n",
    "      </li>\n",
    "      <li>\n",
    "        Ensure every method and property includes proper type annotations and docstrings to describe their functionality.\n",
    "      </li>\n",
    "    </ul>\n",
    "  </li>\n",
    "</ol>\n"
   ]
  },
  {
   "cell_type": "code",
   "execution_count": 1163,
   "id": "4837a1ea-186f-4275-9bff-dc28a960c434",
   "metadata": {},
   "outputs": [],
   "source": [
    "import  math \n",
    "\n",
    "class Point:\n",
    "    def __init__(self, x: float = 0, y: float = 0):\n",
    "        self.x = x\n",
    "        self.y = y\n",
    "\n",
    "    def distance_to(self, other: 'Point') -> float:\n",
    "        return math.sqrt((self.x - other.x) ** 2 + (self.y - other.y) ** 2)\n",
    "\n",
    "    def distance_from_origin(self) -> float:\n",
    "        return math.sqrt(self.x ** 2 + self.y ** 2)\n",
    "\n",
    "    def locate(self) -> str:\n",
    "        if self.x > 0 and self.y > 0:\n",
    "            return \n",
    "        elif self.x < 0 and self.y > 0:\n",
    "            return \n",
    "        elif self.x < 0 and self.y < 0:\n",
    "            return \n",
    "        elif self.x > 0 and self.y < 0:\n",
    "            return\n",
    "        elif self.x == 0 and self.y != 0:\n",
    "            return \n",
    "        elif self.y == 0 and self.x != 0:\n",
    "            return\n",
    "        else:\n",
    "            return\n",
    "\n",
    "    def __repr__(self) -> str:\n",
    "        return f\"Point(x={self.x}, y={self.y})\"\n",
    "\n",
    "    def __str__(self) -> str:\n",
    "        return f\"({self.x}, {self.y})\""
   ]
  },
  {
   "cell_type": "code",
   "execution_count": 1164,
   "id": "d4a60aa5-59e7-4fbc-bf86-24e14bd2cd93",
   "metadata": {},
   "outputs": [],
   "source": [
    "inst_1 = Point(3, 4)\n",
    "inst_2 = Point(-5, 2)\n"
   ]
  },
  {
   "cell_type": "code",
   "execution_count": 1165,
   "id": "1f0ffc87-b32f-42cf-af75-990565b1bd88",
   "metadata": {},
   "outputs": [
    {
     "name": "stdout",
     "output_type": "stream",
     "text": [
      "(3, 4)\n",
      "(-5, 2)\n"
     ]
    }
   ],
   "source": [
    "print(inst_1)  \n",
    "print(inst_2)"
   ]
  },
  {
   "cell_type": "code",
   "execution_count": 1166,
   "id": "0bcce62e-db4d-46b2-91a0-f6a4cb2fefe3",
   "metadata": {},
   "outputs": [
    {
     "name": "stdout",
     "output_type": "stream",
     "text": [
      "None\n",
      "None\n"
     ]
    }
   ],
   "source": [
    "print(inst_1.locate())\n",
    "print(inst_2.locate())"
   ]
  },
  {
   "cell_type": "code",
   "execution_count": 1167,
   "id": "d384713d-79a6-443a-91b2-a54b6e5eef4f",
   "metadata": {},
   "outputs": [
    {
     "name": "stdout",
     "output_type": "stream",
     "text": [
      "Distance between inst_1 and inst_2: 8.246211251235321\n",
      "Distance of inst_1 from origin: 5.0\n"
     ]
    }
   ],
   "source": [
    "print(f\"Distance between inst_1 and inst_2: {inst_1.distance_to(inst_2)}\")\n",
    "print(f\"Distance of inst_1 from origin: {inst_1.distance_from_origin()}\")"
   ]
  },
  {
   "cell_type": "code",
   "execution_count": 1168,
   "id": "7176cea5-ec55-46d0-9227-c2ea5e75b26b",
   "metadata": {},
   "outputs": [
    {
     "data": {
      "text/plain": [
       "mappingproxy({'__module__': '__main__',\n",
       "              '__init__': <function __main__.Point.__init__(self, x: float = 0, y: float = 0)>,\n",
       "              'distance_to': <function __main__.Point.distance_to(self, other: 'Point') -> float>,\n",
       "              'distance_from_origin': <function __main__.Point.distance_from_origin(self) -> float>,\n",
       "              'locate': <function __main__.Point.locate(self) -> str>,\n",
       "              '__repr__': <function __main__.Point.__repr__(self) -> str>,\n",
       "              '__str__': <function __main__.Point.__str__(self) -> str>,\n",
       "              '__dict__': <attribute '__dict__' of 'Point' objects>,\n",
       "              '__weakref__': <attribute '__weakref__' of 'Point' objects>,\n",
       "              '__doc__': None})"
      ]
     },
     "execution_count": 1168,
     "metadata": {},
     "output_type": "execute_result"
    }
   ],
   "source": [
    "Point.__dict__\n",
    "vars(Point)"
   ]
  },
  {
   "cell_type": "code",
   "execution_count": 1169,
   "id": "6e3c45f7-f6b9-48f4-b7bc-f7980b1753a5",
   "metadata": {},
   "outputs": [
    {
     "data": {
      "text/plain": [
       "{'x': 3, 'y': 4}"
      ]
     },
     "execution_count": 1169,
     "metadata": {},
     "output_type": "execute_result"
    }
   ],
   "source": [
    "inst_1.__dict__\n",
    "vars(inst_1)"
   ]
  },
  {
   "cell_type": "code",
   "execution_count": 1170,
   "id": "4f53a8fa-8240-48e1-b8b3-84de7eb34fbb",
   "metadata": {},
   "outputs": [
    {
     "name": "stdout",
     "output_type": "stream",
     "text": [
      "Help on class Point in module __main__:\n",
      "\n",
      "class Point(builtins.object)\n",
      " |  Point(x: float = 0, y: float = 0)\n",
      " |\n",
      " |  Methods defined here:\n",
      " |\n",
      " |  __init__(self, x: float = 0, y: float = 0)\n",
      " |      Initialize self.  See help(type(self)) for accurate signature.\n",
      " |\n",
      " |  __repr__(self) -> str\n",
      " |      Return repr(self).\n",
      " |\n",
      " |  __str__(self) -> str\n",
      " |      Return str(self).\n",
      " |\n",
      " |  distance_from_origin(self) -> float\n",
      " |\n",
      " |  distance_to(self, other: 'Point') -> float\n",
      " |\n",
      " |  locate(self) -> str\n",
      " |\n",
      " |  ----------------------------------------------------------------------\n",
      " |  Data descriptors defined here:\n",
      " |\n",
      " |  __dict__\n",
      " |      dictionary for instance variables\n",
      " |\n",
      " |  __weakref__\n",
      " |      list of weak references to the object\n",
      "\n"
     ]
    }
   ],
   "source": [
    "help(Point)"
   ]
  },
  {
   "cell_type": "markdown",
   "id": "d90a9227",
   "metadata": {},
   "source": [
    "---------------"
   ]
  },
  {
   "cell_type": "markdown",
   "id": "8d74acf9-032c-4283-bded-46f96fd941c2",
   "metadata": {},
   "source": [
    "<center>\n",
    "  <h3 style=\"color:rgb(66, 132, 198); font-family: Arial, sans-serif; background-color: pink; padding: 8px; border-radius: 5px;\"> Class Circle</h3>\n",
    "</center>\n",
    "\n",
    "<h3 style=\"color: #34495e; font-family: Arial, sans-serif;\">Objective</h3>\n",
    "<p style=\"color: #2c3e50; font-family: Arial, sans-serif; line-height: 1.6;\">\n",
    "  Define a class that models a Circle and includes methods for calculating its properties and the volume of a cylinder with the given radius. Add appropriate annotations, property methods, and string representations for the class.\n",
    "</p>\n",
    "\n",
    "<h3 style=\"color: #34495e; font-family: Arial, sans-serif;\">Class Structure</h3>\n",
    "<ol style=\"color: #2c3e50; font-family: Arial, sans-serif; line-height: 1.8;\">\n",
    "  <li>\n",
    "    <strong style=\"color: #2980b9; background-color: #eafaf1; padding: 5px; border-radius: 5px;\">Circle Class:</strong>\n",
    "    <ul>\n",
    "      <li>This class will have <code>radius</code> as its attribute.</li>\n",
    "      <li>The constructor (<code>__init__</code>) will initialize the radius of the circle.</li>\n",
    "      <li>\n",
    "        Add property methods (<code>@property</code> and <code>@property.setter</code>) for:\n",
    "        <ul>\n",
    "          <li><strong>Area:</strong> Calculate the area of the circle (<code>π * radius²</code>).</li>\n",
    "          <li><strong>Circumference:</strong> Calculate the circumference of the circle (<code>2 * π * radius</code>).</li>\n",
    "          <li><strong>Diameter:</strong> Calculate the diameter of the circle (<code>2 * radius</code>).</li>\n",
    "        </ul>\n",
    "      </li>\n",
    "      <li>\n",
    "        Include an instance method for calculating the <strong>volume of a cylinder</strong> with the given radius and height: <code>volume_of_cylinder(height: float) -> float</code>.\n",
    "      </li>\n",
    "      <li>\n",
    "        Add the <code>__repr__</code> and <code>__str__</code> methods to provide meaningful string representations of the Circle object.\n",
    "      </li>\n",
    "      <li>\n",
    "        Ensure every method and property includes proper type annotations and docstrings to describe their functionality.\n",
    "      </li>\n",
    "    </ul>\n",
    "  </li>\n",
    "</ol>\n"
   ]
  },
  {
   "cell_type": "code",
   "execution_count": 1171,
   "id": "712ab034-2b99-467d-8efb-2f163e5cadca",
   "metadata": {},
   "outputs": [],
   "source": [
    "from math import pi\n",
    "\n",
    "class Circle:\n",
    "    def __init__(self, radius: float = 1.0):\n",
    "        self.radius = radius\n",
    "\n",
    "    def cylinder_volume(self, height: float) -> float:\n",
    "        return pi * self.radius ** 2 * height\n",
    "\n",
    "    def area(self) -> float:\n",
    "        return pi * self.radius ** 2\n",
    "\n",
    "    def circumference(self) -> float:\n",
    "        return 2 * pi * self.radius\n",
    "\n",
    "    def diameter(self) -> float:\n",
    "        return 2 * self.radius\n",
    "\n",
    "    def __repr__(self) -> str:\n",
    "        return f\"Circle(radius={self.radius})\"\n",
    "\n",
    "    def __str__(self) -> str:\n",
    "        return f\"Circle with radius {self.radius}\""
   ]
  },
  {
   "cell_type": "code",
   "execution_count": 1172,
   "id": "b31710fb-8f08-468f-81e6-a913333fe930",
   "metadata": {},
   "outputs": [],
   "source": [
    "inst_1 = Circle(3)\n",
    "inst_2 = Circle(5)"
   ]
  },
  {
   "cell_type": "code",
   "execution_count": 1173,
   "id": "d392dd3e-bd84-437e-a03b-91c047835e6c",
   "metadata": {},
   "outputs": [
    {
     "name": "stdout",
     "output_type": "stream",
     "text": [
      "Circle with radius 3\n",
      "Circle with radius 5\n"
     ]
    }
   ],
   "source": [
    "print(inst_1)\n",
    "print(inst_2)"
   ]
  },
  {
   "cell_type": "code",
   "execution_count": 1174,
   "id": "c7992fc0-1d10-4a37-b109-234099417f89",
   "metadata": {},
   "outputs": [
    {
     "name": "stdout",
     "output_type": "stream",
     "text": [
      "Area of inst_1: 28.274333882308138\n",
      "Circumference of inst_1: 18.84955592153876\n",
      "Diameter of inst_1: 6\n"
     ]
    }
   ],
   "source": [
    "print(f\"Area of inst_1: {inst_1.area()}\")\n",
    "print(f\"Circumference of inst_1: {inst_1.circumference()}\")\n",
    "print(f\"Diameter of inst_1: {inst_1.diameter()}\")\n"
   ]
  },
  {
   "cell_type": "code",
   "execution_count": 1175,
   "id": "e809a058-5a1e-4c49-9f14-0162d18191b8",
   "metadata": {},
   "outputs": [
    {
     "name": "stdout",
     "output_type": "stream",
     "text": [
      "Volume of a cylinder with inst_1 as base and height 7: 197.92033717615698\n"
     ]
    }
   ],
   "source": [
    "print(f\"Volume of a cylinder with inst_1 as base and height 7: {inst_1.cylinder_volume(7)}\")"
   ]
  },
  {
   "cell_type": "code",
   "execution_count": 1176,
   "id": "7192c5bc-efc8-4d76-a83f-8b51bdf8152b",
   "metadata": {},
   "outputs": [
    {
     "data": {
      "text/plain": [
       "mappingproxy({'__module__': '__main__',\n",
       "              '__init__': <function __main__.Circle.__init__(self, radius: float = 1.0)>,\n",
       "              'cylinder_volume': <function __main__.Circle.cylinder_volume(self, height: float) -> float>,\n",
       "              'area': <function __main__.Circle.area(self) -> float>,\n",
       "              'circumference': <function __main__.Circle.circumference(self) -> float>,\n",
       "              'diameter': <function __main__.Circle.diameter(self) -> float>,\n",
       "              '__repr__': <function __main__.Circle.__repr__(self) -> str>,\n",
       "              '__str__': <function __main__.Circle.__str__(self) -> str>,\n",
       "              '__dict__': <attribute '__dict__' of 'Circle' objects>,\n",
       "              '__weakref__': <attribute '__weakref__' of 'Circle' objects>,\n",
       "              '__doc__': None})"
      ]
     },
     "execution_count": 1176,
     "metadata": {},
     "output_type": "execute_result"
    }
   ],
   "source": [
    "Circle.__dict__\n",
    "vars(Circle)"
   ]
  },
  {
   "cell_type": "code",
   "execution_count": 1177,
   "id": "34e639c6-d230-4f23-8b84-eb79a0fcf726",
   "metadata": {},
   "outputs": [
    {
     "data": {
      "text/plain": [
       "{'radius': 3}"
      ]
     },
     "execution_count": 1177,
     "metadata": {},
     "output_type": "execute_result"
    }
   ],
   "source": [
    "inst_1.__dict__\n",
    "vars(inst_1)"
   ]
  },
  {
   "cell_type": "code",
   "execution_count": 1178,
   "id": "6b7cd2b5",
   "metadata": {},
   "outputs": [
    {
     "name": "stdout",
     "output_type": "stream",
     "text": [
      "Help on class Circle in module __main__:\n",
      "\n",
      "class Circle(builtins.object)\n",
      " |  Circle(radius: float = 1.0)\n",
      " |\n",
      " |  Methods defined here:\n",
      " |\n",
      " |  __init__(self, radius: float = 1.0)\n",
      " |      Initialize self.  See help(type(self)) for accurate signature.\n",
      " |\n",
      " |  __repr__(self) -> str\n",
      " |      Return repr(self).\n",
      " |\n",
      " |  __str__(self) -> str\n",
      " |      Return str(self).\n",
      " |\n",
      " |  area(self) -> float\n",
      " |\n",
      " |  circumference(self) -> float\n",
      " |\n",
      " |  cylinder_volume(self, height: float) -> float\n",
      " |\n",
      " |  diameter(self) -> float\n",
      " |\n",
      " |  ----------------------------------------------------------------------\n",
      " |  Data descriptors defined here:\n",
      " |\n",
      " |  __dict__\n",
      " |      dictionary for instance variables\n",
      " |\n",
      " |  __weakref__\n",
      " |      list of weak references to the object\n",
      "\n"
     ]
    }
   ],
   "source": [
    "help(Circle)"
   ]
  },
  {
   "cell_type": "markdown",
   "id": "4cf0bc21",
   "metadata": {},
   "source": [
    "---------------------------"
   ]
  },
  {
   "cell_type": "markdown",
   "id": "116996cf-2bb4-4cca-a516-1fd431ab62ba",
   "metadata": {},
   "source": [
    "<center>\n",
    "  <h3 style=\"color:rgb(218, 214, 201); font-family: Arial, sans-serif; background-color: Green; padding: 8px; border-radius: 5px;\">RLC Circuit</h3>\n",
    "</center>\n",
    "\n",
    "<h3 style=\"color: #34495e; font-family: Arial, sans-serif;\">Objective</h3>\n",
    "<p style=\"color: #2c3e50; font-family: Arial, sans-serif; line-height: 1.6;\">\n",
    "  Define a class that models a series RLC circuit. Include methods and properties for calculating impedance, phase, power factor, and current, along with proper string representations and annotations.\n",
    "</p>\n",
    "\n",
    "<h3 style=\"color: #34495e; font-family: Arial, sans-serif;\">Class Structure</h3>\n",
    "<ol style=\"color: #2c3e50; font-family: Arial, sans-serif; line-height: 1.8;\">\n",
    "  <li>\n",
    "    <strong style=\"color: #2980b9; background-color: #eafaf1; padding: 5px; border-radius: 5px;\">RLC Class:</strong>\n",
    "    <ul>\n",
    "      <li>This class will have <code>R</code> (resistance), <code>L</code> (inductance), and <code>C</code> (capacitance) as its attributes.</li>\n",
    "      <li>The constructor (<code>__init__</code>) will initialize <code>R</code>, <code>L</code>, and <code>C</code> values for the circuit.</li>\n",
    "      <li>\n",
    "        Add property methods (<code>@property</code> and <code>@property.setter</code>) for:\n",
    "        <ul>\n",
    "          <li><strong>Resistance (R):</strong> Getter and setter for resistance.</li>\n",
    "          <li><strong>Inductance (L):</strong> Getter and setter for inductance.</li>\n",
    "          <li><strong>Capacitance (C):</strong> Getter and setter for capacitance.</li>\n",
    "        </ul>\n",
    "      </li>\n",
    "      <li>\n",
    "        Add property methods to calculate:\n",
    "        <ul>\n",
    "          <li><strong>Impedance:</strong> Calculate the total impedance of the circuit.</li>\n",
    "          <li><strong>Phase Angle:</strong> Calculate the phase angle of the circuit.</li>\n",
    "          <li><strong>Power Factor:</strong> Calculate the power factor of the circuit.</li>\n",
    "        </ul>\n",
    "      </li>\n",
    "      <li>\n",
    "        Include an instance method to calculate the <strong>current in the circuit</strong> given an input voltage: \n",
    "        <code>current(voltage: float) -> float</code>.\n",
    "      </li>\n",
    "      <li>\n",
    "        Add the <code>__repr__</code> and <code>__str__</code> methods to provide meaningful string representations of the RLC object.\n",
    "      </li>\n",
    "      <li>\n",
    "        Ensure every method and property includes proper type annotations and docstrings to describe their functionality.\n",
    "      </li>\n",
    "    </ul>\n",
    "  </li>\n",
    "</ol>\n"
   ]
  },
  {
   "cell_type": "code",
   "execution_count": 1179,
   "id": "fb9bf831",
   "metadata": {},
   "outputs": [],
   "source": [
    "from math import sqrt, atan, cos, pi\n",
    "\n",
    "class RLC:\n",
    "\n",
    "    def __init__(self, R: float = 1.0, L: float = 1e-3, C: float = 1e-6, f: float = 50):\n",
    "        self.R = R\n",
    "        self.L = L\n",
    "        self.C = C\n",
    "        self.f = f\n",
    "\n",
    "    def impedance(self) -> float:\n",
    "        omega = 2 * pi * self.f\n",
    "        XL = omega * self.L  # Inductive reactance\n",
    "        XC = 1 / (omega * self.C)  # Capacitive reactance\n",
    "        return sqrt(self.R ** 2 + (XL - XC) ** 2)\n",
    "\n",
    "    def phase(self) -> float:\n",
    "        omega = 2 * pi * self.f\n",
    "        XL = omega * self.L\n",
    "        XC = 1 / (omega * self.C)\n",
    "        return atan((XL - XC) / self.R)\n",
    "\n",
    "    def power_factor(self) -> float:\n",
    "        return cos(self.phase())\n",
    "\n",
    "    def current(self, voltage: float) -> float:\n",
    "        return voltage / self.impedance()\n",
    "\n",
    "    def __repr__(self) -> str:\n",
    "        return f\"RLC(R={self.R}, L={self.L}, C={self.C}, f={self.f})\"\n",
    "\n",
    "    def __str__(self) -> str:\n",
    "        return f\"RLC Circuit: R={self.R} Ω, L={self.L} H, C={self.C} F, f={self.f} Hz\""
   ]
  },
  {
   "cell_type": "code",
   "execution_count": 1180,
   "id": "83fab032",
   "metadata": {},
   "outputs": [],
   "source": [
    "inst_1 = RLC(10, 0.01, 1e-6, 60) \n",
    "inst_2 = RLC()"
   ]
  },
  {
   "cell_type": "code",
   "execution_count": 1181,
   "id": "8e6c30db",
   "metadata": {},
   "outputs": [
    {
     "name": "stdout",
     "output_type": "stream",
     "text": [
      "RLC Circuit: R=10 Ω, L=0.01 H, C=1e-06 F, f=60 Hz\n",
      "RLC Circuit: R=1.0 Ω, L=0.001 H, C=1e-06 F, f=50 Hz\n"
     ]
    }
   ],
   "source": [
    "print(inst_1)\n",
    "print(inst_2)"
   ]
  },
  {
   "cell_type": "code",
   "execution_count": 1182,
   "id": "06b5658f",
   "metadata": {},
   "outputs": [
    {
     "name": "stdout",
     "output_type": "stream",
     "text": [
      "Impedance of inst_1: 2648.831349996828 Ω\n",
      "Phase angle of inst_1: -1.5670210680362182 radians\n",
      "Power factor of inst_1: 0.003775249790822706\n",
      "Current in inst_1 with 120 V input: 0.04530299748987179 A\n"
     ]
    }
   ],
   "source": [
    "print(f\"Impedance of inst_1: {inst_1.impedance()} Ω\")\n",
    "print(f\"Phase angle of inst_1: {inst_1.phase()} radians\")\n",
    "print(f\"Power factor of inst_1: {inst_1.power_factor()}\")\n",
    "print(f\"Current in inst_1 with 120 V input: {inst_1.current(120)} A\")"
   ]
  },
  {
   "cell_type": "code",
   "execution_count": 1183,
   "id": "1aed8ac8",
   "metadata": {},
   "outputs": [
    {
     "name": "stdout",
     "output_type": "stream",
     "text": [
      "{'__module__': '__main__', '__init__': <function RLC.__init__ at 0x0000025CCD48EFC0>, 'impedance': <function RLC.impedance at 0x0000025CCD48F060>, 'phase': <function RLC.phase at 0x0000025CCD48C860>, 'power_factor': <function RLC.power_factor at 0x0000025CCD48F7E0>, 'current': <function RLC.current at 0x0000025CCD48C220>, '__repr__': <function RLC.__repr__ at 0x0000025CCD48F6A0>, '__str__': <function RLC.__str__ at 0x0000025CCD48E200>, '__dict__': <attribute '__dict__' of 'RLC' objects>, '__weakref__': <attribute '__weakref__' of 'RLC' objects>, '__doc__': None}\n",
      "{'__module__': '__main__', '__init__': <function RLC.__init__ at 0x0000025CCD48EFC0>, 'impedance': <function RLC.impedance at 0x0000025CCD48F060>, 'phase': <function RLC.phase at 0x0000025CCD48C860>, 'power_factor': <function RLC.power_factor at 0x0000025CCD48F7E0>, 'current': <function RLC.current at 0x0000025CCD48C220>, '__repr__': <function RLC.__repr__ at 0x0000025CCD48F6A0>, '__str__': <function RLC.__str__ at 0x0000025CCD48E200>, '__dict__': <attribute '__dict__' of 'RLC' objects>, '__weakref__': <attribute '__weakref__' of 'RLC' objects>, '__doc__': None}\n"
     ]
    }
   ],
   "source": [
    "print(RLC.__dict__)\n",
    "print(vars(RLC))"
   ]
  },
  {
   "cell_type": "code",
   "execution_count": 1184,
   "id": "f5f32008",
   "metadata": {},
   "outputs": [
    {
     "name": "stdout",
     "output_type": "stream",
     "text": [
      "{'R': 10, 'L': 0.01, 'C': 1e-06, 'f': 60}\n",
      "{'R': 10, 'L': 0.01, 'C': 1e-06, 'f': 60}\n"
     ]
    }
   ],
   "source": [
    "print(inst_1.__dict__)\n",
    "print(vars(inst_1))"
   ]
  },
  {
   "cell_type": "code",
   "execution_count": 1185,
   "id": "63a64006-fb9e-4bb0-a61a-f186b1e932a3",
   "metadata": {},
   "outputs": [
    {
     "name": "stdout",
     "output_type": "stream",
     "text": [
      "Help on class RLC in module __main__:\n",
      "\n",
      "class RLC(builtins.object)\n",
      " |  RLC(R: float = 1.0, L: float = 0.001, C: float = 1e-06, f: float = 50)\n",
      " |\n",
      " |  Methods defined here:\n",
      " |\n",
      " |  __init__(self, R: float = 1.0, L: float = 0.001, C: float = 1e-06, f: float = 50)\n",
      " |      Initialize self.  See help(type(self)) for accurate signature.\n",
      " |\n",
      " |  __repr__(self) -> str\n",
      " |      Return repr(self).\n",
      " |\n",
      " |  __str__(self) -> str\n",
      " |      Return str(self).\n",
      " |\n",
      " |  current(self, voltage: float) -> float\n",
      " |\n",
      " |  impedance(self) -> float\n",
      " |\n",
      " |  phase(self) -> float\n",
      " |\n",
      " |  power_factor(self) -> float\n",
      " |\n",
      " |  ----------------------------------------------------------------------\n",
      " |  Data descriptors defined here:\n",
      " |\n",
      " |  __dict__\n",
      " |      dictionary for instance variables\n",
      " |\n",
      " |  __weakref__\n",
      " |      list of weak references to the object\n",
      "\n"
     ]
    }
   ],
   "source": [
    "help(RLC)"
   ]
  },
  {
   "cell_type": "markdown",
   "id": "e03c5f86",
   "metadata": {},
   "source": [
    "-----------------------------------------"
   ]
  },
  {
   "cell_type": "markdown",
   "id": "195a3583-34d3-48f6-bfe8-e9937da67892",
   "metadata": {},
   "source": [
    "<center>\n",
    "  <h3 style=\"color: #34495e; font-family: Arial, sans-serif; background-color: pink; padding: 8px; border-radius: 5px;\">Square</h3>\n",
    "</center>\n",
    "\n",
    "<h3 style=\"color: #34495e; font-family: Arial, sans-serif;\">Objective</h3>\n",
    "<p style=\"color: #2c3e50; font-family: Arial, sans-serif; line-height: 1.6;\">\n",
    "  Define a class that models a square as a four-sided polygon (quadrilateral) with all sides of equal length and all angles equal to 90 degrees. Include methods for calculating its properties and appropriate string representations.\n",
    "</p>\n",
    "\n",
    "<h3 style=\"color: #34495e; font-family: Arial, sans-serif;\">Class Structure</h3>\n",
    "<ol style=\"color: #2c3e50; font-family: Arial, sans-serif; line-height: 1.8;\">\n",
    "  <li>\n",
    "    <strong style=\"color: #2980b9; background-color: #eafaf1; padding: 5px; border-radius: 5px;\">Square Class:</strong>\n",
    "    <ul>\n",
    "      <li>This class will have <code>side_length</code> as its attribute to represent the length of each side of the square.</li>\n",
    "      <li>The constructor (<code>__init__</code>) will initialize the <code>side_length</code> of the square.</li>\n",
    "      <li>\n",
    "        Add property methods (<code>@property</code> and <code>@property.setter</code>) for:\n",
    "        <ul>\n",
    "          <li><strong>Side Length:</strong> Getter and setter for the length of the sides.</li>\n",
    "        </ul>\n",
    "      </li>\n",
    "      <li>\n",
    "        Add methods to calculate:\n",
    "        <ul>\n",
    "          <li><strong>Area:</strong> Calculate the area of the square (<code>side_length²</code>).</li>\n",
    "          <li><strong>Perimeter:</strong> Calculate the perimeter of the square (<code>4 * side_length</code>).</li>\n",
    "          <li><strong>Diagonal:</strong> Calculate the diagonal of the square (<code>√2 * side_length</code>).</li>\n",
    "        </ul>\n",
    "      </li>\n",
    "      <li>\n",
    "        Add the <code>__repr__</code> and <code>__str__</code> methods to provide meaningful string representations of the Square object.\n",
    "      </li>\n",
    "      <li>\n",
    "        Ensure every method and property includes proper type annotations and docstrings to describe their functionality.\n",
    "      </li>\n",
    "    </ul>\n",
    "  </li>\n",
    "</ol>\n"
   ]
  },
  {
   "cell_type": "code",
   "execution_count": 1186,
   "id": "ab2a0a2f-3133-4f42-a0bb-2a90fdbf33c5",
   "metadata": {},
   "outputs": [],
   "source": [
    "class Square:\n",
    "    \"\"\"A class which represent Square: A four-sided polygon (quadrilateral) with all sides of equal length and all angles equal to 90 degrees.\n",
    "    \"\"\"\n",
    "    def __init__(self, side_length: float = 1.0) -> None:\n",
    "        \"\"\" To initiate the class with parameter side_length in  float an default valur (1.0)\n",
    "        \"\"\"\n",
    "        self.side_length = side_length\n",
    "    \n",
    "    def area(self) -> float:\n",
    "        \"\"\"To calculate the  area of the square\"\"\"\n",
    "        return self.side_length ** 2\n",
    "    \n",
    "    def perimeter(self) -> float:\n",
    "        \"\"\"To calculate the perimeter of the square\"\"\"\n",
    "        return 4 * self.side_length\n",
    "    def __repr__(self) -> str:\n",
    "        \"\"\"Return a string representation of the RLC instance.\"\"\"\n",
    "        return f\"Square(side_length={self.side_length})\"\n",
    "    def __str__(self) -> str:\n",
    "        \"\"\"Return a user-friendly string representation of the RLC circuit.\"\"\"\n",
    "        return f\"Square with side length: {self.side_length}\"\n"
   ]
  },
  {
   "cell_type": "code",
   "execution_count": 1187,
   "id": "c160975c-6b20-4843-8d25-cdbcd4f977aa",
   "metadata": {},
   "outputs": [],
   "source": [
    "s_1 = Square(side_length=4)\n",
    "s_2= Square(side_length = 8)"
   ]
  },
  {
   "cell_type": "code",
   "execution_count": 1188,
   "id": "03a79554-9ba5-4d7f-b269-cd9791f6f7ab",
   "metadata": {},
   "outputs": [
    {
     "name": "stdout",
     "output_type": "stream",
     "text": [
      "Square with side length: 4\n",
      "Square with side length: 8\n"
     ]
    }
   ],
   "source": [
    "print(s_1)\n",
    "print(s_2)"
   ]
  },
  {
   "cell_type": "code",
   "execution_count": 1189,
   "id": "04499a22-8713-462a-9a7b-9d6c698d220a",
   "metadata": {},
   "outputs": [
    {
     "data": {
      "text/plain": [
       "Square(side_length=4)"
      ]
     },
     "execution_count": 1189,
     "metadata": {},
     "output_type": "execute_result"
    }
   ],
   "source": [
    "s_1"
   ]
  },
  {
   "cell_type": "code",
   "execution_count": 1190,
   "id": "e5cd370f-aaa6-4c44-b455-9bbfdeb1c44c",
   "metadata": {},
   "outputs": [
    {
     "data": {
      "text/plain": [
       "Square(side_length=8)"
      ]
     },
     "execution_count": 1190,
     "metadata": {},
     "output_type": "execute_result"
    }
   ],
   "source": [
    "s_2"
   ]
  },
  {
   "cell_type": "code",
   "execution_count": 1191,
   "id": "964cf117-455b-470c-b619-ab459ebe12ef",
   "metadata": {},
   "outputs": [
    {
     "name": "stdout",
     "output_type": "stream",
     "text": [
      "mappingproxy({'__dict__': <attribute '__dict__' of 'Square' objects>,\n",
      "              '__doc__': 'A class which represent Square: A four-sided polygon '\n",
      "                         '(quadrilateral) with all sides of equal length and '\n",
      "                         'all angles equal to 90 degrees.\\n'\n",
      "                         '    ',\n",
      "              '__init__': <function Square.__init__ at 0x0000025CCD48FEC0>,\n",
      "              '__module__': '__main__',\n",
      "              '__repr__': <function Square.__repr__ at 0x0000025CCD48D940>,\n",
      "              '__str__': <function Square.__str__ at 0x0000025CCD4CC180>,\n",
      "              '__weakref__': <attribute '__weakref__' of 'Square' objects>,\n",
      "              'area': <function Square.area at 0x0000025CCD48F740>,\n",
      "              'perimeter': <function Square.perimeter at 0x0000025CCD48FBA0>})\n"
     ]
    }
   ],
   "source": [
    "from pprint import pprint\n",
    "pprint(Square.__dict__)"
   ]
  },
  {
   "cell_type": "code",
   "execution_count": 1192,
   "id": "ae6ac265-e713-45a5-b9f2-f19278a605e9",
   "metadata": {},
   "outputs": [
    {
     "name": "stdout",
     "output_type": "stream",
     "text": [
      "mappingproxy({'__dict__': <attribute '__dict__' of 'Square' objects>,\n",
      "              '__doc__': 'A class which represent Square: A four-sided polygon '\n",
      "                         '(quadrilateral) with all sides of equal length and '\n",
      "                         'all angles equal to 90 degrees.\\n'\n",
      "                         '    ',\n",
      "              '__init__': <function Square.__init__ at 0x0000025CCD48FEC0>,\n",
      "              '__module__': '__main__',\n",
      "              '__repr__': <function Square.__repr__ at 0x0000025CCD48D940>,\n",
      "              '__str__': <function Square.__str__ at 0x0000025CCD4CC180>,\n",
      "              '__weakref__': <attribute '__weakref__' of 'Square' objects>,\n",
      "              'area': <function Square.area at 0x0000025CCD48F740>,\n",
      "              'perimeter': <function Square.perimeter at 0x0000025CCD48FBA0>})\n"
     ]
    }
   ],
   "source": [
    "pprint(vars(Square))"
   ]
  },
  {
   "cell_type": "code",
   "execution_count": 1193,
   "id": "7775b387-6480-4628-b764-1294278bedc5",
   "metadata": {},
   "outputs": [
    {
     "name": "stdout",
     "output_type": "stream",
     "text": [
      "{'side_length': 4}\n",
      "{'side_length': 8}\n"
     ]
    }
   ],
   "source": [
    "print(s_1.__dict__)\n",
    "print(s_2.__dict__)"
   ]
  },
  {
   "cell_type": "code",
   "execution_count": 1194,
   "id": "e633f101-f856-428c-b4bf-701d144e6ccf",
   "metadata": {},
   "outputs": [
    {
     "name": "stdout",
     "output_type": "stream",
     "text": [
      "Help on class Square in module __main__:\n",
      "\n",
      "class Square(builtins.object)\n",
      " |  Square(side_length: float = 1.0) -> None\n",
      " |\n",
      " |  A class which represent Square: A four-sided polygon (quadrilateral) with all sides of equal length and all angles equal to 90 degrees.\n",
      " |\n",
      " |  Methods defined here:\n",
      " |\n",
      " |  __init__(self, side_length: float = 1.0) -> None\n",
      " |      To initiate the class with parameter side_length in  float an default valur (1.0)\n",
      " |\n",
      " |  __repr__(self) -> str\n",
      " |      Return a string representation of the RLC instance.\n",
      " |\n",
      " |  __str__(self) -> str\n",
      " |      Return a user-friendly string representation of the RLC circuit.\n",
      " |\n",
      " |  area(self) -> float\n",
      " |      To calculate the  area of the square\n",
      " |\n",
      " |  perimeter(self) -> float\n",
      " |      To calculate the perimeter of the square\n",
      " |\n",
      " |  ----------------------------------------------------------------------\n",
      " |  Data descriptors defined here:\n",
      " |\n",
      " |  __dict__\n",
      " |      dictionary for instance variables\n",
      " |\n",
      " |  __weakref__\n",
      " |      list of weak references to the object\n",
      "\n"
     ]
    }
   ],
   "source": [
    "help(Square)"
   ]
  },
  {
   "cell_type": "code",
   "execution_count": 1195,
   "id": "486c208e",
   "metadata": {},
   "outputs": [
    {
     "name": "stdout",
     "output_type": "stream",
     "text": [
      "A class which represent Square: A four-sided polygon (quadrilateral) with all sides of equal length and all angles equal to 90 degrees.\n",
      "    \n",
      "Method: __init__, Docstring:  To initiate the class with parameter side_length in  float an default valur (1.0)\n",
      "        , Annotations: {'side_length': <class 'float'>, 'return': None}\n",
      "Method: area, Docstring: To calculate the  area of the square, Annotations: {'return': <class 'float'>}\n",
      "Method: perimeter, Docstring: To calculate the perimeter of the square, Annotations: {'return': <class 'float'>}\n",
      "Method: __repr__, Docstring: Return a string representation of the RLC instance., Annotations: {'return': <class 'str'>}\n",
      "Method: __str__, Docstring: Return a user-friendly string representation of the RLC circuit., Annotations: {'return': <class 'str'>}\n"
     ]
    }
   ],
   "source": [
    "print(Square.__doc__)\n",
    "for method in [\n",
    "    Square.__init__,\n",
    "    Square.area,\n",
    "    Square.perimeter,\n",
    "    Square.__repr__,\n",
    "    Square.__str__,\n",
    "]:\n",
    "    if isinstance(method, property):\n",
    "        # For properties, we can access __doc__ directly\n",
    "        print(f\"Method: {method.fget.__name__}, Docstring: {method.__doc__}, Annotations: {method.fget.__annotations__}\")\n",
    "    else:\n",
    "        # For regular methods\n",
    "        print(f\"Method: {method.__name__}, Docstring: {method.__doc__}, Annotations: {method.__annotations__}\")"
   ]
  },
  {
   "cell_type": "code",
   "execution_count": 1196,
   "id": "d11f8a09",
   "metadata": {},
   "outputs": [],
   "source": [
    "s_3 = Square()"
   ]
  },
  {
   "cell_type": "code",
   "execution_count": 1197,
   "id": "440356d0",
   "metadata": {},
   "outputs": [
    {
     "name": "stdout",
     "output_type": "stream",
     "text": [
      "Square with side length: 1.0\n"
     ]
    },
    {
     "data": {
      "text/plain": [
       "Square(side_length=1.0)"
      ]
     },
     "execution_count": 1197,
     "metadata": {},
     "output_type": "execute_result"
    }
   ],
   "source": [
    "print(s_3)\n",
    "s_3"
   ]
  },
  {
   "cell_type": "markdown",
   "id": "80f75b15",
   "metadata": {},
   "source": [
    "--------------------"
   ]
  },
  {
   "cell_type": "markdown",
   "id": "66e011ae-9e90-41eb-923f-30b989d09554",
   "metadata": {},
   "source": [
    "<center>\n",
    "  <h3 style=\"color:rgb(162, 238, 200); font-family: Arial, sans-serif; background-color: Blue; padding: 8px; border-radius: 5px;\">Rectangle</h3>\n",
    "</center>\n",
    "\n",
    "<h3 style=\"color: #34495e; font-family: Arial, sans-serif;\">Objective</h3>\n",
    "<p style=\"color: #2c3e50; font-family: Arial, sans-serif; line-height: 1.6;\">\n",
    "  Define a class that models a rectangle as a four-sided polygon where opposite sides are equal in length and all angles are 90 degrees. Include methods for calculating its properties and appropriate string representations.\n",
    "</p>\n",
    "\n",
    "<h3 style=\"color: #34495e; font-family: Arial, sans-serif;\">Class Structure</h3>\n",
    "<ol style=\"color: #2c3e50; font-family: Arial, sans-serif; line-height: 1.8;\">\n",
    "  <li>\n",
    "    <strong style=\"color: #2980b9; background-color: #eafaf1; padding: 5px; border-radius: 5px;\">Rectangle Class:</strong>\n",
    "    <ul>\n",
    "      <li>This class will have <code>length</code> and <code>width</code> as its attributes to represent the dimensions of the rectangle.</li>\n",
    "      <li>The constructor (<code>__init__</code>) will initialize the <code>length</code> and <code>width</code> of the rectangle.</li>\n",
    "      <li>\n",
    "        Add property methods (<code>@property</code> and <code>@property.setter</code>) for:\n",
    "        <ul>\n",
    "          <li><strong>Length:</strong> Getter and setter for the length.</li>\n",
    "          <li><strong>Width:</strong> Getter and setter for the width.</li>\n",
    "        </ul>\n",
    "      </li>\n",
    "      <li>\n",
    "        Add methods to calculate:\n",
    "        <ul>\n",
    "          <li><strong>Area:</strong> Calculate the area of the rectangle (<code>length × width</code>).</li>\n",
    "          <li><strong>Perimeter:</strong> Calculate the perimeter of the rectangle (<code>2 × (length + width)</code>).</li>\n",
    "          <li><strong>Diagonal:</strong> Calculate the diagonal of the rectangle (<code>√(length² + width²)</code>).</li>\n",
    "        </ul>\n",
    "      </li>\n",
    "      <li>\n",
    "        Add the <code>__repr__</code> and <code>__str__</code> methods to provide meaningful string representations of the Rectangle object.\n",
    "      </li>\n",
    "      <li>\n",
    "        Ensure every method and property includes proper type annotations and docstrings to describe their functionality.\n",
    "      </li>\n",
    "    </ul>\n",
    "  </li>\n",
    "</ol>\n"
   ]
  },
  {
   "cell_type": "code",
   "execution_count": 1198,
   "id": "53af123e-955e-47b3-9544-9c48385352d1",
   "metadata": {},
   "outputs": [],
   "source": [
    "class Rectangle:\n",
    "    \"\"\"A class which represent Rectangle: A four-sided polygon where opposite sides are equal in length and all angles are equal to 90 degrees.\"\"\"\n",
    "    def __init__(self, width: float = 1.0, height: float = 1.0) -> None:\n",
    "        \"\"\"initiate the class with parameters and its default values\"\"\"\n",
    "        self.width = width\n",
    "        self.height = height\n",
    "\n",
    "    \n",
    "    def area(self) -> float:\n",
    "        \"\"\"To calculate the area of the Rectangle\"\"\"\n",
    "        return self.width * self.height\n",
    "    \n",
    "    def perimeter(self) -> float:\n",
    "        \"\"\"To calculate the perimeter of the square\"\"\"\n",
    "        return 2 * (self.width + self.height)\n",
    "\n",
    "    def __repr__(self) -> str:\n",
    "        \"\"\"Return a string representation of the Square\"\"\"\n",
    "        return f\"Rectangle(width={self.width}, height={self.height})\"\n",
    "\n",
    "    def __str__(self) -> str:\n",
    "        \"\"\"Return a use-friendly representation of the Squared\"\"\"\n",
    "        return f\"Rectangle with width: {self.width}, height: {self.height}, area: {self.area}, perimeter: {self.perimeter}\"\n"
   ]
  },
  {
   "cell_type": "code",
   "execution_count": 1199,
   "id": "fc46a341-beb3-437c-bf6e-f4668584c256",
   "metadata": {},
   "outputs": [],
   "source": [
    "R_1 = Rectangle(width=4, height=2)\n",
    "R_2 = Rectangle(width = 7,height = 3)"
   ]
  },
  {
   "cell_type": "code",
   "execution_count": 1200,
   "id": "4f3b7aa8-3d1a-493c-9824-e59f4083b71e",
   "metadata": {},
   "outputs": [
    {
     "name": "stdout",
     "output_type": "stream",
     "text": [
      "Rectangle with width: 4, height: 2, area: <bound method Rectangle.area of Rectangle(width=4, height=2)>, perimeter: <bound method Rectangle.perimeter of Rectangle(width=4, height=2)>\n",
      "Rectangle with width: 7, height: 3, area: <bound method Rectangle.area of Rectangle(width=7, height=3)>, perimeter: <bound method Rectangle.perimeter of Rectangle(width=7, height=3)>\n"
     ]
    }
   ],
   "source": [
    "print(R_1)\n",
    "print(R_2)"
   ]
  },
  {
   "cell_type": "code",
   "execution_count": 1201,
   "id": "5389e3ae-faa3-4845-b104-9b7589c56bea",
   "metadata": {},
   "outputs": [
    {
     "data": {
      "text/plain": [
       "Rectangle(width=4, height=2)"
      ]
     },
     "execution_count": 1201,
     "metadata": {},
     "output_type": "execute_result"
    }
   ],
   "source": [
    "R_1"
   ]
  },
  {
   "cell_type": "code",
   "execution_count": 1202,
   "id": "d815e4f7-0d60-415f-912c-77a73ec22d7a",
   "metadata": {},
   "outputs": [
    {
     "data": {
      "text/plain": [
       "Rectangle(width=7, height=3)"
      ]
     },
     "execution_count": 1202,
     "metadata": {},
     "output_type": "execute_result"
    }
   ],
   "source": [
    "R_2"
   ]
  },
  {
   "cell_type": "code",
   "execution_count": 1203,
   "id": "72361cce-88bd-43b7-9ae0-0699258bb02b",
   "metadata": {},
   "outputs": [
    {
     "name": "stdout",
     "output_type": "stream",
     "text": [
      "mappingproxy({'__dict__': <attribute '__dict__' of 'Rectangle' objects>,\n",
      "              '__doc__': 'A class which represent Rectangle: A four-sided '\n",
      "                         'polygon where opposite sides are equal in length and '\n",
      "                         'all angles are equal to 90 degrees.',\n",
      "              '__init__': <function Rectangle.__init__ at 0x0000025CCD47B600>,\n",
      "              '__module__': '__main__',\n",
      "              '__repr__': <function Rectangle.__repr__ at 0x0000025CCD4CC360>,\n",
      "              '__str__': <function Rectangle.__str__ at 0x0000025CCD4CC5E0>,\n",
      "              '__weakref__': <attribute '__weakref__' of 'Rectangle' objects>,\n",
      "              'area': <function Rectangle.area at 0x0000025CCD4CC540>,\n",
      "              'perimeter': <function Rectangle.perimeter at 0x0000025CCD4CC4A0>})\n"
     ]
    }
   ],
   "source": [
    "from pprint import pprint\n",
    "pprint(Rectangle.__dict__)"
   ]
  },
  {
   "cell_type": "code",
   "execution_count": 1204,
   "id": "000ab8b9-7579-41e5-bd15-3ac6a3d1d841",
   "metadata": {},
   "outputs": [
    {
     "name": "stdout",
     "output_type": "stream",
     "text": [
      "mappingproxy({'__dict__': <attribute '__dict__' of 'Rectangle' objects>,\n",
      "              '__doc__': 'A class which represent Rectangle: A four-sided '\n",
      "                         'polygon where opposite sides are equal in length and '\n",
      "                         'all angles are equal to 90 degrees.',\n",
      "              '__init__': <function Rectangle.__init__ at 0x0000025CCD47B600>,\n",
      "              '__module__': '__main__',\n",
      "              '__repr__': <function Rectangle.__repr__ at 0x0000025CCD4CC360>,\n",
      "              '__str__': <function Rectangle.__str__ at 0x0000025CCD4CC5E0>,\n",
      "              '__weakref__': <attribute '__weakref__' of 'Rectangle' objects>,\n",
      "              'area': <function Rectangle.area at 0x0000025CCD4CC540>,\n",
      "              'perimeter': <function Rectangle.perimeter at 0x0000025CCD4CC4A0>})\n"
     ]
    }
   ],
   "source": [
    "pprint(vars(Rectangle))"
   ]
  },
  {
   "cell_type": "code",
   "execution_count": 1205,
   "id": "58d37c5e",
   "metadata": {},
   "outputs": [
    {
     "name": "stdout",
     "output_type": "stream",
     "text": [
      "{'width': 4, 'height': 2}\n",
      "{'width': 7, 'height': 3}\n"
     ]
    }
   ],
   "source": [
    "print(R_1.__dict__)\n",
    "print(R_2.__dict__)"
   ]
  },
  {
   "cell_type": "code",
   "execution_count": 1206,
   "id": "67f31985",
   "metadata": {},
   "outputs": [
    {
     "name": "stdout",
     "output_type": "stream",
     "text": [
      "Help on class Rectangle in module __main__:\n",
      "\n",
      "class Rectangle(builtins.object)\n",
      " |  Rectangle(width: float = 1.0, height: float = 1.0) -> None\n",
      " |\n",
      " |  A class which represent Rectangle: A four-sided polygon where opposite sides are equal in length and all angles are equal to 90 degrees.\n",
      " |\n",
      " |  Methods defined here:\n",
      " |\n",
      " |  __init__(self, width: float = 1.0, height: float = 1.0) -> None\n",
      " |      initiate the class with parameters and its default values\n",
      " |\n",
      " |  __repr__(self) -> str\n",
      " |      Return a string representation of the Square\n",
      " |\n",
      " |  __str__(self) -> str\n",
      " |      Return a use-friendly representation of the Squared\n",
      " |\n",
      " |  area(self) -> float\n",
      " |      To calculate the area of the Rectangle\n",
      " |\n",
      " |  perimeter(self) -> float\n",
      " |      To calculate the perimeter of the square\n",
      " |\n",
      " |  ----------------------------------------------------------------------\n",
      " |  Data descriptors defined here:\n",
      " |\n",
      " |  __dict__\n",
      " |      dictionary for instance variables\n",
      " |\n",
      " |  __weakref__\n",
      " |      list of weak references to the object\n",
      "\n"
     ]
    }
   ],
   "source": [
    "help(Rectangle)"
   ]
  },
  {
   "cell_type": "code",
   "execution_count": 1207,
   "id": "eb655aed",
   "metadata": {},
   "outputs": [
    {
     "name": "stdout",
     "output_type": "stream",
     "text": [
      "A class which represent Rectangle: A four-sided polygon where opposite sides are equal in length and all angles are equal to 90 degrees.\n",
      "Method: __init__,   Docstring: initiate the class with parameters and its default values,   Annotations: {'width': <class 'float'>, 'height': <class 'float'>, 'return': None}\n",
      "Method: area,   Docstring: To calculate the area of the Rectangle,   Annotations: {'return': <class 'float'>}\n",
      "Method: perimeter,   Docstring: To calculate the perimeter of the square,   Annotations: {'return': <class 'float'>}\n",
      "Method: __repr__,   Docstring: Return a string representation of the Square,   Annotations: {'return': <class 'str'>}\n",
      "Method: __str__,   Docstring: Return a use-friendly representation of the Squared,   Annotations: {'return': <class 'str'>}\n"
     ]
    }
   ],
   "source": [
    "print(Rectangle.__doc__)\n",
    "for method in [\n",
    "    Rectangle.__init__,\n",
    "    Rectangle.area,\n",
    "    Rectangle.perimeter,\n",
    "    Rectangle.__repr__,\n",
    "    Rectangle.__str__,\n",
    "]:\n",
    "    if isinstance(method, property):\n",
    "        print(f\"Method: {method.fget.__name__},    Docstring: {method.__doc__},     Annotations: {method.fget.__annotations__}\")\n",
    "    else:\n",
    "        print(f\"Method: {method.__name__},   Docstring: {method.__doc__},   Annotations: {method.__annotations__}\")"
   ]
  },
  {
   "cell_type": "code",
   "execution_count": 1208,
   "id": "3c046524",
   "metadata": {},
   "outputs": [
    {
     "name": "stdout",
     "output_type": "stream",
     "text": [
      "Rectangle with width: 1.0, height: 1.0, area: <bound method Rectangle.area of Rectangle(width=1.0, height=1.0)>, perimeter: <bound method Rectangle.perimeter of Rectangle(width=1.0, height=1.0)>\n"
     ]
    },
    {
     "data": {
      "text/plain": [
       "Rectangle(width=1.0, height=1.0)"
      ]
     },
     "execution_count": 1208,
     "metadata": {},
     "output_type": "execute_result"
    }
   ],
   "source": [
    "R_3 = Rectangle()\n",
    "print(R_3)\n",
    "R_3"
   ]
  },
  {
   "cell_type": "markdown",
   "id": "537a9863",
   "metadata": {},
   "source": [
    "----------------------------------"
   ]
  },
  {
   "cell_type": "markdown",
   "id": "ab7a2e2e-3fc1-49bc-8436-484462701c2f",
   "metadata": {},
   "source": [
    "<center>\n",
    "  <h3 style=\"color: #34495e; font-family: Arial, sans-serif; background-color: orange; padding: 8px; border-radius: 5px;\">Triangle</h3>\n",
    "</center>\n",
    "\n",
    "<h3 style=\"color: #34495e; font-family: Arial, sans-serif;\">Objective</h3>\n",
    "<p style=\"color: #2c3e50; font-family: Arial, sans-serif; line-height: 1.6;\">\n",
    "  Define a class that models a triangle as a three-sided polygon with three edges and three vertices. Include methods for calculating its properties and appropriate string representations.\n",
    "</p>\n",
    "\n",
    "<h3 style=\"color: #34495e; font-family: Arial, sans-serif;\">Class Structure</h3>\n",
    "<ol style=\"color: #2c3e50; font-family: Arial, sans-serif; line-height: 1.8;\">\n",
    "  <li>\n",
    "    <strong style=\"color: #2980b9; background-color: #eafaf1; padding: 5px; border-radius: 5px;\">Triangle Class:</strong>\n",
    "    <ul>\n",
    "      <li>This class will have <code>side_a</code>, <code>side_b</code>, and <code>side_c</code> as its attributes to represent the three sides of the triangle.</li>\n",
    "      <li>The constructor (<code>__init__</code>) will initialize the three sides of the triangle.</li>\n",
    "      <li>\n",
    "        Add property methods (<code>@property</code> and <code>@property.setter</code>) for:\n",
    "        <ul>\n",
    "          <li><strong>Side A:</strong> Getter and setter for the first side.</li>\n",
    "          <li><strong>Side B:</strong> Getter and setter for the second side.</li>\n",
    "          <li><strong>Side C:</strong> Getter and setter for the third side.</li>\n",
    "        </ul>\n",
    "      </li>\n",
    "      <li>\n",
    "        Add methods to calculate:\n",
    "        <ul>\n",
    "          <li><strong>Perimeter:</strong> Calculate the perimeter of the triangle (<code>side_a + side_b + side_c</code>).</li>\n",
    "          <li><strong>Area:</strong> Calculate the area using Heron's formula:\n",
    "            <code>√(s × (s - side_a) × (s - side_b) × (s - side_c))</code>, where <code>s</code> is the semi-perimeter.</li>\n",
    "          <li><strong>Type Classification:</strong> Determine whether the triangle is equilateral, isosceles, or scalene.</li>\n",
    "        </ul>\n",
    "      </li>\n",
    "      <li>\n",
    "        Add the <code>__repr__</code> and <code>__str__</code> methods to provide meaningful string representations of the Triangle object.\n",
    "      </li>\n",
    "      <li>\n",
    "        Ensure every method and property includes proper type annotations and docstrings to describe their functionality.\n",
    "      </li>\n",
    "    </ul>\n",
    "  </li>\n",
    "</ol>\n"
   ]
  },
  {
   "cell_type": "code",
   "execution_count": 1209,
   "id": "6fc7fc18-9a71-4584-bb80-beb2d15c909a",
   "metadata": {},
   "outputs": [],
   "source": [
    "class Triangle:\n",
    "    def __init__(self, p1: Point, p2: Point, p3: Point):\n",
    "        self.p1 = p1\n",
    "        self.p2 = p2\n",
    "        self.p3 = p3\n",
    "\n",
    "    def perimeter(self) -> float:\n",
    "        side1 = self.p1.distance_to(self.p2)\n",
    "        side2 = self.p2.distance_to(self.p3)\n",
    "        side3 = self.p3.distance_to(self.p1)\n",
    "        return side1 + side2 + side3\n",
    "\n",
    "    def area(self) -> float:\n",
    "        x1, y1 = self.p1.x, self.p1.y\n",
    "        x2, y2 = self.p2.x, self.p2.y\n",
    "        x3, y3 = self.p3.x, self.p3.y\n",
    "        return abs(x1 * (y2 - y3) + x2 * (y3 - y1) + x3 * (y1 - y2)) / 2\n",
    "\n",
    "    def __repr__(self) -> str:\n",
    "        return f\"Triangle(p1={self.p1}, p2={self.p2}, p3={self.p3})\"\n",
    "\n",
    "    def __str__(self) -> str:\n",
    "        return f\"Triangle with vertices {self.p1}, {self.p2}, and {self.p3}\""
   ]
  },
  {
   "cell_type": "code",
   "execution_count": 1210,
   "id": "be9f8918-5080-4a9a-8351-bf5a7a6146d7",
   "metadata": {},
   "outputs": [],
   "source": [
    "p1 = Point(0, 0)\n",
    "p2 = Point(3, 0)\n",
    "p3 = Point(3, 4)"
   ]
  },
  {
   "cell_type": "code",
   "execution_count": 1211,
   "id": "35a011da-d5a9-4b4d-b9b5-20c992cf5498",
   "metadata": {},
   "outputs": [],
   "source": [
    "triangle = Triangle(p1, p2, p3)"
   ]
  },
  {
   "cell_type": "code",
   "execution_count": 1212,
   "id": "8dec9e33-fe75-4410-b9ef-706cc79d4038",
   "metadata": {},
   "outputs": [
    {
     "name": "stdout",
     "output_type": "stream",
     "text": [
      "Triangle with vertices (0, 0), (3, 0), and (3, 4)\n"
     ]
    }
   ],
   "source": [
    "print(triangle)"
   ]
  },
  {
   "cell_type": "code",
   "execution_count": 1213,
   "id": "31bdf855-24d0-4d61-8131-fb4a0f83bcb8",
   "metadata": {},
   "outputs": [
    {
     "name": "stdout",
     "output_type": "stream",
     "text": [
      "Perimeter of the triangle: 12.0 units\n",
      "Area of the triangle: 6.0 square units\n"
     ]
    }
   ],
   "source": [
    "print(f\"Perimeter of the triangle: {triangle.perimeter()} units\")\n",
    "print(f\"Area of the triangle: {triangle.area()} square units\")\n"
   ]
  },
  {
   "cell_type": "code",
   "execution_count": 1214,
   "id": "0b3a665b-6ac1-4f84-84ee-17dc5ea5e833",
   "metadata": {},
   "outputs": [
    {
     "name": "stdout",
     "output_type": "stream",
     "text": [
      "Class __dict__: {'__module__': '__main__', '__init__': <function Triangle.__init__ at 0x0000025CCD4CCAE0>, 'perimeter': <function Triangle.perimeter at 0x0000025CCD4CCA40>, 'area': <function Triangle.area at 0x0000025CCD4CC220>, '__repr__': <function Triangle.__repr__ at 0x0000025CCD4CC680>, '__str__': <function Triangle.__str__ at 0x0000025CCD4CCB80>, '__dict__': <attribute '__dict__' of 'Triangle' objects>, '__weakref__': <attribute '__weakref__' of 'Triangle' objects>, '__doc__': None}\n",
      "Instance __dict__ for triangle: {'p1': Point(x=0, y=0), 'p2': Point(x=3, y=0), 'p3': Point(x=3, y=4)}\n"
     ]
    }
   ],
   "source": [
    "print(f\"Class __dict__: {Triangle.__dict__}\")\n",
    "print(f\"Instance __dict__ for triangle: {triangle.__dict__}\")\n"
   ]
  },
  {
   "cell_type": "code",
   "execution_count": 1215,
   "id": "79fecf4a-8663-4338-85a1-4147e1042f40",
   "metadata": {},
   "outputs": [
    {
     "name": "stdout",
     "output_type": "stream",
     "text": [
      "Help on class Triangle in module __main__:\n",
      "\n",
      "class Triangle(builtins.object)\n",
      " |  Triangle(p1: __main__.Point, p2: __main__.Point, p3: __main__.Point)\n",
      " |\n",
      " |  Methods defined here:\n",
      " |\n",
      " |  __init__(self, p1: __main__.Point, p2: __main__.Point, p3: __main__.Point)\n",
      " |      Initialize self.  See help(type(self)) for accurate signature.\n",
      " |\n",
      " |  __repr__(self) -> str\n",
      " |      Return repr(self).\n",
      " |\n",
      " |  __str__(self) -> str\n",
      " |      Return str(self).\n",
      " |\n",
      " |  area(self) -> float\n",
      " |\n",
      " |  perimeter(self) -> float\n",
      " |\n",
      " |  ----------------------------------------------------------------------\n",
      " |  Data descriptors defined here:\n",
      " |\n",
      " |  __dict__\n",
      " |      dictionary for instance variables\n",
      " |\n",
      " |  __weakref__\n",
      " |      list of weak references to the object\n",
      "\n"
     ]
    }
   ],
   "source": [
    "help(Triangle)"
   ]
  },
  {
   "cell_type": "markdown",
   "id": "addf016a",
   "metadata": {},
   "source": [
    "---------------------------------------"
   ]
  },
  {
   "cell_type": "markdown",
   "id": "6b34b994-470f-461b-9539-ee50f7993415",
   "metadata": {},
   "source": [
    "<center>\n",
    "  <h3 style=\"color: #34495e; font-family: Arial, sans-serif; background-color: pink; padding: 8px; border-radius: 5px;\">Trapezoid</h3>\n",
    "</center>\n",
    "\n",
    "<h3 style=\"color: #34495e; font-family: Arial, sans-serif;\">Objective</h3>\n",
    "<p style=\"color: #2c3e50; font-family: Arial, sans-serif; line-height: 1.6;\">\n",
    "  Define a class that models a trapezoid (US) / trapezium (UK) as a four-sided figure with at least one pair of parallel sides. Include methods for calculating its properties and appropriate string representations.\n",
    "</p>\n",
    "\n",
    "<h3 style=\"color: #34495e; font-family: Arial, sans-serif;\">Class Structure</h3>\n",
    "<ol style=\"color: #2c3e50; font-family: Arial, sans-serif; line-height: 1.8;\">\n",
    "  <li>\n",
    "    <strong style=\"color: #2980b9; background-color: #eafaf1; padding: 5px; border-radius: 5px;\">Trapezoid Class:</strong>\n",
    "    <ul>\n",
    "      <li>This class will have <code>base1</code>, <code>base2</code>, <code>height</code>, and optionally <code>side_a</code> and <code>side_b</code> as attributes to represent the dimensions of the trapezoid.</li>\n",
    "      <li>The constructor (<code>__init__</code>) will initialize the bases, height, and optionally the non-parallel sides.</li>\n",
    "      <li>\n",
    "        Add property methods (<code>@property</code> and <code>@property.setter</code>) for:\n",
    "        <ul>\n",
    "          <li><strong>Base 1:</strong> Getter and setter for the first base.</li>\n",
    "          <li><strong>Base 2:</strong> Getter and setter for the second base.</li>\n",
    "          <li><strong>Height:</strong> Getter and setter for the height.</li>\n",
    "          <li><strong>Side A:</strong> Getter and setter for the first non-parallel side (optional).</li>\n",
    "          <li><strong>Side B:</strong> Getter and setter for the second non-parallel side (optional).</li>\n",
    "        </ul>\n",
    "      </li>\n",
    "      <li>\n",
    "        Add methods to calculate:\n",
    "        <ul>\n",
    "          <li><strong>Area:</strong> Calculate the area of the trapezoid using the formula: \n",
    "            <code>(1/2) × (base1 + base2) × height</code>.</li>\n",
    "          <li><strong>Perimeter:</strong> If both non-parallel sides are provided, calculate the perimeter: \n",
    "            <code>base1 + base2 + side_a + side_b</code>.</li>\n",
    "          <li><strong>Isosceles Check:</strong> Determine whether the trapezoid is isosceles (i.e., non-parallel sides are equal).</li>\n",
    "        </ul>\n",
    "      </li>\n",
    "      <li>\n",
    "        Add the <code>__repr__</code> and <code>__str__</code> methods to provide meaningful string representations of the Trapezoid object.\n",
    "      </li>\n",
    "      <li>\n",
    "        Ensure every method and property includes proper type annotations and docstrings to describe their functionality.\n",
    "      </li>\n",
    "    </ul>\n",
    "  </li>\n",
    "</ol>\n"
   ]
  },
  {
   "cell_type": "code",
   "execution_count": 1216,
   "id": "bf73994d-9f8a-4717-a3ff-d16d3d171208",
   "metadata": {},
   "outputs": [],
   "source": [
    "class Trapezoid:\n",
    "\n",
    "    def __init__(self, base1: float = 1.0, base2: float = 1.0, side1: float = 1.0, side2: float = 1.0, height: float = 1.0):\n",
    "        self.base1 = base1\n",
    "        self.base2 = base2\n",
    "        self.side1 = side1\n",
    "        self.side2 = side2\n",
    "        self.height = height\n",
    "\n",
    "    def area(self) -> float:\n",
    "        return 0.5 * (self.base1 + self.base2) * self.height\n",
    "\n",
    "    def perimeter(self) -> float:\n",
    "        return self.base1 + self.base2 + self.side1 + self.side2\n",
    "\n",
    "    def __repr__(self) -> str:\n",
    "        return (f\"Trapezoid(base1={self.base1}, base2={self.base2}, \"\n",
    "                f\"side1={self.side1}, side2={self.side2}, height={self.height})\")\n",
    "\n",
    "    def __str__(self) -> str:\n",
    "        return (f\"Trapezoid with bases {self.base1} and {self.base2}, \"\n",
    "                f\"sides {self.side1} and {self.side2}, and height {self.height}\")"
   ]
  },
  {
   "cell_type": "code",
   "execution_count": 1217,
   "id": "45de05b4-9126-4f15-ab8d-fdf98011e876",
   "metadata": {},
   "outputs": [],
   "source": [
    "inst_1 = Trapezoid(base1=3, base2=5, side1=4, side2=4, height=6)\n",
    "inst_2 = Trapezoid(base1=4, base2=6, side1=5, side2=5, height=8)"
   ]
  },
  {
   "cell_type": "code",
   "execution_count": 1218,
   "id": "f3c9361e-7801-40c4-b983-102e547ada84",
   "metadata": {},
   "outputs": [
    {
     "name": "stdout",
     "output_type": "stream",
     "text": [
      "Trapezoid with bases 3 and 5, sides 4 and 4, and height 6\n",
      "Trapezoid with bases 4 and 6, sides 5 and 5, and height 8\n"
     ]
    }
   ],
   "source": [
    "print(inst_1)\n",
    "print(inst_2)"
   ]
  },
  {
   "cell_type": "code",
   "execution_count": 1219,
   "id": "4c6a076f-2a81-4623-ac23-b9b06fc50e89",
   "metadata": {},
   "outputs": [
    {
     "name": "stdout",
     "output_type": "stream",
     "text": [
      "Area of inst_1: 24.0 square units\n",
      "Perimeter of inst_1: 16 units\n"
     ]
    }
   ],
   "source": [
    "print(f\"Area of inst_1: {inst_1.area()} square units\")\n",
    "print(f\"Perimeter of inst_1: {inst_1.perimeter()} units\")"
   ]
  },
  {
   "cell_type": "code",
   "execution_count": 1220,
   "id": "081a4511-3d1b-405a-b88d-821c7a3bac0b",
   "metadata": {},
   "outputs": [
    {
     "name": "stdout",
     "output_type": "stream",
     "text": [
      "Area of inst_2: 40.0 square units\n",
      "Perimeter of inst_2: 20 units\n"
     ]
    }
   ],
   "source": [
    "print(f\"Area of inst_2: {inst_2.area()} square units\")\n",
    "print(f\"Perimeter of inst_2: {inst_2.perimeter()} units\")"
   ]
  },
  {
   "cell_type": "code",
   "execution_count": 1221,
   "id": "88714243-b5b3-42df-ae5e-fc2a089f0469",
   "metadata": {},
   "outputs": [
    {
     "name": "stdout",
     "output_type": "stream",
     "text": [
      "Class __dict__: {'__module__': '__main__', '__init__': <function Trapezoid.__init__ at 0x0000025CCC48C400>, 'area': <function Trapezoid.area at 0x0000025CCD317B00>, 'perimeter': <function Trapezoid.perimeter at 0x0000025CCD4CCC20>, '__repr__': <function Trapezoid.__repr__ at 0x0000025CCD4CCD60>, '__str__': <function Trapezoid.__str__ at 0x0000025CCD4CCF40>, '__dict__': <attribute '__dict__' of 'Trapezoid' objects>, '__weakref__': <attribute '__weakref__' of 'Trapezoid' objects>, '__doc__': None}\n",
      "Class vars: {'__module__': '__main__', '__init__': <function Trapezoid.__init__ at 0x0000025CCC48C400>, 'area': <function Trapezoid.area at 0x0000025CCD317B00>, 'perimeter': <function Trapezoid.perimeter at 0x0000025CCD4CCC20>, '__repr__': <function Trapezoid.__repr__ at 0x0000025CCD4CCD60>, '__str__': <function Trapezoid.__str__ at 0x0000025CCD4CCF40>, '__dict__': <attribute '__dict__' of 'Trapezoid' objects>, '__weakref__': <attribute '__weakref__' of 'Trapezoid' objects>, '__doc__': None}\n",
      "Instance __dict__ for inst_1: {'base1': 3, 'base2': 5, 'side1': 4, 'side2': 4, 'height': 6}\n",
      "Instance vars for inst_1: {'base1': 3, 'base2': 5, 'side1': 4, 'side2': 4, 'height': 6}\n"
     ]
    }
   ],
   "source": [
    "print(f\"Class __dict__: {Trapezoid.__dict__}\")\n",
    "print(f\"Class vars: {vars(Trapezoid)}\")\n",
    "print(f\"Instance __dict__ for inst_1: {inst_1.__dict__}\")\n",
    "print(f\"Instance vars for inst_1: {vars(inst_1)}\")\n"
   ]
  },
  {
   "cell_type": "code",
   "execution_count": 1222,
   "id": "7dea73f6-c116-4c4e-8927-8d774048e493",
   "metadata": {},
   "outputs": [
    {
     "name": "stdout",
     "output_type": "stream",
     "text": [
      "Help on class Trapezoid in module __main__:\n",
      "\n",
      "class Trapezoid(builtins.object)\n",
      " |  Trapezoid(base1: float = 1.0, base2: float = 1.0, side1: float = 1.0, side2: float = 1.0, height: float = 1.0)\n",
      " |\n",
      " |  Methods defined here:\n",
      " |\n",
      " |  __init__(self, base1: float = 1.0, base2: float = 1.0, side1: float = 1.0, side2: float = 1.0, height: float = 1.0)\n",
      " |      Initialize self.  See help(type(self)) for accurate signature.\n",
      " |\n",
      " |  __repr__(self) -> str\n",
      " |      Return repr(self).\n",
      " |\n",
      " |  __str__(self) -> str\n",
      " |      Return str(self).\n",
      " |\n",
      " |  area(self) -> float\n",
      " |\n",
      " |  perimeter(self) -> float\n",
      " |\n",
      " |  ----------------------------------------------------------------------\n",
      " |  Data descriptors defined here:\n",
      " |\n",
      " |  __dict__\n",
      " |      dictionary for instance variables\n",
      " |\n",
      " |  __weakref__\n",
      " |      list of weak references to the object\n",
      "\n"
     ]
    }
   ],
   "source": [
    "help(Trapezoid)"
   ]
  },
  {
   "cell_type": "markdown",
   "id": "0e6c1305",
   "metadata": {},
   "source": [
    "---------------------------------"
   ]
  },
  {
   "cell_type": "markdown",
   "id": "9d4279f6-6fc7-4a54-b3fa-25075fe4ab7a",
   "metadata": {},
   "source": [
    "<center>\n",
    "  <h3 style=\"color:rgb(214, 221, 228); font-family: Arial, sans-serif; background-color: Black; padding: 8px; border-radius: 5px;\">Parallelogram</h3>\n",
    "</center>\n",
    "\n",
    "<h3 style=\"color: #34495e; font-family: Arial, sans-serif;\">Objective</h3>\n",
    "<p style=\"color: #2c3e50; font-family: Arial, sans-serif; line-height: 1.6;\">\n",
    "  Define a class that models a parallelogram as a four-sided shape with opposite sides that are equal and parallel. Include methods for calculating its properties and appropriate string representations.\n",
    "</p>\n",
    "\n",
    "<h3 style=\"color: #34495e; font-family: Arial, sans-serif;\">Class Structure</h3>\n",
    "<ol style=\"color: #2c3e50; font-family: Arial, sans-serif; line-height: 1.8;\">\n",
    "  <li>\n",
    "    <strong style=\"color: #2980b9; background-color: #eafaf1; padding: 5px; border-radius: 5px;\">Parallelogram Class:</strong>\n",
    "    <ul>\n",
    "      <li>This class will have <code>base</code>, <code>side</code>, and <code>height</code> as attributes to represent the dimensions of the parallelogram.</li>\n",
    "      <li>The constructor (<code>__init__</code>) will initialize the base, side, and height of the parallelogram.</li>\n",
    "      <li>\n",
    "        Add property methods (<code>@property</code> and <code>@property.setter</code>) for:\n",
    "        <ul>\n",
    "          <li><strong>Base:</strong> Getter and setter for the base.</li>\n",
    "          <li><strong>Side:</strong> Getter and setter for the side length.</li>\n",
    "          <li><strong>Height:</strong> Getter and setter for the height.</li>\n",
    "        </ul>\n",
    "      </li>\n",
    "      <li>\n",
    "        Add methods to calculate:\n",
    "        <ul>\n",
    "          <li><strong>Area:</strong> Calculate the area of the parallelogram using the formula: \n",
    "            <code>base × height</code>.</li>\n",
    "          <li><strong>Perimeter:</strong> Calculate the perimeter using the formula: \n",
    "            <code>2 × (base + side)</code>.</li>\n",
    "          <li><strong>Diagonal Lengths:</strong> Calculate the diagonals using the formula: \n",
    "            <code>√(base² + side² ± 2 × base × side × cos(angle))</code>, if the angle between sides is provided.</li>\n",
    "        </ul>\n",
    "      </li>\n",
    "      <li>\n",
    "        Add the <code>__repr__</code> and <code>__str__</code> methods to provide meaningful string representations of the Parallelogram object.\n",
    "      </li>\n",
    "      <li>\n",
    "        Ensure every method and property includes proper type annotations and docstrings to describe their functionality.\n",
    "      </li>\n",
    "    </ul>\n",
    "  </li>\n",
    "</ol>\n"
   ]
  },
  {
   "cell_type": "code",
   "execution_count": 1223,
   "id": "4a0287ef-0c4a-4c6c-b3e9-bc507fba9bed",
   "metadata": {},
   "outputs": [],
   "source": [
    "\n",
    "class Parallelogram:\n",
    "    def __init__(self, p1: Point, p2: Point, p3: Point, p4: Point):\n",
    "        self.p1 = p1\n",
    "        self.p2 = p2\n",
    "        self.p3 = p3\n",
    "        self.p4 = p4\n",
    "\n",
    "    def area(self) -> float:\n",
    "        base = self.p1.distance_to(self.p2)\n",
    "        height = abs(self.p1.y - self.p3.y)  \n",
    "        return base * height\n",
    "\n",
    "    def perimeter(self) -> float:\n",
    "        side1 = self.p1.distance_to(self.p2)\n",
    "        side2 = self.p2.distance_to(self.p3)\n",
    "        return 2 * (side1 + side2)\n",
    "\n",
    "    def display_points(self) -> str:\n",
    "        return f\"Vertices: {self.p1.locate()}, {self.p2.locate()}, {self.p3.locate()}, {self.p4.locate()}\"\n",
    "\n",
    "    def __repr__(self) -> str:\n",
    "        return (f\"Parallelogram(p1={repr(self.p1)}, p2={repr(self.p2)}, \"\n",
    "                f\"p3={repr(self.p3)}, p4={repr(self.p4)})\")\n",
    "\n",
    "    def __str__(self) -> str:\n",
    "        return (f\"Parallelogram with vertices {self.p1}, {self.p2}, {self.p3}, {self.p4}\")"
   ]
  },
  {
   "cell_type": "code",
   "execution_count": 1224,
   "id": "19a9becc-83b2-4199-a1e7-4a3266f9e342",
   "metadata": {},
   "outputs": [],
   "source": [
    "p1 = Point(0, 0)\n",
    "p2 = Point(4, 0)\n",
    "p3 = Point(5, 3)\n",
    "p4 = Point(1, 3)"
   ]
  },
  {
   "cell_type": "code",
   "execution_count": 1225,
   "id": "b1359738-fed6-4552-a8b4-61c47a916c79",
   "metadata": {},
   "outputs": [],
   "source": [
    "parallelogram = Parallelogram(p1, p2, p3, p4)"
   ]
  },
  {
   "cell_type": "code",
   "execution_count": 1226,
   "id": "6245f7c8-5020-4943-80b0-12f63fcec26d",
   "metadata": {},
   "outputs": [
    {
     "name": "stdout",
     "output_type": "stream",
     "text": [
      "Parallelogram with vertices (0, 0), (4, 0), (5, 3), (1, 3)\n"
     ]
    }
   ],
   "source": [
    "print(parallelogram)"
   ]
  },
  {
   "cell_type": "code",
   "execution_count": 1227,
   "id": "1d0b24f8-78b9-4471-a3fc-76b5922adb12",
   "metadata": {},
   "outputs": [
    {
     "name": "stdout",
     "output_type": "stream",
     "text": [
      "Vertices: None, None, None, None\n"
     ]
    }
   ],
   "source": [
    "print(parallelogram.display_points())"
   ]
  },
  {
   "cell_type": "code",
   "execution_count": 1228,
   "id": "12482790-2426-4b89-b0b9-8a0fd17a7ed6",
   "metadata": {},
   "outputs": [
    {
     "name": "stdout",
     "output_type": "stream",
     "text": [
      "Area of the Parallelogram: 12.0 square units\n",
      "Perimeter of the Parallelogram: 14.32455532033676 units\n"
     ]
    }
   ],
   "source": [
    "print(f\"Area of the Parallelogram: {parallelogram.area()} square units\")\n",
    "print(f\"Perimeter of the Parallelogram: {parallelogram.perimeter()} units\")"
   ]
  },
  {
   "cell_type": "code",
   "execution_count": 1229,
   "id": "b26e90c5-46f9-4fb4-86e5-fd076237bd2c",
   "metadata": {},
   "outputs": [
    {
     "name": "stdout",
     "output_type": "stream",
     "text": [
      "Class __dict__: {'__module__': '__main__', '__init__': <function Parallelogram.__init__ at 0x0000025CCD4CD800>, 'area': <function Parallelogram.area at 0x0000025CCD4CD440>, 'perimeter': <function Parallelogram.perimeter at 0x0000025CCD4CD760>, 'display_points': <function Parallelogram.display_points at 0x0000025CCD4CD080>, '__repr__': <function Parallelogram.__repr__ at 0x0000025CCD4CD940>, '__str__': <function Parallelogram.__str__ at 0x0000025CCD4CD8A0>, '__dict__': <attribute '__dict__' of 'Parallelogram' objects>, '__weakref__': <attribute '__weakref__' of 'Parallelogram' objects>, '__doc__': None}\n",
      "Instance __dict__ for parallelogram: {'p1': Point(x=0, y=0), 'p2': Point(x=4, y=0), 'p3': Point(x=5, y=3), 'p4': Point(x=1, y=3)}\n",
      "Class vars: {'__module__': '__main__', '__init__': <function Parallelogram.__init__ at 0x0000025CCD4CD800>, 'area': <function Parallelogram.area at 0x0000025CCD4CD440>, 'perimeter': <function Parallelogram.perimeter at 0x0000025CCD4CD760>, 'display_points': <function Parallelogram.display_points at 0x0000025CCD4CD080>, '__repr__': <function Parallelogram.__repr__ at 0x0000025CCD4CD940>, '__str__': <function Parallelogram.__str__ at 0x0000025CCD4CD8A0>, '__dict__': <attribute '__dict__' of 'Parallelogram' objects>, '__weakref__': <attribute '__weakref__' of 'Parallelogram' objects>, '__doc__': None}\n",
      "Instance vars for parallelogram: {'p1': Point(x=0, y=0), 'p2': Point(x=4, y=0), 'p3': Point(x=5, y=3), 'p4': Point(x=1, y=3)}\n"
     ]
    }
   ],
   "source": [
    "print(f\"Class __dict__: {Parallelogram.__dict__}\")\n",
    "print(f\"Instance __dict__ for parallelogram: {parallelogram.__dict__}\")\n",
    "print(f\"Class vars: {vars(Parallelogram)}\")\n",
    "print(f\"Instance vars for parallelogram: {vars(parallelogram)}\")"
   ]
  },
  {
   "cell_type": "code",
   "execution_count": 1230,
   "id": "1e926ab9-5081-4454-89c6-0b24a4f50f23",
   "metadata": {},
   "outputs": [
    {
     "name": "stdout",
     "output_type": "stream",
     "text": [
      "Help on class Parallelogram in module __main__:\n",
      "\n",
      "class Parallelogram(builtins.object)\n",
      " |  Parallelogram(p1: __main__.Point, p2: __main__.Point, p3: __main__.Point, p4: __main__.Point)\n",
      " |\n",
      " |  Methods defined here:\n",
      " |\n",
      " |  __init__(self, p1: __main__.Point, p2: __main__.Point, p3: __main__.Point, p4: __main__.Point)\n",
      " |      Initialize self.  See help(type(self)) for accurate signature.\n",
      " |\n",
      " |  __repr__(self) -> str\n",
      " |      Return repr(self).\n",
      " |\n",
      " |  __str__(self) -> str\n",
      " |      Return str(self).\n",
      " |\n",
      " |  area(self) -> float\n",
      " |\n",
      " |  display_points(self) -> str\n",
      " |\n",
      " |  perimeter(self) -> float\n",
      " |\n",
      " |  ----------------------------------------------------------------------\n",
      " |  Data descriptors defined here:\n",
      " |\n",
      " |  __dict__\n",
      " |      dictionary for instance variables\n",
      " |\n",
      " |  __weakref__\n",
      " |      list of weak references to the object\n",
      "\n"
     ]
    }
   ],
   "source": [
    "help(Parallelogram)"
   ]
  },
  {
   "cell_type": "code",
   "execution_count": 1231,
   "id": "414591f6-9ff9-4044-abe3-36b31b44497f",
   "metadata": {},
   "outputs": [
    {
     "name": "stdout",
     "output_type": "stream",
     "text": [
      "Distance from p1 to p5: 8.06225774829855\n"
     ]
    }
   ],
   "source": [
    "p5 = Point(7, 4)\n",
    "print(f\"Distance from p1 to p5: {p1.distance_to(p5)}\")"
   ]
  },
  {
   "cell_type": "markdown",
   "id": "1605690e",
   "metadata": {},
   "source": [
    "------------------------"
   ]
  },
  {
   "cell_type": "markdown",
   "id": "f3390973-b5f5-4013-8573-1d38a81faddd",
   "metadata": {},
   "source": [
    "<center>\n",
    "  <h3 style=\"color: #34495e; font-family: Arial, sans-serif; background-color: Yellow; padding: 8px; border-radius: 5px;\">Rhombus</h3>\n",
    "</center>\n",
    "\n",
    "<h3 style=\"color: #34495e; font-family: Arial, sans-serif;\">Objective</h3>\n",
    "<p style=\"color: #2c3e50; font-family: Arial, sans-serif; line-height: 1.6;\">\n",
    "  Define a class that models a rhombus as a parallelogram where all sides are of equal length, but the angles are not necessarily 90 degrees. Include methods for calculating its properties and appropriate string representations.\n",
    "</p>\n",
    "\n",
    "<h3 style=\"color: #34495e; font-family: Arial, sans-serif;\">Class Structure</h3>\n",
    "<ol style=\"color: #2c3e50; font-family: Arial, sans-serif; line-height: 1.8;\">\n",
    "  <li>\n",
    "    <strong style=\"color: #2980b9; background-color: #eafaf1; padding: 5px; border-radius: 5px;\">Rhombus Class:</strong>\n",
    "    <ul>\n",
    "      <li>This class will have <code>side</code>, <code>diagonal1</code>, and <code>diagonal2</code> as attributes to represent the dimensions of the rhombus.</li>\n",
    "      <li>The constructor (<code>__init__</code>) will initialize the side length and diagonals of the rhombus.</li>\n",
    "      <li>\n",
    "        Add property methods (<code>@property</code> and <code>@property.setter</code>) for:\n",
    "        <ul>\n",
    "          <li><strong>Side:</strong> Getter and setter for the side length.</li>\n",
    "          <li><strong>Diagonal 1:</strong> Getter and setter for the first diagonal.</li>\n",
    "          <li><strong>Diagonal 2:</strong> Getter and setter for the second diagonal.</li>\n",
    "        </ul>\n",
    "      </li>\n",
    "      <li>\n",
    "        Add methods to calculate:\n",
    "        <ul>\n",
    "          <li><strong>Area:</strong> Calculate the area of the rhombus using the formula: \n",
    "            <code>(1/2) × diagonal1 × diagonal2</code>.</li>\n",
    "          <li><strong>Perimeter:</strong> Calculate the perimeter using the formula: \n",
    "            <code>4 × side</code>.</li>\n",
    "          <li><strong>Height:</strong> Calculate the height using the formula: \n",
    "            <code>area / side</code>.</li>\n",
    "          <li><strong>Angle Calculation:</strong> If needed, compute the angles using trigonometric relationships.</li>\n",
    "        </ul>\n",
    "      </li>\n",
    "      <li>\n",
    "        Add the <code>__repr__</code> and <code>__str__</code> methods to provide meaningful string representations of the Rhombus object.\n",
    "      </li>\n",
    "      <li>\n",
    "        Ensure every method and property includes proper type annotations and docstrings to describe their functionality.\n",
    "      </li>\n",
    "    </ul>\n",
    "  </li>\n",
    "</ol>\n"
   ]
  },
  {
   "cell_type": "code",
   "execution_count": 1232,
   "id": "9544ec3d-268d-44b7-ae84-9ca865049d5b",
   "metadata": {},
   "outputs": [],
   "source": [
    "\n",
    "class Rhombus:\n",
    "    \n",
    "    def __init__(self, p1: Point, p2: Point, p3: Point, p4: Point):\n",
    "        self.p1 = p1\n",
    "        self.p2 = p2\n",
    "        self.p3 = p3\n",
    "        self.p4 = p4\n",
    "\n",
    "    def area(self) -> float:\n",
    "        d1 = self.p1.distance_to(self.p3)\n",
    "        d2 = self.p2.distance_to(self.p4)\n",
    "        \n",
    "        # Area formula: (1/2) * d1 * d2\n",
    "        return 0.5 * d1 * d2\n",
    "\n",
    "    def perimeter(self) -> float:\n",
    "        side = self.p1.distance_to(self.p2)\n",
    "        return 4 * side\n",
    "\n",
    "    def display_points(self) -> str:\n",
    "        return f\"Vertices: {self.p1.locate()}, {self.p2.locate()}, {self.p3.locate()}, {self.p4.locate()}\"\n",
    "\n",
    "    def __repr__(self) -> str:\n",
    "        return (f\"Rhombus(p1={repr(self.p1)}, p2={repr(self.p2)}, \"\n",
    "                f\"p3={repr(self.p3)}, p4={repr(self.p4)})\")\n",
    "\n",
    "    def __str__(self) -> str:\n",
    "        return (f\"Rhombus with vertices {self.p1}, {self.p2}, {self.p3}, {self.p4}\")"
   ]
  },
  {
   "cell_type": "code",
   "execution_count": 1233,
   "id": "b45753c5-a7e1-4552-9b2f-2a62778370e2",
   "metadata": {},
   "outputs": [],
   "source": [
    "p1 = Point(0, 0)\n",
    "p2 = Point(4, 0)\n",
    "p3 = Point(5, 3)\n",
    "p4 = Point(1, 3)"
   ]
  },
  {
   "cell_type": "code",
   "execution_count": 1234,
   "id": "0cafe5e4-0fc0-4827-bbd5-c2dd8ce53a51",
   "metadata": {},
   "outputs": [],
   "source": [
    "rhombus = Rhombus(p1, p2, p3, p4)"
   ]
  },
  {
   "cell_type": "code",
   "execution_count": 1235,
   "id": "0d8309c8-fc3a-420f-9069-9b64f3626eb1",
   "metadata": {},
   "outputs": [
    {
     "name": "stdout",
     "output_type": "stream",
     "text": [
      "Rhombus with vertices (0, 0), (4, 0), (5, 3), (1, 3)\n"
     ]
    }
   ],
   "source": [
    "print(rhombus)"
   ]
  },
  {
   "cell_type": "code",
   "execution_count": 1236,
   "id": "245b3de3-4bce-4427-b135-3ea92a22bad1",
   "metadata": {},
   "outputs": [
    {
     "name": "stdout",
     "output_type": "stream",
     "text": [
      "Vertices: None, None, None, None\n"
     ]
    }
   ],
   "source": [
    "print(rhombus.display_points())"
   ]
  },
  {
   "cell_type": "code",
   "execution_count": 1237,
   "id": "3b8b5a48-7ead-4d1d-ae9f-1b3ddcc58c1d",
   "metadata": {},
   "outputs": [
    {
     "name": "stdout",
     "output_type": "stream",
     "text": [
      "Area of the Rhombus: 12.36931687685298 square units\n",
      "Perimeter of the Rhombus: 16.0 units\n"
     ]
    }
   ],
   "source": [
    "print(f\"Area of the Rhombus: {rhombus.area()} square units\")\n",
    "print(f\"Perimeter of the Rhombus: {rhombus.perimeter()} units\")"
   ]
  },
  {
   "cell_type": "code",
   "execution_count": 1238,
   "id": "da2a6f49-83db-4378-ad56-75392f31b6ed",
   "metadata": {},
   "outputs": [
    {
     "name": "stdout",
     "output_type": "stream",
     "text": [
      "Class __dict__: {'__module__': '__main__', '__init__': <function Rhombus.__init__ at 0x0000025CCD4CD580>, 'area': <function Rhombus.area at 0x0000025CCD4CDD00>, 'perimeter': <function Rhombus.perimeter at 0x0000025CCD4CD300>, 'display_points': <function Rhombus.display_points at 0x0000025CCD4CD1C0>, '__repr__': <function Rhombus.__repr__ at 0x0000025CCD4CDEE0>, '__str__': <function Rhombus.__str__ at 0x0000025CCD4CDDA0>, '__dict__': <attribute '__dict__' of 'Rhombus' objects>, '__weakref__': <attribute '__weakref__' of 'Rhombus' objects>, '__doc__': None}\n",
      "Instance __dict__ for rhombus: {'p1': Point(x=0, y=0), 'p2': Point(x=4, y=0), 'p3': Point(x=5, y=3), 'p4': Point(x=1, y=3)}\n",
      "Class vars: {'__module__': '__main__', '__init__': <function Rhombus.__init__ at 0x0000025CCD4CD580>, 'area': <function Rhombus.area at 0x0000025CCD4CDD00>, 'perimeter': <function Rhombus.perimeter at 0x0000025CCD4CD300>, 'display_points': <function Rhombus.display_points at 0x0000025CCD4CD1C0>, '__repr__': <function Rhombus.__repr__ at 0x0000025CCD4CDEE0>, '__str__': <function Rhombus.__str__ at 0x0000025CCD4CDDA0>, '__dict__': <attribute '__dict__' of 'Rhombus' objects>, '__weakref__': <attribute '__weakref__' of 'Rhombus' objects>, '__doc__': None}\n",
      "Instance vars for rhombus: {'p1': Point(x=0, y=0), 'p2': Point(x=4, y=0), 'p3': Point(x=5, y=3), 'p4': Point(x=1, y=3)}\n"
     ]
    }
   ],
   "source": [
    "print(f\"Class __dict__: {Rhombus.__dict__}\")\n",
    "print(f\"Instance __dict__ for rhombus: {rhombus.__dict__}\")\n",
    "print(f\"Class vars: {vars(Rhombus)}\")\n",
    "print(f\"Instance vars for rhombus: {vars(rhombus)}\")"
   ]
  },
  {
   "cell_type": "code",
   "execution_count": 1239,
   "id": "d1fa5e93-01b1-438b-803a-b8e076cbcdf4",
   "metadata": {},
   "outputs": [
    {
     "name": "stdout",
     "output_type": "stream",
     "text": [
      "Help on class Rhombus in module __main__:\n",
      "\n",
      "class Rhombus(builtins.object)\n",
      " |  Rhombus(p1: __main__.Point, p2: __main__.Point, p3: __main__.Point, p4: __main__.Point)\n",
      " |\n",
      " |  Methods defined here:\n",
      " |\n",
      " |  __init__(self, p1: __main__.Point, p2: __main__.Point, p3: __main__.Point, p4: __main__.Point)\n",
      " |      Initialize self.  See help(type(self)) for accurate signature.\n",
      " |\n",
      " |  __repr__(self) -> str\n",
      " |      Return repr(self).\n",
      " |\n",
      " |  __str__(self) -> str\n",
      " |      Return str(self).\n",
      " |\n",
      " |  area(self) -> float\n",
      " |\n",
      " |  display_points(self) -> str\n",
      " |\n",
      " |  perimeter(self) -> float\n",
      " |\n",
      " |  ----------------------------------------------------------------------\n",
      " |  Data descriptors defined here:\n",
      " |\n",
      " |  __dict__\n",
      " |      dictionary for instance variables\n",
      " |\n",
      " |  __weakref__\n",
      " |      list of weak references to the object\n",
      "\n"
     ]
    }
   ],
   "source": [
    "help(Rhombus)"
   ]
  },
  {
   "cell_type": "code",
   "execution_count": 1240,
   "id": "50b2ef74-d56d-46a8-8c9f-7876256ce11c",
   "metadata": {},
   "outputs": [
    {
     "name": "stdout",
     "output_type": "stream",
     "text": [
      "Distance from p1 to p5: 8.06225774829855\n"
     ]
    }
   ],
   "source": [
    "p5 = Point(7, 4)\n",
    "print(f\"Distance from p1 to p5: {p1.distance_to(p5)}\")"
   ]
  },
  {
   "cell_type": "markdown",
   "id": "ee1feed8",
   "metadata": {},
   "source": [
    "------------------------------------"
   ]
  },
  {
   "cell_type": "markdown",
   "id": "6a179c3e-1615-431e-b0ee-44882a36651a",
   "metadata": {},
   "source": [
    "# Circuit: "
   ]
  },
  {
   "cell_type": "markdown",
   "id": "f98eda1d-c380-491b-86a3-5e7b08dbb086",
   "metadata": {},
   "source": [
    "<center>\n",
    "  <h3 style=\"color: #34495e; font-family: Arial, sans-serif; background-color: pink; padding: 8px; border-radius: 5px;\">Resistor Circuit</h3>\n",
    "</center>\n",
    "\n",
    "<h3 style=\"color: #34495e; font-family: Arial, sans-serif;\">Objective</h3>\n",
    "<p style=\"color: #2c3e50; font-family: Arial, sans-serif; line-height: 1.6;\">\n",
    "  Define a class that models a simple electrical circuit containing a single resistor. This class should include methods for calculating voltage, current, and power based on Ohm’s Law.\n",
    "</p>\n",
    "\n",
    "<h3 style=\"color: #34495e; font-family: Arial, sans-serif;\">Class Structure</h3>\n",
    "<ol style=\"color: #2c3e50; font-family: Arial, sans-serif; line-height: 1.8;\">\n",
    "  <li>\n",
    "    <strong style=\"color: #2980b9; background-color: #eafaf1; padding: 5px; border-radius: 5px;\">ResistorCircuit Class:</strong>\n",
    "    <ul>\n",
    "      <li>This class will have <code>resistance</code> as an attribute representing the resistor’s resistance in ohms (Ω).</li>\n",
    "      <li>The constructor (<code>__init__</code>) will initialize the resistance value.</li>\n",
    "      <li>\n",
    "        Add property methods (<code>@property</code> and <code>@property.setter</code>) for:\n",
    "        <ul>\n",
    "          <li><strong>Resistance:</strong> Getter and setter for the resistance value.</li>\n",
    "        </ul>\n",
    "      </li>\n",
    "      <li>\n",
    "        Add methods to calculate:\n",
    "        <ul>\n",
    "          <li><strong>Voltage:</strong> Compute the voltage across the resistor given a current using the formula: \n",
    "            <code>V = I × R</code>.</li>\n",
    "          <li><strong>Current:</strong> Compute the current through the resistor given a voltage using the formula: \n",
    "            <code>I = V / R</code>.</li>\n",
    "          <li><strong>Power:</strong> Compute the power dissipated by the resistor using the formula: \n",
    "            <code>P = V × I</code> or <code>P = I² × R</code>.</li>\n",
    "        </ul>\n",
    "      </li>\n",
    "      <li>\n",
    "        Add the <code>__repr__</code> and <code>__str__</code> methods to provide meaningful string representations of the ResistorCircuit object.\n",
    "      </li>\n",
    "      <li>\n",
    "        Ensure every method and property includes proper type annotations and docstrings to describe their functionality.\n",
    "      </li>\n",
    "    </ul>\n",
    "  </li>\n",
    "</ol>\n"
   ]
  },
  {
   "cell_type": "code",
   "execution_count": 1241,
   "id": "0b8b793e-df8a-431d-80c2-d82005701e6c",
   "metadata": {},
   "outputs": [],
   "source": [
    "class Resistor:\n",
    "    \"\"\"A class to represent a simple circuit with a single resistor.\"\"\"\n",
    "    \n",
    "    def __init__(self, resistance: float = 1.0) -> None:\n",
    "        \"\"\"Initialize the resistor with the given resistance value.\n",
    "        \n",
    "        Args:\n",
    "            resistance (float): Resistance in ohms. Defaults to 1.0.\n",
    "        \"\"\"\n",
    "        self.resistance = resistance\n",
    "\n",
    "    def resistance(self) -> float:\n",
    "        \"\"\"Get the resistance value.\"\"\"\n",
    "        return self._resistance\n",
    "\n",
    "    def resistance(self, value: float) -> None:\n",
    "        \"\"\"Set the resistance value.\"\"\"\n",
    "        if value < 0:\n",
    "            raise ValueError(\"Resistance cannot be negative.\")\n",
    "        self._resistance = value\n",
    "\n",
    "    def __repr__(self) -> str:\n",
    "        return f\"Resistor(resistance={self.resistance})\"\n",
    "\n",
    "    def __str__(self) -> str:\n",
    "        return f\"Resistor with resistance: {self.resistance} ohms\"\n"
   ]
  },
  {
   "cell_type": "code",
   "execution_count": 1242,
   "id": "20a08606-43b5-45e5-a7ec-9c25564e71cd",
   "metadata": {},
   "outputs": [],
   "source": [
    "resistor = Resistor(10)"
   ]
  },
  {
   "cell_type": "code",
   "execution_count": 1243,
   "id": "22b788b5-4f94-4a5b-bff3-9527af4e4c62",
   "metadata": {},
   "outputs": [
    {
     "name": "stdout",
     "output_type": "stream",
     "text": [
      "Resistor with resistance: 10 ohms\n"
     ]
    }
   ],
   "source": [
    "print(resistor)"
   ]
  },
  {
   "cell_type": "markdown",
   "id": "a29f29b6",
   "metadata": {},
   "source": [
    "-----------------------------"
   ]
  },
  {
   "cell_type": "markdown",
   "id": "d5c4ae2b-8bb5-4772-8214-a8881c435d05",
   "metadata": {},
   "source": [
    "<center>\n",
    "  <h3 style=\"color: #34495e; font-family: Arial, sans-serif; background-color: pink; padding: 8px; border-radius: 5px;\">RL Circuit</h3>\n",
    "</center>\n",
    "\n",
    "<h3 style=\"color: #34495e; font-family: Arial, sans-serif;\">Objective</h3>\n",
    "<p style=\"color: #2c3e50; font-family: Arial, sans-serif; line-height: 1.6;\">\n",
    "  Define a class that models an RL circuit (Resistor-Inductor circuit). This class should include methods for calculating voltage, current, and impedance based on circuit parameters.\n",
    "</p>\n",
    "\n",
    "<h3 style=\"color: #34495e; font-family: Arial, sans-serif;\">Class Structure</h3>\n",
    "<ol style=\"color: #2c3e50; font-family: Arial, sans-serif; line-height: 1.8;\">\n",
    "  <li>\n",
    "    <strong style=\"color: #2980b9; background-color: #eafaf1; padding: 5px; border-radius: 5px;\">RLCircuit Class:</strong>\n",
    "    <ul>\n",
    "      <li>This class will have <code>resistance</code> (R) and <code>inductance</code> (L) as attributes representing the resistor’s resistance in ohms (Ω) and the inductor’s inductance in henries (H).</li>\n",
    "      <li>The constructor (<code>__init__</code>) will initialize the resistance and inductance values.</li>\n",
    "      <li>\n",
    "        Add property methods (<code>@property</code> and <code>@property.setter</code>) for:\n",
    "        <ul>\n",
    "          <li><strong>Resistance:</strong> Getter and setter for the resistance value.</li>\n",
    "          <li><strong>Inductance:</strong> Getter and setter for the inductance value.</li>\n",
    "        </ul>\n",
    "      </li>\n",
    "      <li>\n",
    "        Add methods to calculate:\n",
    "        <ul>\n",
    "          <li><strong>Impedance:</strong> Compute the impedance of the RL circuit given a frequency using the formula:\n",
    "            <code>Z = √(R² + (ωL)²)</code>, where <code>ω = 2πf</code> is the angular frequency.</li>\n",
    "          <li><strong>Current:</strong> Compute the current in the circuit given a voltage using Ohm's law:\n",
    "            <code>I = V / Z</code>, where <code>Z</code> is the impedance.</li>\n",
    "          <li><strong>Phase Angle:</strong> Compute the phase angle between voltage and current using the formula:\n",
    "            <code>φ = tan⁻¹(Lω / R)</code>.</li>\n",
    "        </ul>\n",
    "      </li>\n",
    "      <li>\n",
    "        Add the <code>__repr__</code> and <code>__str__</code> methods to provide meaningful string representations of the RL Circuit object.\n",
    "      </li>\n",
    "      <li>\n",
    "        Ensure every method and property includes proper type annotations and docstrings to describe their functionality.\n",
    "      </li>\n",
    "    </ul>\n",
    "  </li>\n",
    "</ol>\n"
   ]
  },
  {
   "cell_type": "code",
   "execution_count": 1244,
   "id": "5ac355f9-2264-482d-a372-1f9d455ee280",
   "metadata": {},
   "outputs": [],
   "source": [
    "class RLCircuit:\n",
    "    \"\"\"A class to represent an RL circuit (Resistor and Inductor).\"\"\"\n",
    "    \n",
    "    def __init__(self, resistance: float = 1.0, inductance: float = 1.0) -> None:\n",
    "        \"\"\"Initialize the RL circuit with resistance and inductance.\n",
    "        \n",
    "        Args:\n",
    "            resistance (float): Resistance in ohms. Defaults to 1.0.\n",
    "            inductance (float): Inductance in henries. Defaults to 1.0.\n",
    "        \"\"\"\n",
    "        self.resistor = resistance\n",
    "        self.inductance = inductance\n",
    "\n",
    "    def inductance(self) -> float:\n",
    "        \"\"\"Get the inductance value.\"\"\"\n",
    "        return self._inductance\n",
    "\n",
    "    def inductance(self, value: float) -> None:\n",
    "        \"\"\"Set the inductance value.\"\"\"\n",
    "        if value < 0:\n",
    "            raise ValueError(\"Inductance cannot be negative.\")\n",
    "        self._inductance = value\n",
    "\n",
    "    def impedance(self, frequency: float) -> float:\n",
    "        \"\"\"Calculate the impedance of the RL circuit.\n",
    "        \n",
    "        Args:\n",
    "            frequency (float): Frequency in hertz.\n",
    "        \n",
    "        Returns:\n",
    "            float: Impedance in ohms.\n",
    "        \"\"\"\n",
    "        return (self.resistor.resistance**2 + (2 * math.pi * frequency * self.inductance)**2) ** 0.5\n",
    "\n",
    "    def __repr__(self) -> str:\n",
    "        return f\"RLCircuit(resistor={self.resistor}, inductance={self.inductance})\"\n",
    "\n",
    "    def __str__(self) -> str:\n",
    "        return (f\"RL Circuit with {self.resistor} ohm, inductance: {self.inductance} H\")\n"
   ]
  },
  {
   "cell_type": "code",
   "execution_count": 1245,
   "id": "8c746b1e-7535-4353-ad7c-fb40a6d9f80d",
   "metadata": {},
   "outputs": [],
   "source": [
    "rl_circuit = RLCircuit(resistance=10, inductance=0.1)"
   ]
  },
  {
   "cell_type": "code",
   "execution_count": 1246,
   "id": "07007bc7-b12d-47e2-8e5d-cc363997d27c",
   "metadata": {},
   "outputs": [
    {
     "name": "stdout",
     "output_type": "stream",
     "text": [
      "RL Circuit with 10 ohm, inductance: 0.1 H\n"
     ]
    }
   ],
   "source": [
    "print(rl_circuit)"
   ]
  },
  {
   "cell_type": "markdown",
   "id": "3660f336",
   "metadata": {},
   "source": [
    "----------------------------------"
   ]
  },
  {
   "cell_type": "markdown",
   "id": "325f09b1-3852-4d16-94cb-d090a798d25f",
   "metadata": {},
   "source": [
    "<center>\n",
    "  <h3 style=\"color: #34495e; font-family: Arial, sans-serif; background-color: pink; padding: 8px; border-radius: 5px;\">RC Circuit</h3>\n",
    "</center>\n",
    "\n",
    "<h3 style=\"color: #34495e; font-family: Arial, sans-serif;\">Objective</h3>\n",
    "<p style=\"color: #2c3e50; font-family: Arial, sans-serif; line-height: 1.6;\">\n",
    "  Define a class that models an RC circuit (Resistor-Capacitor circuit). This class should include methods for calculating voltage, current, and time constant based on circuit parameters.\n",
    "</p>\n",
    "\n",
    "<h3 style=\"color: #34495e; font-family: Arial, sans-serif;\">Class Structure</h3>\n",
    "<ol style=\"color: #2c3e50; font-family: Arial, sans-serif; line-height: 1.8;\">\n",
    "  <li>\n",
    "    <strong style=\"color: #2980b9; background-color: #eafaf1; padding: 5px; border-radius: 5px;\">RCCircuit Class:</strong>\n",
    "    <ul>\n",
    "      <li>This class will have <code>resistance</code> (R) and <code>capacitance</code> (C) as attributes representing the resistor’s resistance in ohms (Ω) and the capacitor’s capacitance in farads (F).</li>\n",
    "      <li>The constructor (<code>__init__</code>) will initialize the resistance and capacitance values.</li>\n",
    "      <li>\n",
    "        Add property methods (<code>@property</code> and <code>@property.setter</code>) for:\n",
    "        <ul>\n",
    "          <li><strong>Resistance:</strong> Getter and setter for the resistance value.</li>\n",
    "          <li><strong>Capacitance:</strong> Getter and setter for the capacitance value.</li>\n",
    "        </ul>\n",
    "      </li>\n",
    "      <li>\n",
    "        Add methods to calculate:\n",
    "        <ul>\n",
    "          <li><strong>Time Constant:</strong> Calculate the time constant of the circuit using the formula:\n",
    "            <code>τ = RC</code>, where <code>τ</code> is the time constant in seconds (s).</li>\n",
    "          <li><strong>Voltage:</strong> Compute the voltage across the capacitor at any given time during charging or discharging using the formulas:\n",
    "            <ul>\n",
    "              <li><strong>Charging:</strong> <code>V(t) = V₀(1 - e^(-t / τ))</code></li>\n",
    "              <li><strong>Discharging:</strong> <code>V(t) = V₀ e^(-t / τ)</code></li>\n",
    "            </ul>\n",
    "          </li>\n",
    "          <li><strong>Current:</strong> Calculate the current in the circuit using Ohm's law, based on the voltage across the resistor.</li>\n",
    "        </ul>\n",
    "      </li>\n",
    "      <li>\n",
    "        Add the <code>__repr__</code> and <code>__str__</code> methods to provide meaningful string representations of the RC Circuit object.\n",
    "      </li>\n",
    "      <li>\n",
    "        Ensure every method and property includes proper type annotations and docstrings to describe their functionality.\n",
    "      </li>\n",
    "    </ul>\n",
    "  </li>\n",
    "</ol>\n"
   ]
  },
  {
   "cell_type": "code",
   "execution_count": 1247,
   "id": "c2e95b69-2d26-4c30-9bf4-13af7f05a215",
   "metadata": {},
   "outputs": [],
   "source": [
    "class RCCircuit:\n",
    "    \"\"\"A class to represent an RC circuit (Resistor and Capacitor).\"\"\"\n",
    "    \n",
    "    def __init__(self, resistance: float = 1.0, capacitance: float = 1.0) -> None:\n",
    "        \"\"\"Initialize the RC circuit with resistance and capacitance.\n",
    "        \n",
    "        Args:\n",
    "            resistance (float): Resistance in ohms. Defaults to 1.0.\n",
    "            capacitance (float): Capacitance in farads. Defaults to 1.0.\n",
    "        \"\"\"\n",
    "        self.resistor = resistance\n",
    "        self.capacitance = capacitance\n",
    "\n",
    "    def capacitance(self) -> float:\n",
    "        \"\"\"Get the capacitance value.\"\"\"\n",
    "        return self._capacitance\n",
    "\n",
    "    def capacitance(self, value: float) -> None:\n",
    "        \"\"\"Set the capacitance value.\"\"\"\n",
    "        if value < 0:\n",
    "            raise ValueError(\"Capacitance cannot be negative.\")\n",
    "        self._capacitance = value\n",
    "\n",
    "    def impedance(self, frequency: float) -> float:\n",
    "        \"\"\"Calculate the impedance of the RC circuit.\n",
    "        \n",
    "        Args:\n",
    "            frequency (float): Frequency in hertz.\n",
    "        \n",
    "        Returns:\n",
    "            float: Impedance in ohms.\n",
    "        \"\"\"\n",
    "        return (self.resistor.resistance**2 + (1 / (2 * math.pi * frequency * self.capacitance))**2) ** 0.5\n",
    "\n",
    "    def __repr__(self) -> str:\n",
    "        return f\"RCCircuit(resistor={self.resistor}, capacitance={self.capacitance})\"\n",
    "\n",
    "    def __str__(self) -> str:\n",
    "        return (f\"RC Circuit with {self.resistor} ohm, capacitance: {self.capacitance} F\")\n"
   ]
  },
  {
   "cell_type": "code",
   "execution_count": 1248,
   "id": "d7bbe7e4-209a-446e-977f-ad3475b3675b",
   "metadata": {},
   "outputs": [],
   "source": [
    "rc_circuit = RCCircuit(resistance=10, capacitance=0.001)"
   ]
  },
  {
   "cell_type": "code",
   "execution_count": 1249,
   "id": "814012b8-354d-45da-8b47-92f8c0208359",
   "metadata": {},
   "outputs": [
    {
     "name": "stdout",
     "output_type": "stream",
     "text": [
      "RC Circuit with 10 ohm, capacitance: 0.001 F\n"
     ]
    }
   ],
   "source": [
    "print(rc_circuit)"
   ]
  },
  {
   "cell_type": "markdown",
   "id": "4e67c10d-aae7-4c39-a088-fe3a94f9790c",
   "metadata": {},
   "source": [
    "<center>\n",
    "  <h3 style=\"color: #34495e; font-family: Arial, sans-serif; background-color: pink; padding: 8px; border-radius: 5px;\">RLC Parallel Circuit</h3>\n",
    "</center>\n",
    "\n",
    "<h3 style=\"color: #34495e; font-family: Arial, sans-serif;\">Objective</h3>\n",
    "<p style=\"color: #2c3e50; font-family: Arial, sans-serif; line-height: 1.6;\">\n",
    "  Define a class that models an RLC parallel circuit (Resistor, Inductor, Capacitor in parallel). This class should include methods for calculating impedance, current, and power factor based on circuit parameters.\n",
    "</p>\n",
    "\n",
    "<h3 style=\"color: #34495e; font-family: Arial, sans-serif;\">Class Structure</h3>\n",
    "<ol style=\"color: #2c3e50; font-family: Arial, sans-serif; line-height: 1.8;\">\n",
    "  <li>\n",
    "    <strong style=\"color: #2980b9; background-color: #eafaf1; padding: 5px; border-radius: 5px;\">RLCParallelCircuit Class:</strong>\n",
    "    <ul>\n",
    "      <li>This class will have <code>resistance</code> (R), <code>inductance</code> (L), and <code>capacitance</code> (C) as attributes representing the resistor’s resistance in ohms (Ω), the inductor’s inductance in henries (H), and the capacitor’s capacitance in farads (F).</li>\n",
    "      <li>The constructor (<code>__init__</code>) will initialize the resistance, inductance, and capacitance values.</li>\n",
    "      <li>\n",
    "        Add property methods (<code>@property</code> and <code>@property.setter</code>) for:\n",
    "        <ul>\n",
    "          <li><strong>Resistance:</strong> Getter and setter for the resistance value.</li>\n",
    "          <li><strong>Inductance:</strong> Getter and setter for the inductance value.</li>\n",
    "          <li><strong>Capacitance:</strong> Getter and setter for the capacitance value.</li>\n",
    "        </ul>\n",
    "      </li>\n",
    "      <li>\n",
    "        Add methods to calculate:\n",
    "        <ul>\n",
    "          <li><strong>Impedance:</strong> Compute the total impedance of the parallel RLC circuit using the formula:\n",
    "            <code>1 / Z = 1 / R + 1 / (jωL) + jωC</code>, where <code>j</code> is the imaginary unit, and <code>ω = 2πf</code> is the angular frequency.</li>\n",
    "          <li><strong>Current:</strong> Compute the current in the circuit given a voltage using Ohm's law: \n",
    "            <code>I = V / Z</code>, where <code>Z</code> is the total impedance.</li>\n",
    "          <li><strong>Power Factor:</strong> Compute the power factor using the formula:\n",
    "            <code>PF = cos(θ)</code>, where <code>θ</code> is the phase angle between voltage and current.</li>\n",
    "        </ul>\n",
    "      </li>\n",
    "      <li>\n",
    "        Add the <code>__repr__</code> and <code>__str__</code> methods to provide meaningful string representations of the RLC Parallel Circuit object.\n",
    "      </li>\n",
    "      <li>\n",
    "        Ensure every method and property includes proper type annotations and docstrings to describe their functionality.\n",
    "      </li>\n",
    "    </ul>\n",
    "  </li>\n",
    "</ol>\n"
   ]
  },
  {
   "cell_type": "code",
   "execution_count": 1250,
   "id": "5071fc48-b832-45be-a104-402a8433cf64",
   "metadata": {},
   "outputs": [],
   "source": [
    "class RLCParallelCircuit:\n",
    "    \"\"\"A class to represent an RLC parallel circuit.\"\"\"\n",
    "    \n",
    "    def __init__(self, resistance: float = 1.0, inductance: float = 1.0, capacitance: float = 1.0) -> None:\n",
    "        \"\"\"Initialize the parallel RLC circuit with resistance, inductance, and capacitance.\n",
    "        \n",
    "        Args:\n",
    "            resistance (float): Resistance in ohms. Defaults to 1.0.\n",
    "            inductance (float): Inductance in henries. Defaults to 1.0.\n",
    "            capacitance (float): Capacitance in farads. Defaults to 1.0.\n",
    "        \"\"\"\n",
    "        self.resistor = resistance\n",
    "        self.inductance = inductance\n",
    "        self.capacitance = capacitance\n",
    "\n",
    "    def inductance(self) -> float:\n",
    "        return self._inductance\n",
    "\n",
    "    def inductance(self, value: float) -> None:\n",
    "        if value < 0:\n",
    "            raise ValueError(\"Inductance cannot be negative.\")\n",
    "        self._inductance = value\n",
    "\n",
    "    def capacitance(self) -> float:\n",
    "        return self._capacitance\n",
    "\n",
    "    def capacitance(self, value: float) -> None:\n",
    "        if value < 0:\n",
    "            raise ValueError(\"Capacitance cannot be negative.\")\n",
    "        self._capacitance = value\n",
    "\n",
    "    def total_impedance(self, frequency: float) -> float:\n",
    "        \"\"\"Calculate the total impedance of the RLC parallel circuit.\n",
    "        \n",
    "        Args:\n",
    "            frequency (float): Frequency in hertz.\n",
    "        \n",
    "        Returns:\n",
    "            float: Total impedance in ohms.\n",
    "        \"\"\"\n",
    "        z_r = self.resistor.resistance\n",
    "        z_l = 2 * math.pi * frequency * self.inductance\n",
    "        z_c = 1 / (2 * math.pi * frequency * self.capacitance)\n",
    "\n",
    "        return 1 / (1/z_r + 1/z_l + 1/z_c)\n",
    "\n",
    "    def __repr__(self) -> str:\n",
    "        return f\"RLCCircuitParallel(resistor={self.resistor}, inductance={self.inductance}, capacitance={self.capacitance})\"\n",
    "\n",
    "    def __str__(self) -> str:\n",
    "        return (f\"RLC Parallel Circuit with {self.resistor} ohm, inductance: {self.inductance} H, \"\n",
    "                f\"capacitance: {self.capacitance} F\")\n"
   ]
  },
  {
   "cell_type": "code",
   "execution_count": 1251,
   "id": "41f083a8-8510-40b8-a83b-acebac2e0c1f",
   "metadata": {},
   "outputs": [],
   "source": [
    "rlc_parallel_circuit = RLCCircuitParallel(resistance=10, inductance=0.1, capacitance=0.001)"
   ]
  },
  {
   "cell_type": "code",
   "execution_count": 1252,
   "id": "0d6812a0-896a-4129-9828-b2444e46739c",
   "metadata": {},
   "outputs": [
    {
     "name": "stdout",
     "output_type": "stream",
     "text": [
      "RLC Parallel Circuit with 10 ohm, inductance: 0.1 H, capacitance: 0.001 F\n"
     ]
    }
   ],
   "source": [
    "print(rlc_parallel_circuit)"
   ]
  },
  {
   "cell_type": "markdown",
   "id": "15b3e8d4",
   "metadata": {},
   "source": [
    "-------------------------------"
   ]
  },
  {
   "cell_type": "markdown",
   "id": "05bbe2d5-b6b3-4396-9fff-382b6e970cab",
   "metadata": {},
   "source": [
    "<center>\n",
    "  <h3 style=\"color: #34495e; font-family: Arial, sans-serif; background-color: pink; padding: 8px; border-radius: 5px;\">RLC Series Resonance Circuit</h3>\n",
    "</center>\n",
    "\n",
    "<h3 style=\"color: #34495e; font-family: Arial, sans-serif;\">Objective</h3>\n",
    "<p style=\"color: #2c3e50; font-family: Arial, sans-serif; line-height: 1.6;\">\n",
    "  Define a class that models an RLC series circuit in resonance. This class should include methods for calculating impedance, current, and resonance frequency based on circuit parameters.\n",
    "</p>\n",
    "\n",
    "<h3 style=\"color: #34495e; font-family: Arial, sans-serif;\">Class Structure</h3>\n",
    "<ol style=\"color: #2c3e50; font-family: Arial, sans-serif; line-height: 1.8;\">\n",
    "  <li>\n",
    "    <strong style=\"color: #2980b9; background-color: #eafaf1; padding: 5px; border-radius: 5px;\">RLCSeriesResonanceCircuit Class:</strong>\n",
    "    <ul>\n",
    "      <li>This class will have <code>resistance</code> (R), <code>inductance</code> (L), and <code>capacitance</code> (C) as attributes representing the resistor’s resistance in ohms (Ω), the inductor’s inductance in henries (H), and the capacitor’s capacitance in farads (F).</li>\n",
    "      <li>The constructor (<code>__init__</code>) will initialize the resistance, inductance, and capacitance values.</li>\n",
    "      <li>\n",
    "        Add property methods (<code>@property</code> and <code>@property.setter</code>) for:\n",
    "        <ul>\n",
    "          <li><strong>Resistance:</strong> Getter and setter for the resistance value.</li>\n",
    "          <li><strong>Inductance:</strong> Getter and setter for the inductance value.</li>\n",
    "          <li><strong>Capacitance:</strong> Getter and setter for the capacitance value.</li>\n",
    "        </ul>\n",
    "      </li>\n",
    "      <li>\n",
    "        Add methods to calculate:\n",
    "        <ul>\n",
    "          <li><strong>Impedance:</strong> Compute the impedance of the series RLC circuit at resonance, where the impedance is equal to the resistance:\n",
    "            <code>Z = R</code> at resonance frequency.</li>\n",
    "          <li><strong>Resonance Frequency:</strong> Calculate the resonance frequency using the formula:\n",
    "            <code>f₀ = 1 / (2π√(LC))</code>, where <code>f₀</code> is the resonance frequency.</li>\n",
    "          <li><strong>Current:</strong> Compute the current in the circuit given a voltage using Ohm's law at resonance:\n",
    "            <code>I = V / R</code>, where <code>V</code> is the applied voltage and <code>R</code> is the resistance at resonance.</li>\n",
    "        </ul>\n",
    "      </li>\n",
    "      <li>\n",
    "        Add the <code>__repr__</code> and <code>__str__</code> methods to provide meaningful string representations of the RLC Series Resonance Circuit object.\n",
    "      </li>\n",
    "      <li>\n",
    "        Ensure every method and property includes proper type annotations and docstrings to describe their functionality.\n",
    "      </li>\n",
    "    </ul>\n",
    "  </li>\n",
    "</ol>\n"
   ]
  },
  {
   "cell_type": "code",
   "execution_count": 1253,
   "id": "e4684b90-656a-4f11-b628-3334c414fafa",
   "metadata": {},
   "outputs": [],
   "source": [
    "class RLCSeriesCircuit:\n",
    "    \"\"\"A class to represent an RLC series circuit with resonance.\"\"\"\n",
    "    \n",
    "    def __init__(self, resistance: float = 1.0, inductance: float = 1.0, capacitance: float = 1.0) -> None:\n",
    "        \"\"\"Initialize the series RLC circuit with resistance, inductance, and capacitance.\n",
    "        \n",
    "        Args:\n",
    "            resistance (float): Resistance in ohms. Defaults to 1.0.\n",
    "            inductance (float): Inductance in henries. Defaults to 1.0.\n",
    "            capacitance (float): Capacitance in farads. Defaults to 1.0.\n",
    "        \"\"\"\n",
    "        self.resistor = resistance\n",
    "        self.inductance = inductance\n",
    "        self.capacitance = capacitance\n",
    "\n",
    "    def resonance_frequency(self) -> float:\n",
    "        \"\"\"Calculate the resonance frequency of the RLC circuit.\n",
    "        \n",
    "        Returns:\n",
    "            float: Resonance frequency in hertz.\n",
    "        \"\"\"\n",
    "        return 1 / (2 * math.pi * ((self.inductance * self.capacitance) ** 0.5))\n",
    "\n",
    "    def impedance(self, frequency: float) -> float:\n",
    "        \"\"\"Calculate the impedance of the RLC series circuit.\n",
    "        \n",
    "        Args:\n",
    "            frequency (float): Frequency in hertz.\n",
    "        \n",
    "        Returns:\n",
    "            float: Impedance in ohms.\n",
    "        \"\"\"\n",
    "        z_l = 2 * math.pi * frequency * self.inductance\n",
    "        z_c = 1 / (2 * math.pi * frequency * self.capacitance)\n",
    "\n",
    "        return (self.resistor.resistance**2 + (z_l - z_c)**2) ** 0.5\n",
    "\n",
    "    def __repr__(self) -> str:\n",
    "        return f\"RLCSeriesCircuit(resistor={self.resistor}, inductance={self.inductance}, capacitance={self.capacitance})\"\n",
    "\n",
    "    def __str__(self) -> str:\n",
    "        return (f\"RLC Series Circuit with {self.resistor} ohm, inductance: {self.inductance} H, \"\n",
    "                f\"capacitance: {self.capacitance} F, resonance frequency: {self.resonance_frequency()} Hz\")\n"
   ]
  },
  {
   "cell_type": "code",
   "execution_count": 1254,
   "id": "63245055-eb67-492a-a2f1-9fcab99af7cb",
   "metadata": {},
   "outputs": [],
   "source": [
    "rlc_series_circuit = RLCSeriesCircuit(resistance=10, inductance=0.1, capacitance=0.001)"
   ]
  },
  {
   "cell_type": "code",
   "execution_count": 1255,
   "id": "7ee075b7-8caf-4e35-814d-66cb84614bae",
   "metadata": {},
   "outputs": [
    {
     "name": "stdout",
     "output_type": "stream",
     "text": [
      "RLC Series Circuit with 10 ohm, inductance: 0.1 H, capacitance: 0.001 F, resonance frequency: 15.915494309189533 Hz\n"
     ]
    }
   ],
   "source": [
    "print(rlc_series_circuit)"
   ]
  },
  {
   "cell_type": "markdown",
   "id": "e465b7dc",
   "metadata": {},
   "source": [
    "-------------------------------------------------------"
   ]
  },
  {
   "cell_type": "markdown",
   "id": "b24f9089-7b6e-4165-8edb-f3fb5459d27f",
   "metadata": {},
   "source": [
    "<center>\n",
    "  <h3 style=\"color: #34495e; font-family: Arial, sans-serif; background-color: pink; padding: 8px; border-radius: 5px;\">RLC Parallel Resonance Circuit</h3>\n",
    "</center>\n",
    "\n",
    "<h3 style=\"color: #34495e; font-family: Arial, sans-serif;\">Objective</h3>\n",
    "<p style=\"color: #2c3e50; font-family: Arial, sans-serif; line-height: 1.6;\">\n",
    "  Define a class that models an RLC parallel circuit in resonance. This class should include methods for calculating impedance, current, and resonance frequency based on circuit parameters.\n",
    "</p>\n",
    "\n",
    "<h3 style=\"color: #34495e; font-family: Arial, sans-serif;\">Class Structure</h3>\n",
    "<ol style=\"color: #2c3e50; font-family: Arial, sans-serif; line-height: 1.8;\">\n",
    "  <li>\n",
    "    <strong style=\"color: #2980b9; background-color: #eafaf1; padding: 5px; border-radius: 5px;\">RLCParallelResonanceCircuit Class:</strong>\n",
    "    <ul>\n",
    "      <li>This class will have <code>resistance</code> (R), <code>inductance</code> (L), and <code>capacitance</code> (C) as attributes representing the resistor’s resistance in ohms (Ω), the inductor’s inductance in henries (H), and the capacitor’s capacitance in farads (F).</li>\n",
    "      <li>The constructor (<code>__init__</code>) will initialize the resistance, inductance, and capacitance values.</li>\n",
    "      <li>\n",
    "        Add property methods (<code>@property</code> and <code>@property.setter</code>) for:\n",
    "        <ul>\n",
    "          <li><strong>Resistance:</strong> Getter and setter for the resistance value.</li>\n",
    "          <li><strong>Inductance:</strong> Getter and setter for the inductance value.</li>\n",
    "          <li><strong>Capacitance:</strong> Getter and setter for the capacitance value.</li>\n",
    "        </ul>\n",
    "      </li>\n",
    "      <li>\n",
    "        Add methods to calculate:\n",
    "        <ul>\n",
    "          <li><strong>Impedance:</strong> Compute the total impedance of the parallel RLC circuit at resonance, where the impedance is at its minimum value at resonance frequency. The formula for impedance is:\n",
    "            <code>1 / Z = 1 / R + 1 / (jωL) + jωC</code>, and the impedance is minimized at resonance.</li>\n",
    "          <li><strong>Resonance Frequency:</strong> Calculate the resonance frequency for a parallel RLC circuit using the formula:\n",
    "            <code>f₀ = 1 / (2π√(LC))</code>, where <code>f₀</code> is the resonance frequency.</li>\n",
    "          <li><strong>Current:</strong> Compute the current in the circuit given a voltage using Ohm's law at resonance:\n",
    "            <code>I = V / Z</code>, where <code>Z</code> is the total impedance at resonance.</li>\n",
    "        </ul>\n",
    "      </li>\n",
    "      <li>\n",
    "        Add the <code>__repr__</code> and <code>__str__</code> methods to provide meaningful string representations of the RLC Parallel Resonance Circuit object.\n",
    "      </li>\n",
    "      <li>\n",
    "        Ensure every method and property includes proper type annotations and docstrings to describe their functionality.\n",
    "      </li>\n",
    "    </ul>\n",
    "  </li>\n",
    "</ol>\n"
   ]
  },
  {
   "cell_type": "code",
   "execution_count": 1256,
   "id": "4f8e1aa2-d0b0-4a26-b18a-f60d0248ee3e",
   "metadata": {},
   "outputs": [],
   "source": [
    "class RLCParallelCircuit:\n",
    "    \"\"\"A class to represent an RLC parallel circuit with resonance.\"\"\"\n",
    "    \n",
    "    def __init__(self, resistance: float = 1.0, inductance: float = 1.0, capacitance: float = 1.0) -> None:\n",
    "        \"\"\"Initialize the parallel RLC circuit with resistance, inductance, and capacitance.\n",
    "        \n",
    "        Args:\n",
    "            resistance (float): Resistance in ohms. Defaults to 1.0.\n",
    "            inductance (float): Inductance in henries. Defaults to 1.0.\n",
    "            capacitance (float): Capacitance in farads. Defaults to 1.0.\n",
    "        \"\"\"\n",
    "        self.resistor = resistance\n",
    "        self.inductance = inductance\n",
    "        self.capacitance = capacitance\n",
    "\n",
    "    def resonance_frequency(self) -> float:\n",
    "        \"\"\"Calculate the resonance frequency of the RLC parallel circuit.\n",
    "        \n",
    "        Returns:\n",
    "            float: Resonance frequency in hertz.\n",
    "        \"\"\"\n",
    "        return 1 / (2 * math.pi * ((self.inductance * self.capacitance) ** 0.5))\n",
    "\n",
    "    def total_impedance(self, frequency: float) -> float:\n",
    "        \"\"\"Calculate the total impedance of the RLC parallel circuit.\n",
    "        \n",
    "        Args:\n",
    "            frequency (float): Frequency in hertz.\n",
    "        \n",
    "        Returns:\n",
    "            float: Total impedance in ohms.\n",
    "        \"\"\"\n",
    "        z_r = self.resistor.resistance\n",
    "        z_l = 2 * math.pi * frequency * self.inductance\n",
    "        z_c = 1 / (2 * math.pi * frequency * self.capacitance)\n",
    "\n",
    "        return 1 / (1/z_r + 1/z_l + 1/z_c)\n",
    "\n",
    "    def __repr__(self) -> str:\n",
    "        return f\"RLCParallelCircuit(resistor={self.resistor}, inductance={self.inductance}, capacitance={self.capacitance})\"\n",
    "\n",
    "    def __str__(self) -> str:\n",
    "        return (f\"RLC Parallel Circuit with {self.resistor} ohms, inductance: {self.inductance} H, \"\n",
    "                f\"capacitance: {self.capacitance} F, resonance frequency: {self.resonance_frequency()} Hz\")\n"
   ]
  },
  {
   "cell_type": "code",
   "execution_count": 1257,
   "id": "3326fe22-01c2-4e7f-94a2-37e9afd0a6de",
   "metadata": {},
   "outputs": [],
   "source": [
    "rlc_parallel_resonance = RLCParallelCircuit(resistance=10, inductance=0.1, capacitance=0.001)\n"
   ]
  },
  {
   "cell_type": "code",
   "execution_count": 1258,
   "id": "ba73da47-5c87-4f54-938e-fef48b957f85",
   "metadata": {},
   "outputs": [
    {
     "name": "stdout",
     "output_type": "stream",
     "text": [
      "RLC Parallel Circuit with 10 ohms, inductance: 0.1 H, capacitance: 0.001 F, resonance frequency: 15.915494309189533 Hz\n"
     ]
    }
   ],
   "source": [
    "print(rlc_parallel_resonance)"
   ]
  },
  {
   "cell_type": "markdown",
   "id": "5472d7ee-b14b-497b-b91c-678c8c2f22d7",
   "metadata": {},
   "source": [
    "---------------------------"
   ]
  }
 ],
 "metadata": {
  "kernelspec": {
   "display_name": "base",
   "language": "python",
   "name": "python3"
  },
  "language_info": {
   "codemirror_mode": {
    "name": "ipython",
    "version": 3
   },
   "file_extension": ".py",
   "mimetype": "text/x-python",
   "name": "python",
   "nbconvert_exporter": "python",
   "pygments_lexer": "ipython3",
   "version": "3.12.4"
  }
 },
 "nbformat": 4,
 "nbformat_minor": 5
}
