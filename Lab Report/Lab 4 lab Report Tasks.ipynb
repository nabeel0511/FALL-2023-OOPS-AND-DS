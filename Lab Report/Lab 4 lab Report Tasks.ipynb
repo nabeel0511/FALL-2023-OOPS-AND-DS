{
 "cells": [
  {
   "cell_type": "markdown",
   "metadata": {},
   "source": [
    "<div style=\"font-family: Arial, sans-serif; font-size: 30px; color:rgb(193, 46, 169);\">\n",
    "\n",
    "### **Student Information**\n",
    "- **Name:** _Nabeel Ahmad_\n",
    "- **Registration Number:** _23JZLELE0511_\n",
    "- **Lab Number:** _04_\n",
    "- **Section:** _A_\n",
    "\n",
    "</div>"
   ]
  },
  {
   "cell_type": "markdown",
   "metadata": {},
   "source": [
    "### Lab Report Task\n",
    "***1. Consider the point class below.***\n",
    "- Make an object and print its x and y coordinates."
   ]
  },
  {
   "cell_type": "code",
   "execution_count": 19,
   "metadata": {},
   "outputs": [],
   "source": [
    "import math\n",
    "\n",
    "class Point:\n",
    "    \"\"\"Represents a point in two-dimensional geometric coordinates\n",
    "\n",
    "    Parameters\n",
    "    ----------\n",
    "    x : float\n",
    "    y : float\n",
    "    \"\"\"\n",
    "\n",
    "    def __init__(self, x: float, y: float) -> None:\n",
    "        self.x = x\n",
    "        self.y = y\n",
    "\n",
    "    def distance(self, p2) -> float:\n",
    "        return math.sqrt((self.x - p2.x) ** 2 + (self.y - p2.y) ** 2)\n",
    "\n",
    "    def __repr__(self) -> str:\n",
    "        return f\"(Point: X={self.x}, Y={self.y})\"\n",
    "\n",
    "    def __str__(self) -> str:\n",
    "        return f'Point({self.x}, {self.y})'\n"
   ]
  },
  {
   "cell_type": "markdown",
   "metadata": {},
   "source": [
    "> a. Define point1 and pass two numbers.\n"
   ]
  },
  {
   "cell_type": "code",
   "execution_count": 20,
   "metadata": {},
   "outputs": [],
   "source": [
    "point1 = Point(3, 4)"
   ]
  },
  {
   "cell_type": "markdown",
   "metadata": {},
   "source": [
    "> b. Make another instance of the point class, say its name is p2."
   ]
  },
  {
   "cell_type": "code",
   "execution_count": 21,
   "metadata": {},
   "outputs": [],
   "source": [
    "p2 = Point(6, 8)"
   ]
  },
  {
   "cell_type": "markdown",
   "metadata": {},
   "source": [
    "> c. Print p1 and p2, for this use the print command and pass the point as input."
   ]
  },
  {
   "cell_type": "code",
   "execution_count": 22,
   "metadata": {},
   "outputs": [
    {
     "name": "stdout",
     "output_type": "stream",
     "text": [
      "Point(3, 4)\n",
      "Point(6, 8)\n"
     ]
    }
   ],
   "source": [
    "print(point1)\n",
    "print(p2)    "
   ]
  },
  {
   "cell_type": "markdown",
   "metadata": {},
   "source": [
    "> d. Print the coordinate by using the object and dot operator. "
   ]
  },
  {
   "cell_type": "code",
   "execution_count": 23,
   "metadata": {},
   "outputs": [
    {
     "name": "stdout",
     "output_type": "stream",
     "text": [
      "Coordinates of point1: x = 3, y = 4\n",
      "Coordinates of p2: x = 6, y = 8\n"
     ]
    }
   ],
   "source": [
    "print(f\"Coordinates of point1: x = {point1.x}, y = {point1.y}\")\n",
    "print(f\"Coordinates of p2: x = {p2.x}, y = {p2.y}\")"
   ]
  },
  {
   "cell_type": "markdown",
   "metadata": {},
   "source": [
    "> e. Add a new method to the point class that can effectively print the points. Print both the\n",
    "point using that function."
   ]
  },
  {
   "cell_type": "code",
   "execution_count": 24,
   "metadata": {},
   "outputs": [],
   "source": [
    "def print_point(self):\n",
    "    print(f\"Point coordinates: ({self.x}, {self.y})\")"
   ]
  },
  {
   "cell_type": "code",
   "execution_count": 25,
   "metadata": {},
   "outputs": [
    {
     "name": "stdout",
     "output_type": "stream",
     "text": [
      "<function print_point at 0x00000215922B3CE0>\n"
     ]
    }
   ],
   "source": [
    "print(repr(print_point))"
   ]
  },
  {
   "cell_type": "code",
   "execution_count": 26,
   "metadata": {},
   "outputs": [
    {
     "name": "stdout",
     "output_type": "stream",
     "text": [
      "<function print_point at 0x00000215922B3CE0>\n"
     ]
    }
   ],
   "source": [
    "print(print_point)"
   ]
  },
  {
   "cell_type": "markdown",
   "metadata": {},
   "source": [
    "> f. Calculate the distance between these two pints."
   ]
  },
  {
   "cell_type": "code",
   "execution_count": 27,
   "metadata": {},
   "outputs": [
    {
     "name": "stdout",
     "output_type": "stream",
     "text": [
      "The distance between point1 and p2 is: 5.00\n"
     ]
    }
   ],
   "source": [
    "distance = point1.distance(p2)\n",
    "print(f\"The distance between point1 and p2 is: {distance:.2f}\")"
   ]
  },
  {
   "cell_type": "markdown",
   "metadata": {},
   "source": [
    "---"
   ]
  }
 ],
 "metadata": {
  "kernelspec": {
   "display_name": "Python 3",
   "language": "python",
   "name": "python3"
  },
  "language_info": {
   "codemirror_mode": {
    "name": "ipython",
    "version": 3
   },
   "file_extension": ".py",
   "mimetype": "text/x-python",
   "name": "python",
   "nbconvert_exporter": "python",
   "pygments_lexer": "ipython3",
   "version": "3.12.8"
  }
 },
 "nbformat": 4,
 "nbformat_minor": 2
}
