{
 "cells": [
  {
   "cell_type": "markdown",
   "metadata": {},
   "source": [
    "<div style=\"font-family: Arial, sans-serif; font-size: 30px; color:rgb(46, 193, 176);\">\n",
    "\n",
    "### **Student Information**\n",
    "- **Name:** _Nabeel Ahmad_\n",
    "- **Registration Number:** _23JZLELE0511_\n",
    "- **Lab Number:** _05_\n",
    "- **Section:** _A_\n",
    "\n",
    "</div>"
   ]
  },
  {
   "cell_type": "markdown",
   "metadata": {},
   "source": [
    "## Lab report task"
   ]
  },
  {
   "cell_type": "markdown",
   "metadata": {},
   "source": [
    "***1. Define a class circle. Your class must have the appropriate __init__ method.***\n",
    "- i. In addition, add an instance method for the volume of a cylinder with the given radius.\n",
    "- ii. Add method for area, circumference, and diameter.\n",
    "- iii. Add __repr__ and __str__ to the class.\n",
    "- iv. Add proper annotation and doc string to every class and instance method."
   ]
  },
  {
   "cell_type": "code",
   "execution_count": 42,
   "metadata": {},
   "outputs": [],
   "source": [
    "import math\n",
    "\n",
    "class Circle:\n",
    "    \"\"\"\n",
    "    A class to represent a circle and calculate its properties.\n",
    "    \n",
    "    Attributes:\n",
    "        radius (float): The radius of the circle.\n",
    "    \"\"\"\n",
    "    \n",
    "    def __init__(self, radius: float=1):\n",
    "        \"\"\"\n",
    "        Initializes the circle with a given radius.\n",
    "        \"\"\"\n",
    "        self.radius = radius\n",
    "\n",
    "    def area(self) -> float:\n",
    "        \"\"\"\n",
    "        Returns the area of the circle.\n",
    "        \"\"\"\n",
    "        return math.pi * self.radius ** 2\n",
    "\n",
    "    def circumference(self) -> float:\n",
    "        \"\"\"\n",
    "        Returns the circumference of the circle.\n",
    "        \"\"\"\n",
    "        return 2 * math.pi * self.radius\n",
    "\n",
    "    def diameter(self) -> float:\n",
    "        \"\"\"\n",
    "        Returns the diameter of the circle.\n",
    "        \"\"\"\n",
    "        return 2 * self.radius\n",
    "\n",
    "    def volume_of_cylinder(self, height: float) -> float:\n",
    "        \"\"\"\n",
    "        Returns the volume of a cylinder with given radius and height.\n",
    "        \"\"\"\n",
    "        return self.area() * height\n",
    "\n",
    "    def __str__(self) -> str:\n",
    "        \"\"\"\n",
    "        Returns a user-friendly string representation of the circle.\n",
    "        \"\"\"\n",
    "        return f\"Circle with radius {self.radius}\"\n",
    "\n",
    "    def __repr__(self) -> str:\n",
    "        \"\"\"\n",
    "        Returns a detailed string representation of the circle.\n",
    "        \"\"\"\n",
    "        return f\"Circle(radius={self.radius})\""
   ]
  },
  {
   "cell_type": "markdown",
   "metadata": {},
   "source": [
    "***a. Define inst_1 and pass two numbers.***"
   ]
  },
  {
   "cell_type": "code",
   "execution_count": 43,
   "metadata": {},
   "outputs": [],
   "source": [
    "\n",
    "inst_1 = Circle(5)"
   ]
  },
  {
   "cell_type": "markdown",
   "metadata": {},
   "source": [
    "***b. Make another instance inst_2.***"
   ]
  },
  {
   "cell_type": "code",
   "execution_count": 44,
   "metadata": {},
   "outputs": [],
   "source": [
    "inst_2 = Circle(2)"
   ]
  },
  {
   "cell_type": "markdown",
   "metadata": {},
   "source": [
    "***c. Print inst_1 and inst_2 using print.***"
   ]
  },
  {
   "cell_type": "code",
   "execution_count": 45,
   "metadata": {},
   "outputs": [
    {
     "name": "stdout",
     "output_type": "stream",
     "text": [
      "Circle with radius 5\n",
      "Circle with radius 2\n"
     ]
    }
   ],
   "source": [
    "print(inst_1)\n",
    "print(inst_2)"
   ]
  },
  {
   "cell_type": "code",
   "execution_count": 46,
   "metadata": {},
   "outputs": [
    {
     "data": {
      "text/plain": [
       "785.3981633974483"
      ]
     },
     "execution_count": 46,
     "metadata": {},
     "output_type": "execute_result"
    }
   ],
   "source": [
    "inst_1.volume_of_cylinder(10)"
   ]
  },
  {
   "cell_type": "markdown",
   "metadata": {},
   "source": [
    "***d. Call the __dict__ by the class name.***"
   ]
  },
  {
   "cell_type": "code",
   "execution_count": 47,
   "metadata": {},
   "outputs": [
    {
     "data": {
      "text/plain": [
       "mappingproxy({'__module__': '__main__',\n",
       "              '__doc__': '\\n    A class to represent a circle and calculate its properties.\\n    \\n    Attributes:\\n        radius (float): The radius of the circle.\\n    ',\n",
       "              '__init__': <function __main__.Circle.__init__(self, radius: float = 1)>,\n",
       "              'area': <function __main__.Circle.area(self) -> float>,\n",
       "              'circumference': <function __main__.Circle.circumference(self) -> float>,\n",
       "              'diameter': <function __main__.Circle.diameter(self) -> float>,\n",
       "              'volume_of_cylinder': <function __main__.Circle.volume_of_cylinder(self, height: float) -> float>,\n",
       "              '__str__': <function __main__.Circle.__str__(self) -> str>,\n",
       "              '__repr__': <function __main__.Circle.__repr__(self) -> str>,\n",
       "              '__dict__': <attribute '__dict__' of 'Circle' objects>,\n",
       "              '__weakref__': <attribute '__weakref__' of 'Circle' objects>})"
      ]
     },
     "execution_count": 47,
     "metadata": {},
     "output_type": "execute_result"
    }
   ],
   "source": [
    "Circle.__dict__"
   ]
  },
  {
   "cell_type": "markdown",
   "metadata": {},
   "source": [
    "***e. Pass the class name to the vars built-in function.***"
   ]
  },
  {
   "cell_type": "code",
   "execution_count": 48,
   "metadata": {},
   "outputs": [
    {
     "data": {
      "text/plain": [
       "mappingproxy({'__module__': '__main__',\n",
       "              '__doc__': '\\n    A class to represent a circle and calculate its properties.\\n    \\n    Attributes:\\n        radius (float): The radius of the circle.\\n    ',\n",
       "              '__init__': <function __main__.Circle.__init__(self, radius: float = 1)>,\n",
       "              'area': <function __main__.Circle.area(self) -> float>,\n",
       "              'circumference': <function __main__.Circle.circumference(self) -> float>,\n",
       "              'diameter': <function __main__.Circle.diameter(self) -> float>,\n",
       "              'volume_of_cylinder': <function __main__.Circle.volume_of_cylinder(self, height: float) -> float>,\n",
       "              '__str__': <function __main__.Circle.__str__(self) -> str>,\n",
       "              '__repr__': <function __main__.Circle.__repr__(self) -> str>,\n",
       "              '__dict__': <attribute '__dict__' of 'Circle' objects>,\n",
       "              '__weakref__': <attribute '__weakref__' of 'Circle' objects>})"
      ]
     },
     "execution_count": 48,
     "metadata": {},
     "output_type": "execute_result"
    }
   ],
   "source": [
    "vars(Circle)"
   ]
  },
  {
   "cell_type": "markdown",
   "metadata": {},
   "source": [
    "***# f. Call the __dict__ on the object of the class.***"
   ]
  },
  {
   "cell_type": "code",
   "execution_count": 49,
   "metadata": {},
   "outputs": [
    {
     "data": {
      "text/plain": [
       "{'radius': 5}"
      ]
     },
     "execution_count": 49,
     "metadata": {},
     "output_type": "execute_result"
    }
   ],
   "source": [
    "inst_1.__dict__"
   ]
  },
  {
   "cell_type": "markdown",
   "metadata": {},
   "source": [
    "***g. Pass the class name to help.***"
   ]
  },
  {
   "cell_type": "code",
   "execution_count": 50,
   "metadata": {},
   "outputs": [
    {
     "name": "stdout",
     "output_type": "stream",
     "text": [
      "Help on class Circle in module __main__:\n",
      "\n",
      "class Circle(builtins.object)\n",
      " |  Circle(radius: float = 1)\n",
      " |\n",
      " |  A class to represent a circle and calculate its properties.\n",
      " |\n",
      " |  Attributes:\n",
      " |      radius (float): The radius of the circle.\n",
      " |\n",
      " |  Methods defined here:\n",
      " |\n",
      " |  __init__(self, radius: float = 1)\n",
      " |      Initializes the circle with a given radius.\n",
      " |\n",
      " |  __repr__(self) -> str\n",
      " |      Returns a detailed string representation of the circle.\n",
      " |\n",
      " |  __str__(self) -> str\n",
      " |      Returns a user-friendly string representation of the circle.\n",
      " |\n",
      " |  area(self) -> float\n",
      " |      Returns the area of the circle.\n",
      " |\n",
      " |  circumference(self) -> float\n",
      " |      Returns the circumference of the circle.\n",
      " |\n",
      " |  diameter(self) -> float\n",
      " |      Returns the diameter of the circle.\n",
      " |\n",
      " |  volume_of_cylinder(self, height: float) -> float\n",
      " |      Returns the volume of a cylinder with given radius and height.\n",
      " |\n",
      " |  ----------------------------------------------------------------------\n",
      " |  Data descriptors defined here:\n",
      " |\n",
      " |  __dict__\n",
      " |      dictionary for instance variables\n",
      " |\n",
      " |  __weakref__\n",
      " |      list of weak references to the object\n",
      "\n"
     ]
    }
   ],
   "source": [
    "help(Circle)"
   ]
  },
  {
   "cell_type": "markdown",
   "metadata": {},
   "source": [
    "***h. Print the doc-string and annotations of both the class and each instance method.***"
   ]
  },
  {
   "cell_type": "code",
   "execution_count": 51,
   "metadata": {},
   "outputs": [
    {
     "name": "stdout",
     "output_type": "stream",
     "text": [
      "\n",
      "    A class to represent a circle and calculate its properties.\n",
      "    \n",
      "    Attributes:\n",
      "        radius (float): The radius of the circle.\n",
      "    \n",
      "__class__: type(object) -> the object's type\n",
      "type(name, bases, dict, **kwds) -> a new type\n",
      "__delattr__: Implement delattr(self, name).\n",
      "__dir__: Default dir() implementation.\n",
      "__eq__: Return self==value.\n",
      "__format__: Default object formatter.\n",
      "\n",
      "Return str(self) if format_spec is empty. Raise TypeError otherwise.\n",
      "__ge__: Return self>=value.\n",
      "__getattribute__: Return getattr(self, name).\n",
      "__getstate__: Helper for pickle.\n",
      "__gt__: Return self>value.\n",
      "__hash__: Return hash(self).\n",
      "__init__: \n",
      "        Initializes the circle with a given radius.\n",
      "        \n",
      "__init_subclass__: This method is called when a class is subclassed.\n",
      "\n",
      "The default implementation does nothing. It may be\n",
      "overridden to extend subclasses.\n",
      "\n",
      "__le__: Return self<=value.\n",
      "__lt__: Return self<value.\n",
      "__ne__: Return self!=value.\n",
      "__new__: Create and return a new object.  See help(type) for accurate signature.\n",
      "__reduce__: Helper for pickle.\n",
      "__reduce_ex__: Helper for pickle.\n",
      "__repr__: \n",
      "        Returns a detailed string representation of the circle.\n",
      "        \n",
      "__setattr__: Implement setattr(self, name, value).\n",
      "__sizeof__: Size of object in memory, in bytes.\n",
      "__str__: \n",
      "        Returns a user-friendly string representation of the circle.\n",
      "        \n",
      "__subclasshook__: Abstract classes can override this to customize issubclass().\n",
      "\n",
      "This is invoked early on by abc.ABCMeta.__subclasscheck__().\n",
      "It should return True, False or NotImplemented.  If it returns\n",
      "NotImplemented, the normal algorithm is used.  Otherwise, it\n",
      "overrides the normal algorithm (and the outcome is cached).\n",
      "\n",
      "area: \n",
      "        Returns the area of the circle.\n",
      "        \n",
      "circumference: \n",
      "        Returns the circumference of the circle.\n",
      "        \n",
      "diameter: \n",
      "        Returns the diameter of the circle.\n",
      "        \n",
      "volume_of_cylinder: \n",
      "        Returns the volume of a cylinder with given radius and height.\n",
      "        \n"
     ]
    }
   ],
   "source": [
    "print(Circle.__doc__)\n",
    "for method in dir(Circle):\n",
    "    if callable(getattr(Circle, method)):\n",
    "        print(f\"{method}: {getattr(Circle, method).__doc__}\")"
   ]
  },
  {
   "cell_type": "markdown",
   "metadata": {},
   "source": [
    "***i. Modify the __init__ by making its parameters default and verify by instances.***"
   ]
  },
  {
   "cell_type": "code",
   "execution_count": 52,
   "metadata": {},
   "outputs": [
    {
     "name": "stdout",
     "output_type": "stream",
     "text": [
      "Circle with radius 1\n"
     ]
    }
   ],
   "source": [
    "inst_3 = Circle()\n",
    "print(inst_3)"
   ]
  },
  {
   "cell_type": "markdown",
   "metadata": {},
   "source": [
    "---"
   ]
  }
 ],
 "metadata": {
  "kernelspec": {
   "display_name": "Python 3",
   "language": "python",
   "name": "python3"
  },
  "language_info": {
   "codemirror_mode": {
    "name": "ipython",
    "version": 3
   },
   "file_extension": ".py",
   "mimetype": "text/x-python",
   "name": "python",
   "nbconvert_exporter": "python",
   "pygments_lexer": "ipython3",
   "version": "3.12.8"
  }
 },
 "nbformat": 4,
 "nbformat_minor": 2
}
