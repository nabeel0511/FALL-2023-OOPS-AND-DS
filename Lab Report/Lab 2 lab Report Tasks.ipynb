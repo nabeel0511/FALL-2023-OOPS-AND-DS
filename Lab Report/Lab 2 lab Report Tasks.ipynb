{
 "cells": [
  {
   "cell_type": "markdown",
   "id": "c48cafdb-53f8-411c-b70a-d642e80bee91",
   "metadata": {},
   "source": [
    "<div style=\"font-family: Arial, sans-serif; font-size: 30px; color:rgb(193, 73, 46);\">\n",
    "\n",
    "### **Student Information**\n",
    "- **Name:** _Nabeel Ahmad_\n",
    "- **Registration Number:** _23JZLELE0511_\n",
    "- **Lab Number:** _02_\n",
    "- **Section:** _A_\n",
    "\n",
    "</div>"
   ]
  },
  {
   "cell_type": "markdown",
   "id": "75cccd26",
   "metadata": {},
   "source": [
    "### Lab Report Tasks: \n",
    "***i. Define a function that will take the parameters as current and resistance and will output the voltage across the resistance.***"
   ]
  },
  {
   "cell_type": "code",
   "execution_count": 1,
   "id": "95e04cde-d82b-4bbe-9ece-3c374f5b425c",
   "metadata": {},
   "outputs": [],
   "source": [
    "def calculate_voltage(current,resistance):\n",
    "    return current*resistance"
   ]
  },
  {
   "cell_type": "markdown",
   "id": "cabfa877-5302-44d4-99cf-4b517256aaa3",
   "metadata": {},
   "source": [
    "**a. The argument pass will like positional arguments.**"
   ]
  },
  {
   "cell_type": "code",
   "execution_count": 2,
   "id": "90ee8114-7f43-48cb-85f0-1ed1d1404cae",
   "metadata": {},
   "outputs": [
    {
     "name": "stdout",
     "output_type": "stream",
     "text": [
      "Voltage =  32\n"
     ]
    }
   ],
   "source": [
    "# Positional arguments\n",
    "voltage = calculate_voltage(4,8)\n",
    "print(\"Voltage = \",voltage)"
   ]
  },
  {
   "cell_type": "markdown",
   "id": "c300d711-161d-4d46-a441-19c704f0d16e",
   "metadata": {},
   "source": [
    "**b. The arguments passing will like keyword arguments.**"
   ]
  },
  {
   "cell_type": "code",
   "execution_count": 3,
   "id": "fbcdacd7-af83-4927-b376-ba55cc630348",
   "metadata": {},
   "outputs": [
    {
     "name": "stdout",
     "output_type": "stream",
     "text": [
      "Voltage =  50\n"
     ]
    }
   ],
   "source": [
    "# Keyword arguments\n",
    "voltage = calculate_voltage(current=5, resistance=10)\n",
    "print(\"Voltage = \", voltage)\n"
   ]
  },
  {
   "cell_type": "markdown",
   "id": "0d5fd294-7b4b-4bd2-881c-6325da0b6b21",
   "metadata": {},
   "source": [
    "**c. The arguments passing will like default arguments.**"
   ]
  },
  {
   "cell_type": "code",
   "execution_count": 4,
   "id": "5d140433-d608-44c4-b09f-8d221acbad77",
   "metadata": {},
   "outputs": [],
   "source": [
    "# Function with default arguments\n",
    "def voltage_defaults(current=1, resistance=1):\n",
    "    return current * resistance"
   ]
  },
  {
   "cell_type": "code",
   "execution_count": 5,
   "id": "a6335987-6297-44de-b0c2-855047121416",
   "metadata": {},
   "outputs": [
    {
     "name": "stdout",
     "output_type": "stream",
     "text": [
      "Voltage = 1\n"
     ]
    }
   ],
   "source": [
    "# Using default arguments\n",
    "voltage = voltage_defaults()\n",
    "print(\"Voltage =\", voltage)"
   ]
  },
  {
   "cell_type": "code",
   "execution_count": 6,
   "id": "2a99032e-1e01-4ac9-b89c-433f8df1f368",
   "metadata": {},
   "outputs": [
    {
     "name": "stdout",
     "output_type": "stream",
     "text": [
      "Voltage = 8\n"
     ]
    }
   ],
   "source": [
    "# Default resistance is used\n",
    "voltage = voltage_defaults(current=8)\n",
    "print(\"Voltage =\", voltage)"
   ]
  },
  {
   "cell_type": "code",
   "execution_count": 7,
   "id": "b9cc4c53-5d6b-4ae0-8449-e09a815214a9",
   "metadata": {},
   "outputs": [
    {
     "name": "stdout",
     "output_type": "stream",
     "text": [
      "Voltage = 6\n"
     ]
    }
   ],
   "source": [
    "# Default current is used\n",
    "voltage = voltage_defaults(resistance=6)\n",
    "print(\"Voltage =\", voltage)"
   ]
  },
  {
   "cell_type": "markdown",
   "id": "8d6d4fd1-05c3-4987-943d-f1e8a1c2ccd6",
   "metadata": {},
   "source": [
    "**d. Pass the arguments of one style to the other.**"
   ]
  },
  {
   "cell_type": "code",
   "execution_count": 8,
   "id": "5476362b-91a5-4e95-aae9-b0c8d7ebec92",
   "metadata": {},
   "outputs": [
    {
     "name": "stdout",
     "output_type": "stream",
     "text": [
      "Voltage (Positional passed as list): 70\n"
     ]
    }
   ],
   "source": [
    "# Positional to keyword\n",
    "voltage = calculate_voltage(*[7, 10])\n",
    "print(\"Voltage (Positional passed as list):\", voltage)"
   ]
  },
  {
   "cell_type": "code",
   "execution_count": 9,
   "id": "3b03840a-8b45-4ce0-8899-716aa7e9b3c6",
   "metadata": {},
   "outputs": [
    {
     "name": "stdout",
     "output_type": "stream",
     "text": [
      "Voltage (Keyword passed as dict): 50\n"
     ]
    }
   ],
   "source": [
    "# Keyword to positional\n",
    "voltage = calculate_voltage(**{'current': 5, 'resistance': 10})\n",
    "print(\"Voltage (Keyword passed as dict):\", voltage)"
   ]
  },
  {
   "cell_type": "markdown",
   "id": "d92000d3-6fcb-47c5-90d1-9b00883cbac3",
   "metadata": {},
   "source": [
    "**e. Passing less number of arguments and check the error message.**"
   ]
  },
  {
   "cell_type": "code",
   "execution_count": 10,
   "id": "12768879-cda1-47da-b775-f0414f1fe7dc",
   "metadata": {},
   "outputs": [
    {
     "name": "stdout",
     "output_type": "stream",
     "text": [
      "Error: calculate_voltage() missing 1 required positional argument: 'resistance'\n"
     ]
    }
   ],
   "source": [
    "try:\n",
    "    # Missing resistance\n",
    "    voltage = calculate_voltage(5)\n",
    "except TypeError as e:\n",
    "    print(\"Error:\", e)\n"
   ]
  },
  {
   "cell_type": "markdown",
   "id": "a80607c3-d9ea-45e7-8696-d723cd86bc6a",
   "metadata": {},
   "source": [
    "**f. Verify that whether positional argument follows keyword argument.**"
   ]
  },
  {
   "cell_type": "code",
   "execution_count": 11,
   "id": "ce9f172a-d497-4a7f-af88-1e59de743b53",
   "metadata": {},
   "outputs": [
    {
     "ename": "SyntaxError",
     "evalue": "positional argument follows keyword argument (2527124066.py, line 3)",
     "output_type": "error",
     "traceback": [
      "\u001b[1;36m  Cell \u001b[1;32mIn[11], line 3\u001b[1;36m\u001b[0m\n\u001b[1;33m    voltage = calculate_voltage(current=5, 10)\u001b[0m\n\u001b[1;37m                                             ^\u001b[0m\n\u001b[1;31mSyntaxError\u001b[0m\u001b[1;31m:\u001b[0m positional argument follows keyword argument\n"
     ]
    }
   ],
   "source": [
    "# Invalid case: Positional arguments cannot follow keyword arguments\n",
    "try:\n",
    "    voltage = calculate_voltage(current=5, 10)\n",
    "except SyntaxError as e:\n",
    "    print(\"Error:\", e)\n"
   ]
  },
  {
   "cell_type": "code",
   "execution_count": null,
   "id": "66d7ec08-366f-4d47-bfb5-43928c78a405",
   "metadata": {},
   "outputs": [],
   "source": []
  }
 ],
 "metadata": {
  "kernelspec": {
   "display_name": "base",
   "language": "python",
   "name": "python3"
  },
  "language_info": {
   "codemirror_mode": {
    "name": "ipython",
    "version": 3
   },
   "file_extension": ".py",
   "mimetype": "text/x-python",
   "name": "python",
   "nbconvert_exporter": "python",
   "pygments_lexer": "ipython3",
   "version": "3.12.4"
  }
 },
 "nbformat": 4,
 "nbformat_minor": 5
}
