{
 "cells": [
  {
   "cell_type": "markdown",
   "metadata": {},
   "source": [
    "<div\n",
    "    style=\"\n",
    "        margin: 50px auto;\n",
    "        padding: 20px 15px;\n",
    "        border-radius: 20px;\n",
    "        background: linear-gradient(135deg, #f9f9f9, #ffffff);\n",
    "        max-width: 900px; /* Increased width */\n",
    "        box-shadow: 0 8px 20px rgba(0, 0, 0, 0.1);\n",
    "        text-align: center;\n",
    "    \"\n",
    ">\n",
    "    <h1\n",
    "        style=\"\n",
    "            font-family: 'Times New Roman', serif;\n",
    "            font-size: 30px;\n",
    "            color: #2c3e50;\n",
    "            text-transform: uppercase;\n",
    "            font-weight: bold;\n",
    "            letter-spacing: 2px;\n",
    "            margin-bottom: 15px;\n",
    "        \"\n",
    "    >\n",
    "        University of Engineering and Technology Peshawar\n",
    "    </h1>\n",
    "    <h2\n",
    "        style=\"\n",
    "            font-family: 'Georgia', serif;\n",
    "            font-size: 24px;\n",
    "            color: #34495e;\n",
    "            margin-top: 5px;\n",
    "            font-style: italic;\n",
    "        \"\n",
    "    >\n",
    "        Jalozai Campus\n",
    "    </h2>\n",
    "</div>"
   ]
  },
  {
   "cell_type": "markdown",
   "metadata": {},
   "source": [
    "<div\n",
    "    style=\"\n",
    "        margin: 50px auto;\n",
    "        padding: 30px 20px;\n",
    "        border-radius: 20px;\n",
    "        background: linear-gradient(135deg, #f3f4f6, #ffffff);\n",
    "        max-width: 800px;\n",
    "        box-shadow: 0 10px 25px rgba(0, 0, 0, 0.15);\n",
    "        text-align: center;\n",
    "        border: 1px solid #e0e0e0;\n",
    "    \"\n",
    ">\n",
    "    <h1\n",
    "        style=\"\n",
    "            font-family: 'Times New Roman', serif;\n",
    "            font-size: 32px;\n",
    "            color: #2c3e50;\n",
    "            text-transform: capitalize;\n",
    "            font-weight: bold;\n",
    "            letter-spacing: 1.5px;\n",
    "            margin-bottom: 20px;\n",
    "        \"\n",
    "    >\n",
    "        Lab Title: EE-271 “OOP & Data Structures Lab”\n",
    "    </h1>\n",
    "</div>"
   ]
  },
  {
   "cell_type": "markdown",
   "metadata": {},
   "source": [
    "<div\n",
    "    style=\"\n",
    "        margin: 50px auto;\n",
    "        padding: 30px 20px;\n",
    "        border-radius: 20px;\n",
    "        background: linear-gradient(135deg, #f3f4f6, #ffffff);\n",
    "        max-width: 800px;\n",
    "        box-shadow: 0 10px 25px rgba(0, 0, 0, 0.15);\n",
    "        text-align: center;\n",
    "        border: 1px solid #e0e0e0;\n",
    "    \"\n",
    ">\n",
    "    <h1\n",
    "        style=\"\n",
    "            font-family: 'Times New Roman', serif;\n",
    "            font-size: 25px;\n",
    "            color: #2c3e50;\n",
    "            text-transform: capitalize;\n",
    "            font-weight: bold;\n",
    "            letter-spacing: 1.5px;\n",
    "            margin-bottom: 20px;\n",
    "        \"\n",
    "    >\n",
    "        Lab 8: Inheritance  \n",
    "    </h1>\n",
    "</div>"
   ]
  },
  {
   "cell_type": "markdown",
   "metadata": {},
   "source": [
    "## Prepared By: Nabeel Ahmad"
   ]
  },
  {
   "cell_type": "markdown",
   "metadata": {},
   "source": [
    "------------------------------"
   ]
  },
  {
   "cell_type": "markdown",
   "metadata": {},
   "source": [
    "<span style=\"color:rgb(167, 63, 63);\n",
    "font-size: 44px;\n",
    "transition: color 0.3s;\">&#x21DD; </span>\n",
    "<span style=\"color:rgb(47, 204, 92);\n",
    "    font-family: Arial Black;\n",
    "font-size: 35px; font-weight: bold; \n",
    "text-shadow: 0px 4px 2px rgb(0, 0, 0);\">\n",
    "    Lab Report  Tasks :</span>"
   ]
  },
  {
   "cell_type": "markdown",
   "metadata": {},
   "source": [
    "## Problem 1:"
   ]
  },
  {
   "cell_type": "markdown",
   "metadata": {},
   "source": [
    "<center>\n",
    "  <h3 style=\"color: #34495e; font-family: Arial, sans-serif; background-color: pink; padding: 8px; border-radius: 5px;\">Rectangle → Square → Cube</h3>\n",
    "</center>\n",
    "\n",
    "<h3 style=\"color: #34495e; font-family: Arial, sans-serif;\">Objective</h3>\n",
    "<p style=\"color: #2c3e50; font-family: Arial, sans-serif; line-height: 1.6;\">\n",
    "  Define a class hierarchy that models a Rectangle, a Square (inheriting from Rectangle), and a Cube (inheriting from Square). The Cube class extends the functionality of the <code>area()</code> method to calculate surface area and volume.\n",
    "</p>\n",
    "\n",
    "<h3 style=\"color: #34495e; font-family: Arial, sans-serif;\">Class Structure</h3>\n",
    "<ol style=\"color: #2c3e50; font-family: Arial, sans-serif; line-height: 1.8;\">\n",
    "  <li>\n",
    "    <strong style=\"color: #2980b9; background-color: #eafaf1; padding: 5px; border-radius: 5px;\">Rectangle Class:</strong>\n",
    "    <ul>\n",
    "      <li>This class has <code>length</code> and <code>width</code> as attributes.</li>\n",
    "      <li>It includes a method to calculate the area of the rectangle: <code>area()</code>.</li>\n",
    "    </ul>\n",
    "  </li>\n",
    "  <li>\n",
    "    <strong style=\"color: #e67e22; background-color: #fceae5; padding: 5px; border-radius: 5px;\">Square Class:</strong>\n",
    "    <ul>\n",
    "      <li>This class inherits from the <code>Rectangle</code> class.</li>\n",
    "      <li>Since a square has equal length and width, the constructor ensures both dimensions are equal.</li>\n",
    "    </ul>\n",
    "  </li>\n",
    "  <li>\n",
    "    <strong style=\"color: #27ae60; background-color: #eafaf1; padding: 5px; border-radius: 5px;\">Cube Class:</strong>\n",
    "    <ul>\n",
    "      <li>This class inherits from the <code>Square</code> class.</li>\n",
    "      <li>The <code>Cube</code> class extends functionality to calculate surface area and volume.</li>\n",
    "      <li>The <code>Cube</code> class uses the inherited <code>area()</code> method to determine its surface area.</li>\n",
    "    </ul>\n",
    "  </li>\n",
    "  <li>\n",
    "    <strong style=\"color: #8e44ad; background-color: #f5e6fc; padding: 5px; border-radius: 5px;\">Creating Instances:</strong>\n",
    "    <ul>\n",
    "      <li>Two instances of the <code>Cube</code> class are created.</li>\n",
    "      <li>Both instances call the instance methods to compute surface area and volume.</li>\n",
    "    </ul>\n",
    "  </li>\n",
    "</ol>\n"
   ]
  },
  {
   "cell_type": "code",
   "execution_count": 4,
   "metadata": {},
   "outputs": [],
   "source": [
    "class Rectangle:\n",
    "    \"\"\"Represents a rectangle with length and width.\"\"\"\n",
    "    \n",
    "    def __init__(self, length: float, width: float):\n",
    "        \"\"\"Initialize a rectangle with length and width.\"\"\"\n",
    "        self.length = length\n",
    "        self.width = width\n",
    "\n",
    "    def area(self) -> float:\n",
    "        \"\"\"Calculate and return the area of the rectangle.\"\"\"\n",
    "        return self.length * self.width\n",
    "\n",
    "    def __str__(self):\n",
    "        return f\"Rectangle(length={self.length}, width={self.width})\"\n",
    "\n",
    "\n",
    "class Square(Rectangle):\n",
    "    \"\"\"Represents a square, which is a special type of rectangle with equal sides.\"\"\"\n",
    "    \n",
    "    def __init__(self, side: float):\n",
    "        \"\"\"Initialize a square with equal length and width.\"\"\"\n",
    "        super().__init__(side, side)\n",
    "\n",
    "    def __str__(self):\n",
    "        return f\"Square(side={self.length})\"\n",
    "\n",
    "\n",
    "class Cube(Square):\n",
    "    \"\"\"Represents a cube, which extends the square by adding volume and surface area calculations.\"\"\"\n",
    "    \n",
    "    def __init__(self, side: float):\n",
    "        \"\"\"Initialize a cube with equal side lengths.\"\"\"\n",
    "        super().__init__(side)\n",
    "\n",
    "    def surface_area(self) -> float:\n",
    "        \"\"\"Calculate and return the surface area of the cube.\"\"\"\n",
    "        return 6 * super().area()  # 6 sides of a square\n",
    "\n",
    "    def volume(self) -> float:\n",
    "        \"\"\"Calculate and return the volume of the cube.\"\"\"\n",
    "        return self.length ** 3  # length is the same as width and height\n",
    "\n",
    "    def __str__(self):\n",
    "        return f\"Cube(side={self.length})\""
   ]
  },
  {
   "cell_type": "code",
   "execution_count": 5,
   "metadata": {},
   "outputs": [],
   "source": [
    "# Create two instances of the Cube class\n",
    "cube1 = Cube(3)\n",
    "cube2 = Cube(5)"
   ]
  },
  {
   "cell_type": "code",
   "execution_count": 6,
   "metadata": {},
   "outputs": [
    {
     "name": "stdout",
     "output_type": "stream",
     "text": [
      "Cube(side=3) → Surface Area: 54, Volume: 27\n",
      "Cube(side=5) → Surface Area: 150, Volume: 125\n"
     ]
    }
   ],
   "source": [
    "# Call instance methods\n",
    "print(f\"{cube1} → Surface Area: {cube1.surface_area()}, Volume: {cube1.volume()}\")\n",
    "print(f\"{cube2} → Surface Area: {cube2.surface_area()}, Volume: {cube2.volume()}\")"
   ]
  },
  {
   "cell_type": "markdown",
   "metadata": {},
   "source": [
    "---------------------------------------"
   ]
  }
 ],
 "metadata": {
  "kernelspec": {
   "display_name": "base",
   "language": "python",
   "name": "python3"
  },
  "language_info": {
   "codemirror_mode": {
    "name": "ipython",
    "version": 3
   },
   "file_extension": ".py",
   "mimetype": "text/x-python",
   "name": "python",
   "nbconvert_exporter": "python",
   "pygments_lexer": "ipython3",
   "version": "3.12.4"
  }
 },
 "nbformat": 4,
 "nbformat_minor": 2
}
