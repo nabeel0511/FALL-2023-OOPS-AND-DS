{
 "cells": [
  {
   "cell_type": "markdown",
   "metadata": {},
   "source": [
    "<div\n",
    "    style=\"\n",
    "        margin: 50px auto;\n",
    "        padding: 20px 15px;\n",
    "        border-radius: 20px;\n",
    "        background: linear-gradient(135deg, #f9f9f9, #ffffff);\n",
    "        max-width: 900px; /* Increased width */\n",
    "        box-shadow: 0 8px 20px rgba(0, 0, 0, 0.1);\n",
    "        text-align: center;\n",
    "    \"\n",
    ">\n",
    "    <h1\n",
    "        style=\"\n",
    "            font-family: 'Times New Roman', serif;\n",
    "            font-size: 30px;\n",
    "            color: #2c3e50;\n",
    "            text-transform: uppercase;\n",
    "            font-weight: bold;\n",
    "            letter-spacing: 2px;\n",
    "            margin-bottom: 15px;\n",
    "        \"\n",
    "    >\n",
    "        University of Engineering and Technology Peshawar\n",
    "    </h1>\n",
    "    <h2\n",
    "        style=\"\n",
    "            font-family: 'Georgia', serif;\n",
    "            font-size: 24px;\n",
    "            color: #34495e;\n",
    "            margin-top: 5px;\n",
    "            font-style: italic;\n",
    "        \"\n",
    "    >\n",
    "        Jalozai Campus\n",
    "    </h2>\n",
    "</div>"
   ]
  },
  {
   "cell_type": "markdown",
   "metadata": {},
   "source": [
    "<div\n",
    "    style=\"\n",
    "        margin: 50px auto;\n",
    "        padding: 30px 20px;\n",
    "        border-radius: 20px;\n",
    "        background: linear-gradient(135deg, #f3f4f6, #ffffff);\n",
    "        max-width: 800px;\n",
    "        box-shadow: 0 10px 25px rgba(0, 0, 0, 0.15);\n",
    "        text-align: center;\n",
    "        border: 1px solid #e0e0e0;\n",
    "    \"\n",
    ">\n",
    "    <h1\n",
    "        style=\"\n",
    "            font-family: 'Times New Roman', serif;\n",
    "            font-size: 32px;\n",
    "            color: #2c3e50;\n",
    "            text-transform: capitalize;\n",
    "            font-weight: bold;\n",
    "            letter-spacing: 1.5px;\n",
    "            margin-bottom: 20px;\n",
    "        \"\n",
    "    >\n",
    "        Lab Title: EE-271 “OOP & Data Structures Lab”\n",
    "    </h1>\n",
    "</div>"
   ]
  },
  {
   "cell_type": "markdown",
   "metadata": {},
   "source": [
    "<div\n",
    "    style=\"\n",
    "        margin: 50px auto;\n",
    "        padding: 30px 20px;\n",
    "        border-radius: 20px;\n",
    "        background: linear-gradient(135deg, #f3f4f6, #ffffff);\n",
    "        max-width: 800px;\n",
    "        box-shadow: 0 10px 25px rgba(0, 0, 0, 0.15);\n",
    "        text-align: center;\n",
    "        border: 1px solid #e0e0e0;\n",
    "    \"\n",
    ">\n",
    "    <h1\n",
    "        style=\"\n",
    "            font-family: 'Times New Roman', serif;\n",
    "            font-size: 25px;\n",
    "            color: #2c3e50;\n",
    "            text-transform: capitalize;\n",
    "            font-weight: bold;\n",
    "            letter-spacing: 1.5px;\n",
    "            margin-bottom: 20px;\n",
    "        \"\n",
    "    >\n",
    "        LAB 12: \n",
    "              QUEUE ALGORITHMS     \n",
    "    </h1>\n",
    "</div>"
   ]
  },
  {
   "cell_type": "markdown",
   "metadata": {},
   "source": [
    "## Prepared By: Nabeel Ahmad"
   ]
  },
  {
   "cell_type": "markdown",
   "metadata": {},
   "source": [
    "------------------------"
   ]
  },
  {
   "cell_type": "markdown",
   "metadata": {},
   "source": [
    "\n",
    "### **List Queue**\n"
   ]
  },
  {
   "cell_type": "code",
   "execution_count": 1,
   "metadata": {},
   "outputs": [],
   "source": [
    "class ListQueue:\n",
    "    def __init__(self):\n",
    "        self.items = []\n",
    "\n",
    "    def is_empty(self):\n",
    "        return len(self.items) == 0\n",
    "\n",
    "    def enqueue(self, item):\n",
    "        self.items.append(item)\n",
    "\n",
    "    def dequeue(self):\n",
    "        if not self.is_empty():\n",
    "            return self.items.pop(0)\n",
    "        else:\n",
    "            print(\"Queue is empty\")\n",
    "\n",
    "    def peek(self):\n",
    "        if not self.is_empty():\n",
    "            return self.items[0]\n",
    "        else:\n",
    "            print(\"Queue is empty\")\n",
    "\n",
    "    def size(self):\n",
    "        return len(self.items)\n"
   ]
  },
  {
   "cell_type": "code",
   "execution_count": 2,
   "metadata": {},
   "outputs": [],
   "source": [
    "queue_list = ListQueue()"
   ]
  },
  {
   "cell_type": "code",
   "execution_count": 3,
   "metadata": {},
   "outputs": [
    {
     "name": "stdout",
     "output_type": "stream",
     "text": [
      "10\n"
     ]
    }
   ],
   "source": [
    "queue_list.enqueue(10)\n",
    "print(queue_list.dequeue())"
   ]
  },
  {
   "cell_type": "code",
   "execution_count": 4,
   "metadata": {},
   "outputs": [
    {
     "name": "stdout",
     "output_type": "stream",
     "text": [
      "20\n"
     ]
    }
   ],
   "source": [
    "queue_list.enqueue(20)\n",
    "print(queue_list.dequeue())"
   ]
  },
  {
   "cell_type": "code",
   "execution_count": 5,
   "metadata": {},
   "outputs": [
    {
     "name": "stdout",
     "output_type": "stream",
     "text": [
      "30\n"
     ]
    }
   ],
   "source": [
    "queue_list.enqueue(30)\n",
    "print(queue_list.peek())"
   ]
  },
  {
   "cell_type": "code",
   "execution_count": 6,
   "metadata": {},
   "outputs": [
    {
     "name": "stdout",
     "output_type": "stream",
     "text": [
      "1\n"
     ]
    }
   ],
   "source": [
    "print(queue_list.size())"
   ]
  },
  {
   "cell_type": "code",
   "execution_count": 7,
   "metadata": {},
   "outputs": [
    {
     "name": "stdout",
     "output_type": "stream",
     "text": [
      "30\n"
     ]
    }
   ],
   "source": [
    "print(queue_list.dequeue())"
   ]
  },
  {
   "cell_type": "code",
   "execution_count": 8,
   "metadata": {},
   "outputs": [
    {
     "name": "stdout",
     "output_type": "stream",
     "text": [
      "True\n"
     ]
    }
   ],
   "source": [
    "print(queue_list.is_empty())"
   ]
  },
  {
   "cell_type": "markdown",
   "metadata": {},
   "source": [
    "*\n",
    "### **Deque Queue**\n",
    "*"
   ]
  },
  {
   "cell_type": "code",
   "execution_count": 9,
   "metadata": {},
   "outputs": [],
   "source": [
    "from collections import deque\n",
    "\n",
    "class QueueDeque:\n",
    "    def __init__(self):\n",
    "        self.items = deque()\n",
    "\n",
    "    def is_empty(self):\n",
    "        return len(self.items) == 0\n",
    "\n",
    "    def enqueue(self, item):\n",
    "        self.items.append(item)\n",
    "\n",
    "    def dequeue(self):\n",
    "        if not self.is_empty():\n",
    "            return self.items.popleft()\n",
    "        else:\n",
    "            print(\"Queue is empty\")\n",
    "\n",
    "    def peek(self):\n",
    "        if not self.is_empty():\n",
    "            return self.items[0]\n",
    "        else:\n",
    "            print(\"Queue is empty\")\n",
    "\n",
    "    def size(self):\n",
    "        return len(self.items)\n"
   ]
  },
  {
   "cell_type": "code",
   "execution_count": 10,
   "metadata": {},
   "outputs": [],
   "source": [
    "\n",
    "queue_deque = QueueDeque()\n"
   ]
  },
  {
   "cell_type": "code",
   "execution_count": 11,
   "metadata": {},
   "outputs": [
    {
     "name": "stdout",
     "output_type": "stream",
     "text": [
      "10\n"
     ]
    }
   ],
   "source": [
    "queue_deque.enqueue(10)\n",
    "print(queue_deque.dequeue())"
   ]
  },
  {
   "cell_type": "code",
   "execution_count": 12,
   "metadata": {},
   "outputs": [
    {
     "name": "stdout",
     "output_type": "stream",
     "text": [
      "20\n"
     ]
    }
   ],
   "source": [
    "queue_deque.enqueue(20)\n",
    "print(queue_deque.dequeue())"
   ]
  },
  {
   "cell_type": "code",
   "execution_count": 13,
   "metadata": {},
   "outputs": [
    {
     "name": "stdout",
     "output_type": "stream",
     "text": [
      "30\n"
     ]
    }
   ],
   "source": [
    "queue_deque.enqueue(30)\n",
    "print(queue_deque.peek())"
   ]
  },
  {
   "cell_type": "code",
   "execution_count": 14,
   "metadata": {},
   "outputs": [
    {
     "name": "stdout",
     "output_type": "stream",
     "text": [
      "1\n"
     ]
    }
   ],
   "source": [
    "print(queue_deque.size())"
   ]
  },
  {
   "cell_type": "code",
   "execution_count": 15,
   "metadata": {},
   "outputs": [
    {
     "name": "stdout",
     "output_type": "stream",
     "text": [
      "30\n"
     ]
    }
   ],
   "source": [
    "print(queue_deque.dequeue())"
   ]
  },
  {
   "cell_type": "code",
   "execution_count": 16,
   "metadata": {},
   "outputs": [
    {
     "name": "stdout",
     "output_type": "stream",
     "text": [
      "True\n"
     ]
    }
   ],
   "source": [
    "print(queue_deque.is_empty())"
   ]
  },
  {
   "cell_type": "markdown",
   "metadata": {},
   "source": [
    "---"
   ]
  },
  {
   "cell_type": "markdown",
   "metadata": {},
   "source": [
    "*\n",
    "### **Node base Queue**\n",
    "*"
   ]
  },
  {
   "cell_type": "code",
   "execution_count": 17,
   "metadata": {},
   "outputs": [],
   "source": [
    "class Node:\n",
    "    def __init__(self, data):\n",
    "        self.data = data\n",
    "        self.next = None\n",
    "\n",
    "class NodeQueue:\n",
    "    def __init__(self):\n",
    "        self.front = None\n",
    "        self.rear = None\n",
    "\n",
    "    def is_empty(self):\n",
    "        return self.front is None\n",
    "\n",
    "    def enqueue(self, data):\n",
    "        new_node = Node(data)\n",
    "        if self.rear is None:\n",
    "            self.front = self.rear = new_node\n",
    "        else:\n",
    "            self.rear.next = new_node\n",
    "            self.rear = new_node\n",
    "\n",
    "    def dequeue(self):\n",
    "        if self.is_empty():\n",
    "            print(\"Queue is empty. Cannot dequeue.\")\n",
    "            return None\n",
    "        else:\n",
    "            removed_data = self.front.data\n",
    "            self.front = self.front.next\n",
    "            if self.front is None:\n",
    "                self.rear = None\n",
    "            return removed_data\n",
    "\n",
    "    def peek(self):\n",
    "        if not self.is_empty():\n",
    "            return self.front.data\n",
    "        print(\"Queue is empty.\")\n",
    "        return None\n",
    "\n",
    "    def size(self):\n",
    "        current = self.front\n",
    "        count = 0\n",
    "        while current:\n",
    "            count += 1\n",
    "            current = current.next\n",
    "        return count\n"
   ]
  },
  {
   "cell_type": "code",
   "execution_count": 18,
   "metadata": {},
   "outputs": [],
   "source": [
    "queue_node = NodeQueue()"
   ]
  },
  {
   "cell_type": "code",
   "execution_count": 19,
   "metadata": {},
   "outputs": [
    {
     "name": "stdout",
     "output_type": "stream",
     "text": [
      "10\n"
     ]
    }
   ],
   "source": [
    "queue_node.enqueue(10)\n",
    "print(queue_node.dequeue())"
   ]
  },
  {
   "cell_type": "code",
   "execution_count": 20,
   "metadata": {},
   "outputs": [
    {
     "name": "stdout",
     "output_type": "stream",
     "text": [
      "20\n"
     ]
    }
   ],
   "source": [
    "queue_node.enqueue(20)\n",
    "print(queue_node.dequeue())"
   ]
  },
  {
   "cell_type": "code",
   "execution_count": 21,
   "metadata": {},
   "outputs": [
    {
     "name": "stdout",
     "output_type": "stream",
     "text": [
      "30\n"
     ]
    }
   ],
   "source": [
    "queue_node.enqueue(30)\n",
    "print(queue_node.peek())"
   ]
  },
  {
   "cell_type": "code",
   "execution_count": 22,
   "metadata": {},
   "outputs": [
    {
     "name": "stdout",
     "output_type": "stream",
     "text": [
      "1\n"
     ]
    }
   ],
   "source": [
    "print(queue_node.size())"
   ]
  },
  {
   "cell_type": "code",
   "execution_count": 23,
   "metadata": {},
   "outputs": [
    {
     "name": "stdout",
     "output_type": "stream",
     "text": [
      "30\n"
     ]
    }
   ],
   "source": [
    "print(queue_node.dequeue())"
   ]
  },
  {
   "cell_type": "code",
   "execution_count": 24,
   "metadata": {},
   "outputs": [
    {
     "name": "stdout",
     "output_type": "stream",
     "text": [
      "True\n"
     ]
    }
   ],
   "source": [
    "print(queue_node.is_empty())"
   ]
  },
  {
   "cell_type": "markdown",
   "metadata": {},
   "source": [
    "---"
   ]
  }
 ],
 "metadata": {
  "kernelspec": {
   "display_name": "Python 3",
   "language": "python",
   "name": "python3"
  },
  "language_info": {
   "codemirror_mode": {
    "name": "ipython",
    "version": 3
   },
   "file_extension": ".py",
   "mimetype": "text/x-python",
   "name": "python",
   "nbconvert_exporter": "python",
   "pygments_lexer": "ipython3",
   "version": "3.12.8"
  }
 },
 "nbformat": 4,
 "nbformat_minor": 2
}
