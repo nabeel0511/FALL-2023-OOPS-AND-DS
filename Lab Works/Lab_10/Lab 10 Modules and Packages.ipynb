{
 "cells": [
  {
   "cell_type": "markdown",
   "metadata": {},
   "source": [
    "<div\n",
    "    style=\"\n",
    "        margin: 50px auto;\n",
    "        padding: 20px 15px;\n",
    "        border-radius: 20px;\n",
    "        background: linear-gradient(135deg, #f9f9f9, #ffffff);\n",
    "        max-width: 900px; /* Increased width */\n",
    "        box-shadow: 0 8px 20px rgba(0, 0, 0, 0.1);\n",
    "        text-align: center;\n",
    "    \"\n",
    ">\n",
    "    <h1\n",
    "        style=\"\n",
    "            font-family: 'Times New Roman', serif;\n",
    "            font-size: 30px;\n",
    "            color: #2c3e50;\n",
    "            text-transform: uppercase;\n",
    "            font-weight: bold;\n",
    "            letter-spacing: 2px;\n",
    "            margin-bottom: 15px;\n",
    "        \"\n",
    "    >\n",
    "        University of Engineering and Technology Peshawar\n",
    "    </h1>\n",
    "    <h2\n",
    "        style=\"\n",
    "            font-family: 'Georgia', serif;\n",
    "            font-size: 24px;\n",
    "            color: #34495e;\n",
    "            margin-top: 5px;\n",
    "            font-style: italic;\n",
    "        \"\n",
    "    >\n",
    "        Jalozai Campus\n",
    "    </h2>\n",
    "</div>"
   ]
  },
  {
   "cell_type": "markdown",
   "metadata": {},
   "source": [
    "<div\n",
    "    style=\"\n",
    "        margin: 50px auto;\n",
    "        padding: 30px 20px;\n",
    "        border-radius: 20px;\n",
    "        background: linear-gradient(135deg, #f3f4f6, #ffffff);\n",
    "        max-width: 800px;\n",
    "        box-shadow: 0 10px 25px rgba(0, 0, 0, 0.15);\n",
    "        text-align: center;\n",
    "        border: 1px solid #e0e0e0;\n",
    "    \"\n",
    ">\n",
    "    <h1\n",
    "        style=\"\n",
    "            font-family: 'Times New Roman', serif;\n",
    "            font-size: 32px;\n",
    "            color: #2c3e50;\n",
    "            text-transform: capitalize;\n",
    "            font-weight: bold;\n",
    "            letter-spacing: 1.5px;\n",
    "            margin-bottom: 20px;\n",
    "        \"\n",
    "    >\n",
    "        Lab Title: EE-271 “OOP & Data Structures Lab”\n",
    "    </h1>\n",
    "</div>"
   ]
  },
  {
   "cell_type": "markdown",
   "metadata": {},
   "source": [
    "<div\n",
    "    style=\"\n",
    "        margin: 50px auto;\n",
    "        padding: 30px 20px;\n",
    "        border-radius: 20px;\n",
    "        background: linear-gradient(135deg, #f3f4f6, #ffffff);\n",
    "        max-width: 800px;\n",
    "        box-shadow: 0 10px 25px rgba(0, 0, 0, 0.15);\n",
    "        text-align: center;\n",
    "        border: 1px solid #e0e0e0;\n",
    "    \"\n",
    ">\n",
    "    <h1\n",
    "        style=\"\n",
    "            font-family: 'Times New Roman', serif;\n",
    "            font-size: 25px;\n",
    "            color: #2c3e50;\n",
    "            text-transform: capitalize;\n",
    "            font-weight: bold;\n",
    "            letter-spacing: 1.5px;\n",
    "            margin-bottom: 20px;\n",
    "        \"\n",
    "    >\n",
    "        Lab 10: Modules and Packages \n",
    "    </h1>\n",
    "</div>"
   ]
  },
  {
   "cell_type": "markdown",
   "metadata": {},
   "source": [
    "## Prepared By: Nabeel Ahmad"
   ]
  },
  {
   "cell_type": "markdown",
   "metadata": {},
   "source": [
    "--------------------------------------"
   ]
  },
  {
   "cell_type": "code",
   "execution_count": 38,
   "metadata": {},
   "outputs": [],
   "source": [
    "import adder"
   ]
  },
  {
   "cell_type": "code",
   "execution_count": 39,
   "metadata": {},
   "outputs": [
    {
     "name": "stdout",
     "output_type": "stream",
     "text": [
      "4\n"
     ]
    }
   ],
   "source": [
    "value = adder.add(2, 2)\n",
    "print(value)\n"
   ]
  },
  {
   "cell_type": "code",
   "execution_count": 40,
   "metadata": {},
   "outputs": [
    {
     "name": "stdout",
     "output_type": "stream",
     "text": [
      "8\n"
     ]
    }
   ],
   "source": [
    "import adder\n",
    "\n",
    "value = adder.add(2, 2)\n",
    "double_value = adder.double(value)\n",
    "print(double_value)  # 8\n"
   ]
  },
  {
   "cell_type": "code",
   "execution_count": 41,
   "metadata": {},
   "outputs": [
    {
     "name": "stdout",
     "output_type": "stream",
     "text": [
      "8\n"
     ]
    }
   ],
   "source": [
    "import adder as a\n",
    "\n",
    "value = a.add(2, 2)\n",
    "double_value = a.double(value)\n",
    "print(double_value)\n"
   ]
  },
  {
   "cell_type": "code",
   "execution_count": 42,
   "metadata": {},
   "outputs": [
    {
     "name": "stdout",
     "output_type": "stream",
     "text": [
      "4\n"
     ]
    }
   ],
   "source": [
    "from adder import add\n",
    "\n",
    "value = add(2, 2)\n",
    "print(value)\n"
   ]
  },
  {
   "cell_type": "markdown",
   "metadata": {},
   "source": [
    "---"
   ]
  },
  {
   "cell_type": "markdown",
   "metadata": {},
   "source": [
    "## Lab 7"
   ]
  },
  {
   "cell_type": "code",
   "execution_count": 43,
   "metadata": {},
   "outputs": [],
   "source": [
    "import os "
   ]
  },
  {
   "cell_type": "code",
   "execution_count": 44,
   "metadata": {},
   "outputs": [],
   "source": [
    "os.chdir(r\"C:\\Users\\Nabeel Ahmad\\Desktop\\Lab 10 Modules and Packages\\Pkg\")"
   ]
  },
  {
   "cell_type": "code",
   "execution_count": 45,
   "metadata": {},
   "outputs": [],
   "source": [
    "from lab7 import Square,Cube"
   ]
  },
  {
   "cell_type": "code",
   "execution_count": 46,
   "metadata": {},
   "outputs": [],
   "source": [
    "cube1 = Cube(2)"
   ]
  },
  {
   "cell_type": "code",
   "execution_count": 47,
   "metadata": {},
   "outputs": [
    {
     "data": {
      "text/plain": [
       "8"
      ]
     },
     "execution_count": 47,
     "metadata": {},
     "output_type": "execute_result"
    }
   ],
   "source": [
    "cube1.volume()"
   ]
  },
  {
   "cell_type": "code",
   "execution_count": 48,
   "metadata": {},
   "outputs": [],
   "source": [
    "from lab7 import Rectangle"
   ]
  },
  {
   "cell_type": "code",
   "execution_count": 49,
   "metadata": {},
   "outputs": [],
   "source": [
    "rect1 = Rectangle(4, 6)\n",
    "rect2 = Rectangle(3, 8)"
   ]
  },
  {
   "cell_type": "code",
   "execution_count": 50,
   "metadata": {},
   "outputs": [
    {
     "name": "stdout",
     "output_type": "stream",
     "text": [
      "Rectangle 1: Rectangle(width=4, height=6), Area: 24, Perimeter: 20\n",
      "Rectangle 2: Rectangle(width=3, height=8), Area: 24, Perimeter: 22\n"
     ]
    }
   ],
   "source": [
    "print(f\"Rectangle 1: {rect1}, Area: {rect1.area}, Perimeter: {rect1.perimeter}\")\n",
    "print(f\"Rectangle 2: {rect2}, Area: {rect2.area}, Perimeter: {rect2.perimeter}\")"
   ]
  },
  {
   "cell_type": "markdown",
   "metadata": {},
   "source": [
    "----------------------------------"
   ]
  },
  {
   "cell_type": "markdown",
   "metadata": {},
   "source": [
    "## Lab 8"
   ]
  },
  {
   "cell_type": "code",
   "execution_count": 51,
   "metadata": {},
   "outputs": [],
   "source": [
    "from lab8 import *"
   ]
  },
  {
   "cell_type": "code",
   "execution_count": 52,
   "metadata": {},
   "outputs": [],
   "source": [
    "# List of objects\n",
    "employees = [\n",
    "    Professor(1, \"Dr Qaisar Ali\", \"Professor\", 8, 21, 300000, \"Electrical Machine\", \"Signal and System\", \"12 Years\", \"Multimedia\"),\n",
    "    Associate_Prof(2, \"Akhtar Nawaz\", \"Associate Professor\", 10, 20, 250000, \"Power Analysis\", \"Circuit Analysis\", \"15 Years\", \"White Board\"),\n",
    "    Assistant_Prof(3, \"Waqas Imtiaz\", \"Assistant Professor\", 12, 19, 200000, \"Electric Cars\", \"Circuit Analysis\", \"5 Years\", \"Projector\"),\n",
    "    Lecturer(4, \"Irshad Ullah Sir\", \"Lecturer\", 14, 18, 100000, \"Renewable Energy\", \"OPPs And Ds\", \"7 Years\", \"Projector\"),\n",
    "    Lab_Engr(5, \"Waqar Hussain\", \"Lab Engineer\", 18, 17, 150000, \"Instrumentation\", 60, \"Circuit-1\"),\n",
    "    Lab_Technician(6, \"Wajid Ali\", \"Lab Technician\", 16, 16, 100000, \"Electronics Lab\", 50, \"DLD\"),\n",
    "    Lab_Assistant(7, \"M.Haris\", \"Lab Assistant\", 15, 16, 70000, \"Power Engineering Lab\", 54, \"AutoCAD\"),\n",
    "    Lab_Attendant(8, \"Shahzaib Khan\", \"Lab Attendant\", 14, 15, 50000, \"Computer Lab\", 33),\n",
    "]"
   ]
  },
  {
   "cell_type": "code",
   "execution_count": 53,
   "metadata": {},
   "outputs": [
    {
     "name": "stdout",
     "output_type": "stream",
     "text": [
      "Employee ID: 1, Name: Dr Qaisar Ali, Position: Professor, Workload: 8-Hours, Scale: 21, Base Pay: 300000, Research: Electrical Machine, Subject: Signal and System, Experience: 12 Years years, Teach Mode: Multimedia\n",
      "Employee ID: 2, Name: Akhtar Nawaz, Position: Associate Professor, Workload: 10-Hours, Scale: 20, Base Pay: 250000, Research: Power Analysis, Subject: Circuit Analysis, Experience: 15 Years years, Teach Mode: White Board\n",
      "Employee ID: 3, Name: Waqas Imtiaz, Position: Assistant Professor, Workload: 12-Hours, Scale: 19, Base Pay: 200000, Research: Electric Cars, Subject: Circuit Analysis, Experience: 5 Years years, Teach Mode: Projector\n",
      "Employee ID: 4, Name: Irshad Ullah Sir, Position: Lecturer, Workload: 14-Hours, Scale: 18, Base Pay: 100000, Research: Renewable Energy, Subject: OPPs And Ds, Experience: 7 Years years, Teach Mode: Projector\n",
      "Employee ID: 5, Name: Waqar Hussain, Position: Lab Engineer, Workload: 18-Hours, Scale: 17, Base Pay: 150000, Lab Name: Instrumentation, Lab Capacity: 60, Lab Subject: Circuit-1\n",
      "Employee ID: 6, Name: Wajid Ali, Position: Lab Technician, Workload: 16-Hours, Scale: 16, Base Pay: 100000, Lab Name: Electronics Lab, Lab Capacity: 50, Basic Lab : DLD\n",
      "Employee ID: 7, Name: M.Haris, Position: Lab Assistant, Workload: 15-Hours, Scale: 16, Base Pay: 70000, Lab Name: Power Engineering Lab, Lab Capacity: 54, Equipment Handle: AutoCAD\n",
      "Employee ID: 8, Name: Shahzaib Khan, Position: Lab Attendant, Workload: 14-Hours, Scale: 15, Base Pay: 50000, Lab Name: Computer Lab, Lab Capacity: 33\n"
     ]
    }
   ],
   "source": [
    "# Print all objects\n",
    "for employee in employees:\n",
    "    print(employee)"
   ]
  },
  {
   "cell_type": "markdown",
   "metadata": {},
   "source": [
    "-----------------------------------------"
   ]
  },
  {
   "cell_type": "markdown",
   "metadata": {},
   "source": [
    "## Lab 9"
   ]
  },
  {
   "cell_type": "code",
   "execution_count": 54,
   "metadata": {},
   "outputs": [],
   "source": [
    "from lab9 import Cube as C"
   ]
  },
  {
   "cell_type": "code",
   "execution_count": 55,
   "metadata": {},
   "outputs": [
    {
     "data": {
      "text/plain": [
       "54"
      ]
     },
     "execution_count": 55,
     "metadata": {},
     "output_type": "execute_result"
    }
   ],
   "source": [
    "cube = C(3)\n",
    "cube.surface_area()"
   ]
  },
  {
   "cell_type": "markdown",
   "metadata": {},
   "source": [
    "-------------------------------------------------"
   ]
  }
 ],
 "metadata": {
  "kernelspec": {
   "display_name": "base",
   "language": "python",
   "name": "python3"
  },
  "language_info": {
   "codemirror_mode": {
    "name": "ipython",
    "version": 3
   },
   "file_extension": ".py",
   "mimetype": "text/x-python",
   "name": "python",
   "nbconvert_exporter": "python",
   "pygments_lexer": "ipython3",
   "version": "3.12.4"
  }
 },
 "nbformat": 4,
 "nbformat_minor": 2
}
